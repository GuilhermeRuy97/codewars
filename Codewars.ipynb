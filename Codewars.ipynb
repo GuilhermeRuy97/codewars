{
  "nbformat": 4,
  "nbformat_minor": 0,
  "metadata": {
    "colab": {
      "name": "Codewars.ipynb",
      "provenance": [],
      "authorship_tag": "ABX9TyOu9C1ODcNxGK240SnTODEB",
      "include_colab_link": true
    },
    "kernelspec": {
      "name": "python3",
      "display_name": "Python 3"
    }
  },
  "cells": [
    {
      "cell_type": "markdown",
      "metadata": {
        "id": "view-in-github",
        "colab_type": "text"
      },
      "source": [
        "<a href=\"https://colab.research.google.com/github/GuilhermeRuy97/codewars/blob/main/Codewars.ipynb\" target=\"_parent\"><img src=\"https://colab.research.google.com/assets/colab-badge.svg\" alt=\"Open In Colab\"/></a>"
      ]
    },
    {
      "cell_type": "code",
      "metadata": {
        "colab": {
          "base_uri": "https://localhost:8080/"
        },
        "id": "-KqdI8wKDaib",
        "outputId": "4de93a9e-b1fa-4603-b0b0-2e6bfbc7f367"
      },
      "source": [
        "quote = \"How can mirrors be real if our eyes aren't real\"\r\n",
        "\r\n",
        "resultado_split = quote.split(sep = \" \")\r\n",
        "list(resultado_split)\r\n",
        "\r\n",
        "palavra = ''\r\n",
        "\r\n",
        "for word in resultado_split:\r\n",
        "  palavra = palavra + \" \" + word.capitalize()\r\n",
        "\r\n",
        "palavra.lstrip()\r\n",
        "\r\n",
        "return palavra"
      ],
      "execution_count": null,
      "outputs": [
        {
          "output_type": "stream",
          "text": [
            " How Can Mirrors Be Real If Our Eyes Aren't Real\n"
          ],
          "name": "stdout"
        }
      ]
    },
    {
      "cell_type": "code",
      "metadata": {
        "colab": {
          "base_uri": "https://localhost:8080/",
          "height": 36
        },
        "id": "br7KVzEyJNQE",
        "outputId": "b32e1d83-53ac-4c0a-a9a4-cd0667bec891"
      },
      "source": [
        "quote.capitalize()"
      ],
      "execution_count": null,
      "outputs": [
        {
          "output_type": "execute_result",
          "data": {
            "application/vnd.google.colaboratory.intrinsic+json": {
              "type": "string"
            },
            "text/plain": [
              "\"How can mirrors be real if our eyes aren't real\""
            ]
          },
          "metadata": {
            "tags": []
          },
          "execution_count": 20
        }
      ]
    },
    {
      "cell_type": "markdown",
      "metadata": {
        "id": "u6Mf_Yjcnh_1"
      },
      "source": [
        "# 2.0 \r\n",
        "Create a function that returns the sum of the two lowest positive numbers given an array of minimum 4 positive integers. No floats or non-positive integers will be passed.\r\n",
        "\r\n",
        "For example, when an array is passed like [19, 5, 42, 2, 77], the output should be 7.\r\n",
        "\r\n",
        "[10, 343445353, 3453445, 3453545353453] should return 3453455.\r\n"
      ]
    },
    {
      "cell_type": "code",
      "metadata": {
        "id": "MwrQbapNnzcr"
      },
      "source": [
        "# test.assert_equals(sum_two_smallest_numbers([5, 8, 12, 18, 22]), 13)\r\n",
        "# test.assert_equals(sum_two_smallest_numbers([7, 15, 12, 18, 22]), 19)\r\n",
        "# test.assert_equals(sum_two_smallest_numbers([25, 42, 12, 18, 22]), 30)"
      ],
      "execution_count": null,
      "outputs": []
    },
    {
      "cell_type": "code",
      "metadata": {
        "colab": {
          "base_uri": "https://localhost:8080/"
        },
        "id": "m-2xysf1noUV",
        "outputId": "97efb5d0-22ba-45fd-8f85-bfbd08fbd9db"
      },
      "source": [
        "numbers = [25, 42, 12, 18, 22]  #resultado esperado = 13\r\n",
        "\r\n",
        "sorted(numbers)\r\n",
        "sum(numbers[:2])"
      ],
      "execution_count": null,
      "outputs": [
        {
          "output_type": "execute_result",
          "data": {
            "text/plain": [
              "67"
            ]
          },
          "metadata": {
            "tags": []
          },
          "execution_count": 10
        }
      ]
    },
    {
      "cell_type": "markdown",
      "metadata": {
        "id": "uPQMSxhSr7d7"
      },
      "source": [
        "Minha solução:\r\n",
        "\r\n",
        "\r\n",
        "> def sum_two_smallest_numbers(numbers):<br>\r\n",
        "> &nbsp;&nbsp;&nbsp;&nbsp;numbers = sorted(numbers)<br>\r\n",
        "> &nbsp;&nbsp;&nbsp;&nbsp;return sum(numbers[0:2])<br>\r\n",
        "\r\n",
        "Comentários: É uma solução simples porém com alto custo, uma vez que necessita ordenar os vetores para depois fazer a soma."
      ]
    }
  ]
}