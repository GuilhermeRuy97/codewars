{
  "nbformat": 4,
  "nbformat_minor": 0,
  "metadata": {
    "colab": {
      "name": "PostgreSQL.ipynb",
      "provenance": [],
      "collapsed_sections": [
        "y3ZcKRCoK1kx",
        "MYelz4UgnKGA",
        "eb3o_ElZOY7O",
        "wxSr6s_DScSJ",
        "hyGnZeBTnNzo",
        "GraRjok-FODX"
      ],
      "authorship_tag": "ABX9TyORVwiQl+8fnGIyz/lneBEf",
      "include_colab_link": true
    },
    "kernelspec": {
      "name": "python3",
      "display_name": "Python 3"
    },
    "language_info": {
      "name": "python"
    }
  },
  "cells": [
    {
      "cell_type": "markdown",
      "metadata": {
        "id": "view-in-github",
        "colab_type": "text"
      },
      "source": [
        "<a href=\"https://colab.research.google.com/github/GuilhermeRuy97/codewars/blob/main/PostgreSQL.ipynb\" target=\"_parent\"><img src=\"https://colab.research.google.com/assets/colab-badge.svg\" alt=\"Open In Colab\"/></a>"
      ]
    },
    {
      "cell_type": "markdown",
      "source": [
        "## Instalação e uso sqlite3"
      ],
      "metadata": {
        "id": "y3ZcKRCoK1kx"
      }
    },
    {
      "cell_type": "code",
      "source": [
        "!pip install db-sqlite3"
      ],
      "metadata": {
        "colab": {
          "base_uri": "https://localhost:8080/"
        },
        "id": "-GnUtlx-KGPe",
        "outputId": "86bd2ba9-9cbe-462b-8c16-287c1fb567ca"
      },
      "execution_count": 1,
      "outputs": [
        {
          "output_type": "stream",
          "name": "stdout",
          "text": [
            "Collecting db-sqlite3\n",
            "  Downloading db-sqlite3-0.0.1.tar.gz (1.4 kB)\n",
            "Collecting db\n",
            "  Downloading db-0.1.1.tar.gz (3.4 kB)\n",
            "Collecting antiorm\n",
            "  Downloading antiorm-1.2.1.tar.gz (171 kB)\n",
            "\u001b[K     |████████████████████████████████| 171 kB 3.9 MB/s \n",
            "\u001b[?25hBuilding wheels for collected packages: db-sqlite3, db, antiorm\n",
            "  Building wheel for db-sqlite3 (setup.py) ... \u001b[?25l\u001b[?25hdone\n",
            "  Created wheel for db-sqlite3: filename=db_sqlite3-0.0.1-py3-none-any.whl size=1794 sha256=08e10d6274097c317e60e452f0ff3bec34e9412b01349dedad36415143234d10\n",
            "  Stored in directory: /root/.cache/pip/wheels/02/38/d5/2f54461050571bf5330fee2a37ab1c9b5e7540b0572f1acdab\n",
            "  Building wheel for db (setup.py) ... \u001b[?25l\u001b[?25hdone\n",
            "  Created wheel for db: filename=db-0.1.1-py3-none-any.whl size=3895 sha256=896b7021d1cf9ceac065c389350999511a25e5145e51c21341541a4f77122e2e\n",
            "  Stored in directory: /root/.cache/pip/wheels/8e/97/82/741d2b360507411ec233d0280d7371faa94b03bde834e4a9be\n",
            "  Building wheel for antiorm (setup.py) ... \u001b[?25l\u001b[?25hdone\n",
            "  Created wheel for antiorm: filename=antiorm-1.2.1-py3-none-any.whl size=31679 sha256=90ca8acc7c1955db5124939b50b5f6d4b27994c8045ca3545f754642c0bdc857\n",
            "  Stored in directory: /root/.cache/pip/wheels/c5/43/70/e9729370cfff40c49d3e3d05377d54b3ecd71f64e62341ea80\n",
            "Successfully built db-sqlite3 db antiorm\n",
            "Installing collected packages: antiorm, db, db-sqlite3\n",
            "Successfully installed antiorm-1.2.1 db-0.1.1 db-sqlite3-0.0.1\n"
          ]
        }
      ]
    },
    {
      "cell_type": "code",
      "source": [
        "import pandas as pd\n",
        "import sqlite3\n",
        "\n",
        "from datetime import date"
      ],
      "metadata": {
        "id": "KAU5rPkrI5Op"
      },
      "execution_count": 2,
      "outputs": []
    },
    {
      "cell_type": "code",
      "source": [
        "#connecting with the database.\n",
        "\n",
        "db = sqlite3.connect(\"testing.db\")\n",
        "db.execute(\"drop table if exists results\")\n",
        "try:\n",
        "  db.execute(\"create table results(Name text, Date datetime, Mobile text,Mail text)\")\n",
        "except:\n",
        "  print(\"Already table existed !!\")"
      ],
      "metadata": {
        "id": "LGdaTEJUKI5B"
      },
      "execution_count": 3,
      "outputs": []
    },
    {
      "cell_type": "code",
      "source": [
        "db = sqlite3.connect(\"testing.db\")"
      ],
      "metadata": {
        "id": "vYKxEA8wKLsu"
      },
      "execution_count": 4,
      "outputs": []
    },
    {
      "cell_type": "code",
      "source": [
        "Date = date.today().strftime(\"%d-%m-%Y\")\n",
        "Name = \"TestDemo\"\n",
        "Mobile = \"9000011101\"\n",
        "Mail = \"teachineMachine1@you.com\""
      ],
      "metadata": {
        "id": "oRSFIzkOKMqZ"
      },
      "execution_count": 5,
      "outputs": []
    },
    {
      "cell_type": "code",
      "source": [
        "cmd = \"insert into results(Name, Mobile,Date,Mail) values('{}','{}','{}','{}')\".format(Name,Mobile,Date,Mail)\n",
        "db.execute(cmd)\n",
        "db.commit()"
      ],
      "metadata": {
        "id": "g0SegMm9KNk9"
      },
      "execution_count": 6,
      "outputs": []
    },
    {
      "cell_type": "markdown",
      "source": [
        "Querying"
      ],
      "metadata": {
        "id": "rq4evp0DKV7U"
      }
    },
    {
      "cell_type": "code",
      "source": [
        "# modo 1\n",
        "\n",
        "db = sqlite3.connect(\"testing.db\")\n",
        "rs = db.execute('SELECT * FROM results')\n",
        "for row in rs:\n",
        "    print (row)"
      ],
      "metadata": {
        "colab": {
          "base_uri": "https://localhost:8080/"
        },
        "id": "4kb9paidKQH_",
        "outputId": "f731ea13-1b83-44e7-e4d0-a9e9df686686"
      },
      "execution_count": 7,
      "outputs": [
        {
          "output_type": "stream",
          "name": "stdout",
          "text": [
            "('TestDemo', '11-03-2022', '9000011101', 'teachineMachine1@you.com')\n"
          ]
        }
      ]
    },
    {
      "cell_type": "code",
      "source": [
        "# modo 2\n",
        "\n",
        "db = sqlite3.connect(\"testing.db\")\n",
        "qry = \"\"\"\n",
        "\n",
        "SELECT * FROM results\n",
        "\n",
        "\"\"\"\n",
        "df = pd.read_sql_query(qry, db)\n",
        "df.head()"
      ],
      "metadata": {
        "colab": {
          "base_uri": "https://localhost:8080/",
          "height": 81
        },
        "id": "BOBK18JcKRMg",
        "outputId": "b1b18980-fcd3-4fa3-fef4-5c2921cbde8b"
      },
      "execution_count": 8,
      "outputs": [
        {
          "output_type": "execute_result",
          "data": {
            "text/html": [
              "\n",
              "  <div id=\"df-d391f2e1-b64e-4eff-ba60-e3ed4839a3d4\">\n",
              "    <div class=\"colab-df-container\">\n",
              "      <div>\n",
              "<style scoped>\n",
              "    .dataframe tbody tr th:only-of-type {\n",
              "        vertical-align: middle;\n",
              "    }\n",
              "\n",
              "    .dataframe tbody tr th {\n",
              "        vertical-align: top;\n",
              "    }\n",
              "\n",
              "    .dataframe thead th {\n",
              "        text-align: right;\n",
              "    }\n",
              "</style>\n",
              "<table border=\"1\" class=\"dataframe\">\n",
              "  <thead>\n",
              "    <tr style=\"text-align: right;\">\n",
              "      <th></th>\n",
              "      <th>Name</th>\n",
              "      <th>Date</th>\n",
              "      <th>Mobile</th>\n",
              "      <th>Mail</th>\n",
              "    </tr>\n",
              "  </thead>\n",
              "  <tbody>\n",
              "    <tr>\n",
              "      <th>0</th>\n",
              "      <td>TestDemo</td>\n",
              "      <td>11-03-2022</td>\n",
              "      <td>9000011101</td>\n",
              "      <td>teachineMachine1@you.com</td>\n",
              "    </tr>\n",
              "  </tbody>\n",
              "</table>\n",
              "</div>\n",
              "      <button class=\"colab-df-convert\" onclick=\"convertToInteractive('df-d391f2e1-b64e-4eff-ba60-e3ed4839a3d4')\"\n",
              "              title=\"Convert this dataframe to an interactive table.\"\n",
              "              style=\"display:none;\">\n",
              "        \n",
              "  <svg xmlns=\"http://www.w3.org/2000/svg\" height=\"24px\"viewBox=\"0 0 24 24\"\n",
              "       width=\"24px\">\n",
              "    <path d=\"M0 0h24v24H0V0z\" fill=\"none\"/>\n",
              "    <path d=\"M18.56 5.44l.94 2.06.94-2.06 2.06-.94-2.06-.94-.94-2.06-.94 2.06-2.06.94zm-11 1L8.5 8.5l.94-2.06 2.06-.94-2.06-.94L8.5 2.5l-.94 2.06-2.06.94zm10 10l.94 2.06.94-2.06 2.06-.94-2.06-.94-.94-2.06-.94 2.06-2.06.94z\"/><path d=\"M17.41 7.96l-1.37-1.37c-.4-.4-.92-.59-1.43-.59-.52 0-1.04.2-1.43.59L10.3 9.45l-7.72 7.72c-.78.78-.78 2.05 0 2.83L4 21.41c.39.39.9.59 1.41.59.51 0 1.02-.2 1.41-.59l7.78-7.78 2.81-2.81c.8-.78.8-2.07 0-2.86zM5.41 20L4 18.59l7.72-7.72 1.47 1.35L5.41 20z\"/>\n",
              "  </svg>\n",
              "      </button>\n",
              "      \n",
              "  <style>\n",
              "    .colab-df-container {\n",
              "      display:flex;\n",
              "      flex-wrap:wrap;\n",
              "      gap: 12px;\n",
              "    }\n",
              "\n",
              "    .colab-df-convert {\n",
              "      background-color: #E8F0FE;\n",
              "      border: none;\n",
              "      border-radius: 50%;\n",
              "      cursor: pointer;\n",
              "      display: none;\n",
              "      fill: #1967D2;\n",
              "      height: 32px;\n",
              "      padding: 0 0 0 0;\n",
              "      width: 32px;\n",
              "    }\n",
              "\n",
              "    .colab-df-convert:hover {\n",
              "      background-color: #E2EBFA;\n",
              "      box-shadow: 0px 1px 2px rgba(60, 64, 67, 0.3), 0px 1px 3px 1px rgba(60, 64, 67, 0.15);\n",
              "      fill: #174EA6;\n",
              "    }\n",
              "\n",
              "    [theme=dark] .colab-df-convert {\n",
              "      background-color: #3B4455;\n",
              "      fill: #D2E3FC;\n",
              "    }\n",
              "\n",
              "    [theme=dark] .colab-df-convert:hover {\n",
              "      background-color: #434B5C;\n",
              "      box-shadow: 0px 1px 3px 1px rgba(0, 0, 0, 0.15);\n",
              "      filter: drop-shadow(0px 1px 2px rgba(0, 0, 0, 0.3));\n",
              "      fill: #FFFFFF;\n",
              "    }\n",
              "  </style>\n",
              "\n",
              "      <script>\n",
              "        const buttonEl =\n",
              "          document.querySelector('#df-d391f2e1-b64e-4eff-ba60-e3ed4839a3d4 button.colab-df-convert');\n",
              "        buttonEl.style.display =\n",
              "          google.colab.kernel.accessAllowed ? 'block' : 'none';\n",
              "\n",
              "        async function convertToInteractive(key) {\n",
              "          const element = document.querySelector('#df-d391f2e1-b64e-4eff-ba60-e3ed4839a3d4');\n",
              "          const dataTable =\n",
              "            await google.colab.kernel.invokeFunction('convertToInteractive',\n",
              "                                                     [key], {});\n",
              "          if (!dataTable) return;\n",
              "\n",
              "          const docLinkHtml = 'Like what you see? Visit the ' +\n",
              "            '<a target=\"_blank\" href=https://colab.research.google.com/notebooks/data_table.ipynb>data table notebook</a>'\n",
              "            + ' to learn more about interactive tables.';\n",
              "          element.innerHTML = '';\n",
              "          dataTable['output_type'] = 'display_data';\n",
              "          await google.colab.output.renderOutput(dataTable, element);\n",
              "          const docLink = document.createElement('div');\n",
              "          docLink.innerHTML = docLinkHtml;\n",
              "          element.appendChild(docLink);\n",
              "        }\n",
              "      </script>\n",
              "    </div>\n",
              "  </div>\n",
              "  "
            ],
            "text/plain": [
              "       Name        Date      Mobile                      Mail\n",
              "0  TestDemo  11-03-2022  9000011101  teachineMachine1@you.com"
            ]
          },
          "metadata": {},
          "execution_count": 8
        }
      ]
    },
    {
      "cell_type": "markdown",
      "source": [
        "Batch-wise data storage"
      ],
      "metadata": {
        "id": "FWbEN3FVKk_w"
      }
    },
    {
      "cell_type": "code",
      "source": [
        "def pushtoDB(Name,Mobile,Mail):\n",
        "#inserting values inside the created table\n",
        "    db = sqlite3.connect(\"testing.db\")    \n",
        "    from datetime import date\n",
        "    Date = date.today().strftime(\"%d-%m-%Y\")\n",
        "    cmd = \"insert into results(Name, Mobile,Date,Mail) values('{}','{}','{}','{}')\".format(Name,Mobile,Date,Mail)\n",
        "    db.execute(cmd)\n",
        "    db.commit()"
      ],
      "metadata": {
        "id": "njNH8mh6Kmyw"
      },
      "execution_count": 9,
      "outputs": []
    },
    {
      "cell_type": "code",
      "source": [
        "%%writefile dummy.csv\n",
        ";"
      ],
      "metadata": {
        "colab": {
          "base_uri": "https://localhost:8080/"
        },
        "id": "FFt3rklbM5cl",
        "outputId": "1533822c-02e3-4191-eb23-911809a0088f"
      },
      "execution_count": 11,
      "outputs": [
        {
          "output_type": "stream",
          "name": "stdout",
          "text": [
            "Writing dummy.csv\n"
          ]
        }
      ]
    },
    {
      "cell_type": "code",
      "source": [
        "data = pd.read_csv(\"dummy.csv\")\n",
        "data.head()\n",
        "data.shape"
      ],
      "metadata": {
        "colab": {
          "base_uri": "https://localhost:8080/"
        },
        "id": "D77BSxFSKn1M",
        "outputId": "1ddeb015-32b7-4901-de4c-1f7539777323"
      },
      "execution_count": 12,
      "outputs": [
        {
          "output_type": "execute_result",
          "data": {
            "text/plain": [
              "(0, 1)"
            ]
          },
          "metadata": {},
          "execution_count": 12
        }
      ]
    },
    {
      "cell_type": "code",
      "source": [
        "pushtoDB(\"Testttt\",\"121\",\"2112\")"
      ],
      "metadata": {
        "id": "7i-3nRG4Kosl"
      },
      "execution_count": 13,
      "outputs": []
    },
    {
      "cell_type": "code",
      "source": [
        "db = sqlite3.connect(\"testing.db\")\n",
        "qry = \"SELECT * FROM results\"\n",
        "df = pd.read_sql_query(qry, db)\n",
        "df.head()"
      ],
      "metadata": {
        "colab": {
          "base_uri": "https://localhost:8080/",
          "height": 112
        },
        "id": "zy7NxTQ6Kpgv",
        "outputId": "07568ffc-1f15-4208-ed72-dd4d770cbdc4"
      },
      "execution_count": 14,
      "outputs": [
        {
          "output_type": "execute_result",
          "data": {
            "text/html": [
              "\n",
              "  <div id=\"df-8c8e076b-d50b-459b-9129-bb45bbe7a9d1\">\n",
              "    <div class=\"colab-df-container\">\n",
              "      <div>\n",
              "<style scoped>\n",
              "    .dataframe tbody tr th:only-of-type {\n",
              "        vertical-align: middle;\n",
              "    }\n",
              "\n",
              "    .dataframe tbody tr th {\n",
              "        vertical-align: top;\n",
              "    }\n",
              "\n",
              "    .dataframe thead th {\n",
              "        text-align: right;\n",
              "    }\n",
              "</style>\n",
              "<table border=\"1\" class=\"dataframe\">\n",
              "  <thead>\n",
              "    <tr style=\"text-align: right;\">\n",
              "      <th></th>\n",
              "      <th>Name</th>\n",
              "      <th>Date</th>\n",
              "      <th>Mobile</th>\n",
              "      <th>Mail</th>\n",
              "    </tr>\n",
              "  </thead>\n",
              "  <tbody>\n",
              "    <tr>\n",
              "      <th>0</th>\n",
              "      <td>TestDemo</td>\n",
              "      <td>11-03-2022</td>\n",
              "      <td>9000011101</td>\n",
              "      <td>teachineMachine1@you.com</td>\n",
              "    </tr>\n",
              "    <tr>\n",
              "      <th>1</th>\n",
              "      <td>Testttt</td>\n",
              "      <td>11-03-2022</td>\n",
              "      <td>121</td>\n",
              "      <td>2112</td>\n",
              "    </tr>\n",
              "  </tbody>\n",
              "</table>\n",
              "</div>\n",
              "      <button class=\"colab-df-convert\" onclick=\"convertToInteractive('df-8c8e076b-d50b-459b-9129-bb45bbe7a9d1')\"\n",
              "              title=\"Convert this dataframe to an interactive table.\"\n",
              "              style=\"display:none;\">\n",
              "        \n",
              "  <svg xmlns=\"http://www.w3.org/2000/svg\" height=\"24px\"viewBox=\"0 0 24 24\"\n",
              "       width=\"24px\">\n",
              "    <path d=\"M0 0h24v24H0V0z\" fill=\"none\"/>\n",
              "    <path d=\"M18.56 5.44l.94 2.06.94-2.06 2.06-.94-2.06-.94-.94-2.06-.94 2.06-2.06.94zm-11 1L8.5 8.5l.94-2.06 2.06-.94-2.06-.94L8.5 2.5l-.94 2.06-2.06.94zm10 10l.94 2.06.94-2.06 2.06-.94-2.06-.94-.94-2.06-.94 2.06-2.06.94z\"/><path d=\"M17.41 7.96l-1.37-1.37c-.4-.4-.92-.59-1.43-.59-.52 0-1.04.2-1.43.59L10.3 9.45l-7.72 7.72c-.78.78-.78 2.05 0 2.83L4 21.41c.39.39.9.59 1.41.59.51 0 1.02-.2 1.41-.59l7.78-7.78 2.81-2.81c.8-.78.8-2.07 0-2.86zM5.41 20L4 18.59l7.72-7.72 1.47 1.35L5.41 20z\"/>\n",
              "  </svg>\n",
              "      </button>\n",
              "      \n",
              "  <style>\n",
              "    .colab-df-container {\n",
              "      display:flex;\n",
              "      flex-wrap:wrap;\n",
              "      gap: 12px;\n",
              "    }\n",
              "\n",
              "    .colab-df-convert {\n",
              "      background-color: #E8F0FE;\n",
              "      border: none;\n",
              "      border-radius: 50%;\n",
              "      cursor: pointer;\n",
              "      display: none;\n",
              "      fill: #1967D2;\n",
              "      height: 32px;\n",
              "      padding: 0 0 0 0;\n",
              "      width: 32px;\n",
              "    }\n",
              "\n",
              "    .colab-df-convert:hover {\n",
              "      background-color: #E2EBFA;\n",
              "      box-shadow: 0px 1px 2px rgba(60, 64, 67, 0.3), 0px 1px 3px 1px rgba(60, 64, 67, 0.15);\n",
              "      fill: #174EA6;\n",
              "    }\n",
              "\n",
              "    [theme=dark] .colab-df-convert {\n",
              "      background-color: #3B4455;\n",
              "      fill: #D2E3FC;\n",
              "    }\n",
              "\n",
              "    [theme=dark] .colab-df-convert:hover {\n",
              "      background-color: #434B5C;\n",
              "      box-shadow: 0px 1px 3px 1px rgba(0, 0, 0, 0.15);\n",
              "      filter: drop-shadow(0px 1px 2px rgba(0, 0, 0, 0.3));\n",
              "      fill: #FFFFFF;\n",
              "    }\n",
              "  </style>\n",
              "\n",
              "      <script>\n",
              "        const buttonEl =\n",
              "          document.querySelector('#df-8c8e076b-d50b-459b-9129-bb45bbe7a9d1 button.colab-df-convert');\n",
              "        buttonEl.style.display =\n",
              "          google.colab.kernel.accessAllowed ? 'block' : 'none';\n",
              "\n",
              "        async function convertToInteractive(key) {\n",
              "          const element = document.querySelector('#df-8c8e076b-d50b-459b-9129-bb45bbe7a9d1');\n",
              "          const dataTable =\n",
              "            await google.colab.kernel.invokeFunction('convertToInteractive',\n",
              "                                                     [key], {});\n",
              "          if (!dataTable) return;\n",
              "\n",
              "          const docLinkHtml = 'Like what you see? Visit the ' +\n",
              "            '<a target=\"_blank\" href=https://colab.research.google.com/notebooks/data_table.ipynb>data table notebook</a>'\n",
              "            + ' to learn more about interactive tables.';\n",
              "          element.innerHTML = '';\n",
              "          dataTable['output_type'] = 'display_data';\n",
              "          await google.colab.output.renderOutput(dataTable, element);\n",
              "          const docLink = document.createElement('div');\n",
              "          docLink.innerHTML = docLinkHtml;\n",
              "          element.appendChild(docLink);\n",
              "        }\n",
              "      </script>\n",
              "    </div>\n",
              "  </div>\n",
              "  "
            ],
            "text/plain": [
              "       Name        Date      Mobile                      Mail\n",
              "0  TestDemo  11-03-2022  9000011101  teachineMachine1@you.com\n",
              "1   Testttt  11-03-2022         121                      2112"
            ]
          },
          "metadata": {},
          "execution_count": 14
        }
      ]
    },
    {
      "cell_type": "code",
      "source": [
        "for i in range(0,len(data)):\n",
        "  pushtoDB(data.iloc[i][0],data.iloc[i][1],data.iloc[i][2])"
      ],
      "metadata": {
        "id": "BDuDsshEKq0Z"
      },
      "execution_count": 15,
      "outputs": []
    },
    {
      "cell_type": "code",
      "source": [
        "db = sqlite3.connect(\"testing.db\")\n",
        "qry = \"\"\"\n",
        "\n",
        "SELECT * FROM results WHERE Name=\"TestDemo\"\n",
        "\n",
        "\"\"\"\n",
        "df = pd.read_sql_query(qry, db)\n",
        "df.head()"
      ],
      "metadata": {
        "colab": {
          "base_uri": "https://localhost:8080/",
          "height": 81
        },
        "id": "pE6QUPenKrv3",
        "outputId": "b8b41e88-bdca-49d3-a2b2-2c0c61860f55"
      },
      "execution_count": 16,
      "outputs": [
        {
          "output_type": "execute_result",
          "data": {
            "text/html": [
              "\n",
              "  <div id=\"df-1e8175dd-38c1-4da7-9498-a3ff0e929361\">\n",
              "    <div class=\"colab-df-container\">\n",
              "      <div>\n",
              "<style scoped>\n",
              "    .dataframe tbody tr th:only-of-type {\n",
              "        vertical-align: middle;\n",
              "    }\n",
              "\n",
              "    .dataframe tbody tr th {\n",
              "        vertical-align: top;\n",
              "    }\n",
              "\n",
              "    .dataframe thead th {\n",
              "        text-align: right;\n",
              "    }\n",
              "</style>\n",
              "<table border=\"1\" class=\"dataframe\">\n",
              "  <thead>\n",
              "    <tr style=\"text-align: right;\">\n",
              "      <th></th>\n",
              "      <th>Name</th>\n",
              "      <th>Date</th>\n",
              "      <th>Mobile</th>\n",
              "      <th>Mail</th>\n",
              "    </tr>\n",
              "  </thead>\n",
              "  <tbody>\n",
              "    <tr>\n",
              "      <th>0</th>\n",
              "      <td>TestDemo</td>\n",
              "      <td>11-03-2022</td>\n",
              "      <td>9000011101</td>\n",
              "      <td>teachineMachine1@you.com</td>\n",
              "    </tr>\n",
              "  </tbody>\n",
              "</table>\n",
              "</div>\n",
              "      <button class=\"colab-df-convert\" onclick=\"convertToInteractive('df-1e8175dd-38c1-4da7-9498-a3ff0e929361')\"\n",
              "              title=\"Convert this dataframe to an interactive table.\"\n",
              "              style=\"display:none;\">\n",
              "        \n",
              "  <svg xmlns=\"http://www.w3.org/2000/svg\" height=\"24px\"viewBox=\"0 0 24 24\"\n",
              "       width=\"24px\">\n",
              "    <path d=\"M0 0h24v24H0V0z\" fill=\"none\"/>\n",
              "    <path d=\"M18.56 5.44l.94 2.06.94-2.06 2.06-.94-2.06-.94-.94-2.06-.94 2.06-2.06.94zm-11 1L8.5 8.5l.94-2.06 2.06-.94-2.06-.94L8.5 2.5l-.94 2.06-2.06.94zm10 10l.94 2.06.94-2.06 2.06-.94-2.06-.94-.94-2.06-.94 2.06-2.06.94z\"/><path d=\"M17.41 7.96l-1.37-1.37c-.4-.4-.92-.59-1.43-.59-.52 0-1.04.2-1.43.59L10.3 9.45l-7.72 7.72c-.78.78-.78 2.05 0 2.83L4 21.41c.39.39.9.59 1.41.59.51 0 1.02-.2 1.41-.59l7.78-7.78 2.81-2.81c.8-.78.8-2.07 0-2.86zM5.41 20L4 18.59l7.72-7.72 1.47 1.35L5.41 20z\"/>\n",
              "  </svg>\n",
              "      </button>\n",
              "      \n",
              "  <style>\n",
              "    .colab-df-container {\n",
              "      display:flex;\n",
              "      flex-wrap:wrap;\n",
              "      gap: 12px;\n",
              "    }\n",
              "\n",
              "    .colab-df-convert {\n",
              "      background-color: #E8F0FE;\n",
              "      border: none;\n",
              "      border-radius: 50%;\n",
              "      cursor: pointer;\n",
              "      display: none;\n",
              "      fill: #1967D2;\n",
              "      height: 32px;\n",
              "      padding: 0 0 0 0;\n",
              "      width: 32px;\n",
              "    }\n",
              "\n",
              "    .colab-df-convert:hover {\n",
              "      background-color: #E2EBFA;\n",
              "      box-shadow: 0px 1px 2px rgba(60, 64, 67, 0.3), 0px 1px 3px 1px rgba(60, 64, 67, 0.15);\n",
              "      fill: #174EA6;\n",
              "    }\n",
              "\n",
              "    [theme=dark] .colab-df-convert {\n",
              "      background-color: #3B4455;\n",
              "      fill: #D2E3FC;\n",
              "    }\n",
              "\n",
              "    [theme=dark] .colab-df-convert:hover {\n",
              "      background-color: #434B5C;\n",
              "      box-shadow: 0px 1px 3px 1px rgba(0, 0, 0, 0.15);\n",
              "      filter: drop-shadow(0px 1px 2px rgba(0, 0, 0, 0.3));\n",
              "      fill: #FFFFFF;\n",
              "    }\n",
              "  </style>\n",
              "\n",
              "      <script>\n",
              "        const buttonEl =\n",
              "          document.querySelector('#df-1e8175dd-38c1-4da7-9498-a3ff0e929361 button.colab-df-convert');\n",
              "        buttonEl.style.display =\n",
              "          google.colab.kernel.accessAllowed ? 'block' : 'none';\n",
              "\n",
              "        async function convertToInteractive(key) {\n",
              "          const element = document.querySelector('#df-1e8175dd-38c1-4da7-9498-a3ff0e929361');\n",
              "          const dataTable =\n",
              "            await google.colab.kernel.invokeFunction('convertToInteractive',\n",
              "                                                     [key], {});\n",
              "          if (!dataTable) return;\n",
              "\n",
              "          const docLinkHtml = 'Like what you see? Visit the ' +\n",
              "            '<a target=\"_blank\" href=https://colab.research.google.com/notebooks/data_table.ipynb>data table notebook</a>'\n",
              "            + ' to learn more about interactive tables.';\n",
              "          element.innerHTML = '';\n",
              "          dataTable['output_type'] = 'display_data';\n",
              "          await google.colab.output.renderOutput(dataTable, element);\n",
              "          const docLink = document.createElement('div');\n",
              "          docLink.innerHTML = docLinkHtml;\n",
              "          element.appendChild(docLink);\n",
              "        }\n",
              "      </script>\n",
              "    </div>\n",
              "  </div>\n",
              "  "
            ],
            "text/plain": [
              "       Name        Date      Mobile                      Mail\n",
              "0  TestDemo  11-03-2022  9000011101  teachineMachine1@you.com"
            ]
          },
          "metadata": {},
          "execution_count": 16
        }
      ]
    },
    {
      "cell_type": "markdown",
      "source": [
        "# Ranking 7"
      ],
      "metadata": {
        "id": "MYelz4UgnKGA"
      }
    },
    {
      "cell_type": "markdown",
      "source": [
        "## 11/03/2022 [2] SQL Basics: Maths with String Manipulations"
      ],
      "metadata": {
        "id": "eb3o_ElZOY7O"
      }
    },
    {
      "cell_type": "markdown",
      "source": [
        "Given a demographics table in the following format:\n",
        "\n",
        "**demographics table schema** <br>\n",
        "id <br>\n",
        "name <br>\n",
        "birthday <br>\n",
        "race <br>\n",
        "\n",
        "return a single column named calculation where the value is the bit length of name, added to the number of characters in race."
      ],
      "metadata": {
        "id": "7D2cKpZuTXTD"
      }
    },
    {
      "cell_type": "markdown",
      "source": [
        "```sql\n",
        "# solução\n",
        "\n",
        "SELECT\n",
        "  bit_length(d.name) + char_length(d.race) as calculation\n",
        "  from demographics d\n",
        "```"
      ],
      "metadata": {
        "id": "opyD5ekNS795"
      }
    },
    {
      "cell_type": "markdown",
      "source": [
        "![22.JPG](data:image/jpeg;base64,/9j/4AAQSkZJRgABAQEAYABgAAD/4RFARXhpZgAATU0AKgAAAAgABAE7AAIAAAAoAAAISodpAAQAAAABAAAIcpydAAEAAABOAAAQ6uocAAcAAAgMAAAAPgAAAAAc6gAAAAgAAAAAAAAAAAAAAAAAAAAAAAAAAAAAAAAAAAAAAAAAAAAAAAAAAAAAAAAAAAAAAAAAAAAAAAAAAAAAAAAAAAAAAAAAAAAAAAAAAAAAAAAAAAAAAAAAAAAAAAAAAAAAAAAAAAAAAAAAAAAAAAAAAAAAAAAAAAAAAAAAAAAAAAAAAAAAAAAAAAAAAAAAAAAAAAAAAAAAAAAAAAAAAAAAAAAAAAAAAAAAAAAAAAAAAAAAAAAAAAAAAAAAAAAAAAAAAAAAAAAAAAAAAAAAAAAAAAAAAAAAAAAAAAAAAAAAAAAAAAAAAAAAAAAAAAAAAAAAAAAAAAAAAAAAAAAAAAAAAAAAAAAAAAAAAAAAAAAAAAAAAAAAAAAAAAAAAAAAAAAAAAAAAAAAAAAAAAAAAAAAAAAAAAAAAAAAAAAAAAAAAAAAAAAAAAAAAAAAAAAAAAAAAAAAAAAAAAAAAAAAAAAAAAAAAAAAAAAAAAAAAAAAAAAAAAAAAAAAAAAAAAAAAAAAAAAAAAAAAAAAAAAAAAAAAAAAAAAAAAAAAAAAAAAAAAAAAAAAAAAAAAAAAAAAAAAAAAAAAAAAAAAAAAAAAAAAAAAAAAAAAAAAAAAAAAAAAAAAAAAAAAAAAAAAAAAAAAAAAAAAAAAAAAAAAAAAAAAAAAAAAAAAAAAAAAAAAAAAAAAAAAAAAAAAAAAAAAAAAAAAAAAAAAAAAAAAAAAAAAAAAAAAAAAAAAAAAAAAAAAAAAAAAAAAAAAAAAAAAAAAAAAAAAAAAAAAAAAAAAAAAAAAAAAAAAAAAAAAAAAAAAAAAAAAAAAAAAAAAAAAAAAAAAAAAAAAAAAAAAAAAAAAAAAAAAAAAAAAAAAAAAAAAAAAAAAAAAAAAAAAAAAAAAAAAAAAAAAAAAAAAAAAAAAAAAAAAAAAAAAAAAAAAAAAAAAAAAAAAAAAAAAAAAAAAAAAAAAAAAAAAAAAAAAAAAAAAAAAAAAAAAAAAAAAAAAAAAAAAAAAAAAAAAAAAAAAAAAAAAAAAAAAAAAAAAAAAAAAAAAAAAAAAAAAAAAAAAAAAAAAAAAAAAAAAAAAAAAAAAAAAAAAAAAAAAAAAAAAAAAAAAAAAAAAAAAAAAAAAAAAAAAAAAAAAAAAAAAAAAAAAAAAAAAAAAAAAAAAAAAAAAAAAAAAAAAAAAAAAAAAAAAAAAAAAAAAAAAAAAAAAAAAAAAAAAAAAAAAAAAAAAAAAAAAAAAAAAAAAAAAAAAAAAAAAAAAAAAAAAAAAAAAAAAAAAAAAAAAAAAAAAAAAAAAAAAAAAAAAAAAAAAAAAAAAAAAAAAAAAAAAAAAAAAAAAAAAAAAAAAAAAAAAAAAAAAAAAAAAAAAAAAAAAAAAAAAAAAAAAAAAAAAAAAAAAAAAAAAAAAAAAAAAAAAAAAAAAAAAAAAAAAAAAAAAAAAAAAAAAAAAAAAAAAAAAAAAAAAAAAAAAAAAAAAAAAAAAAAAAAAAAAAAAAAAAAAAAAAAAAAAAAAAAAAAAAAAAAAAAAAAAAAAAAAAAAAAAAAAAAAAAAAAAAAAAAAAAAAAAAAAAAAAAAAAAAAAAAAAAAAAAAAAAAAAAAAAAAAAAAAAAAAAAAAAAAAAAAAAAAAAAAAAAAAAAAAAAAAAAAAAAAAAAAAAAAAAAAAAAAAAAAAAAAAAAAAAAAAAAAAAAAAAAAAAAAAAAAAAAAAAAAAAAAAAAAAAAAAAAAAAAAAAAAAAAAAAAAAAAAAAAAAAAAAAAAAAAAAAAAAAAAAAAAAAAAAAAAAAAAAAAAAAAAAAAAAAAAAAAAAAAAAAAAAAAAAAAAAAAAAAAAAAAAAAAAAAAAAAAAAAAAAAAAAAAAAAAAAAAAAAAAAAAAAAAAAAAAAAAAAAAAAAAAAAAAAAAAAAAAAAAAAAAAAAAAAAAAAAAAAAAAAAAAAAAAAAAAAAAAAAAAAAAAAAAAAAAAAAAAAAAAAAAAAAAAAAAAAAAAAAAAAAAAAAAAAAAAAAAAAAAAAAAAAAAAAAAAAAAAAAAAAAAAAAAAAAAAAAAAAAAAAAAAAAAAAAAAAAAAAAAAAAAAAAAAAAAAAAAAAAAAAAAAAAAAAAAAAAAAAAAAAAAAAAAAAAAAAAAAAAAAAAAAAAAAAAAAAAAAAAAAAAAAAAAAAAAAAAAAAAAAAAAAAAAAAAAAAAAAAAAAAAAAAAAAAAAAAAAAAAAAAAAAAAAAAAAAAAAAAAAAAAAAAAAAAAAAAAAAAAAAAAAAAAAAAAAAAAAAAAAAAAAAAAAAAAAAAAAAAAAAAAAAAAAAAAAAAAAAAAAAAAAAAAAAAAAAAAAAAAAAAAAAAAAAAAAAAAAAAAAAAAAAAAAAAAAAAAAAAAAAAAAAAAAAAAAAAAAAAAAAAAAAAAAAAAAAAAAAAAAAAAAAAAAAAAAAAAAAAAAAAAAAAAAAAAAAAAAAAAAAAAAAAAAAAAAAAAAAAAAAAAAAAAAAAAAAAAAAAAAAAAAAAAAAAAAAAAAAAAAAAAAAAAAAAAAAAAAAAAAAAAAAAAAAAAAAAAAAAAAAAAAAAAAAAAAAAAAAAAAAAAAAAAAAAAAAAAAAAAAAAAAAAAAAAAAAAAAAAAAAAAAAAAAAAAAAAAAAAAAAAAAAAAAAAAAAAAAAAAAAAAAAAAAAAAAAAAAAAAAAAAAAAAAAAAAAAAAAAAAAAAAAAAAAAAAAAAAAAAAAAAAAAAAAAAAAAAAAAAAAAAAAAAAAAAAAAAEd1aWxoZXJtZSBSdXkgfCBVbmltZWQgUG/Dp29zIGRlIENhbGRhcwAABZADAAIAAAAUAAAQwJAEAAIAAAAUAAAQ1JKRAAIAAAADOTQAAJKSAAIAAAADOTQAAOocAAcAAAgMAAAItAAAAAAc6gAAAAgAAAAAAAAAAAAAAAAAAAAAAAAAAAAAAAAAAAAAAAAAAAAAAAAAAAAAAAAAAAAAAAAAAAAAAAAAAAAAAAAAAAAAAAAAAAAAAAAAAAAAAAAAAAAAAAAAAAAAAAAAAAAAAAAAAAAAAAAAAAAAAAAAAAAAAAAAAAAAAAAAAAAAAAAAAAAAAAAAAAAAAAAAAAAAAAAAAAAAAAAAAAAAAAAAAAAAAAAAAAAAAAAAAAAAAAAAAAAAAAAAAAAAAAAAAAAAAAAAAAAAAAAAAAAAAAAAAAAAAAAAAAAAAAAAAAAAAAAAAAAAAAAAAAAAAAAAAAAAAAAAAAAAAAAAAAAAAAAAAAAAAAAAAAAAAAAAAAAAAAAAAAAAAAAAAAAAAAAAAAAAAAAAAAAAAAAAAAAAAAAAAAAAAAAAAAAAAAAAAAAAAAAAAAAAAAAAAAAAAAAAAAAAAAAAAAAAAAAAAAAAAAAAAAAAAAAAAAAAAAAAAAAAAAAAAAAAAAAAAAAAAAAAAAAAAAAAAAAAAAAAAAAAAAAAAAAAAAAAAAAAAAAAAAAAAAAAAAAAAAAAAAAAAAAAAAAAAAAAAAAAAAAAAAAAAAAAAAAAAAAAAAAAAAAAAAAAAAAAAAAAAAAAAAAAAAAAAAAAAAAAAAAAAAAAAAAAAAAAAAAAAAAAAAAAAAAAAAAAAAAAAAAAAAAAAAAAAAAAAAAAAAAAAAAAAAAAAAAAAAAAAAAAAAAAAAAAAAAAAAAAAAAAAAAAAAAAAAAAAAAAAAAAAAAAAAAAAAAAAAAAAAAAAAAAAAAAAAAAAAAAAAAAAAAAAAAAAAAAAAAAAAAAAAAAAAAAAAAAAAAAAAAAAAAAAAAAAAAAAAAAAAAAAAAAAAAAAAAAAAAAAAAAAAAAAAAAAAAAAAAAAAAAAAAAAAAAAAAAAAAAAAAAAAAAAAAAAAAAAAAAAAAAAAAAAAAAAAAAAAAAAAAAAAAAAAAAAAAAAAAAAAAAAAAAAAAAAAAAAAAAAAAAAAAAAAAAAAAAAAAAAAAAAAAAAAAAAAAAAAAAAAAAAAAAAAAAAAAAAAAAAAAAAAAAAAAAAAAAAAAAAAAAAAAAAAAAAAAAAAAAAAAAAAAAAAAAAAAAAAAAAAAAAAAAAAAAAAAAAAAAAAAAAAAAAAAAAAAAAAAAAAAAAAAAAAAAAAAAAAAAAAAAAAAAAAAAAAAAAAAAAAAAAAAAAAAAAAAAAAAAAAAAAAAAAAAAAAAAAAAAAAAAAAAAAAAAAAAAAAAAAAAAAAAAAAAAAAAAAAAAAAAAAAAAAAAAAAAAAAAAAAAAAAAAAAAAAAAAAAAAAAAAAAAAAAAAAAAAAAAAAAAAAAAAAAAAAAAAAAAAAAAAAAAAAAAAAAAAAAAAAAAAAAAAAAAAAAAAAAAAAAAAAAAAAAAAAAAAAAAAAAAAAAAAAAAAAAAAAAAAAAAAAAAAAAAAAAAAAAAAAAAAAAAAAAAAAAAAAAAAAAAAAAAAAAAAAAAAAAAAAAAAAAAAAAAAAAAAAAAAAAAAAAAAAAAAAAAAAAAAAAAAAAAAAAAAAAAAAAAAAAAAAAAAAAAAAAAAAAAAAAAAAAAAAAAAAAAAAAAAAAAAAAAAAAAAAAAAAAAAAAAAAAAAAAAAAAAAAAAAAAAAAAAAAAAAAAAAAAAAAAAAAAAAAAAAAAAAAAAAAAAAAAAAAAAAAAAAAAAAAAAAAAAAAAAAAAAAAAAAAAAAAAAAAAAAAAAAAAAAAAAAAAAAAAAAAAAAAAAAAAAAAAAAAAAAAAAAAAAAAAAAAAAAAAAAAAAAAAAAAAAAAAAAAAAAAAAAAAAAAAAAAAAAAAAAAAAAAAAAAAAAAAAAAAAAAAAAAAAAAAAAAAAAAAAAAAAAAAAAAAAAAAAAAAAAAAAAAAAAAAAAAAAAAAAAAAAAAAAAAAAAAAAAAAAAAAAAAAAAAAAAAAAAAAAAAAAAAAAAAAAAAAAAAAAAAAAAAAAAAAAAAAAAAAAAAAAAAAAAAAAAAAAAAAAAAAAAAAAAAAAAAAAAAAAAAAAAAAAAAAAAAAAAAAAAAAAAAAAAAAAAAAAAAAAAAAAAAAAAAAAAAAAAAAAAAAAAAAAAAAAAAAAAAAAAAAAAAAAAAAAAAAAAAAAAAAAAAAAAAAAAAAAAAAAAAAAAAAAAAAAAAAAAAAAAAAAAAAAAAAAAAAAAAAAAAAAAAAAAAAAAAAAAAAAAAAAAAAAAAAAAAAAAAAAAAAAAAAAAAAAAAAAAAAAAAAAAAAAAAAAAAAAAAAAAAAAAAAAAAAAAAAAAAAAAAAAAAAAAAAAAAAAAAAAAAAAAAAAAAAAAAAAAAAAAAAAAAAAAAAAAAAAAAAAAAAAAAAAAAAAAAAAAAAAAAAAAAAAAAAAAAAAAAAAAAAAAAAAAAAAAAAAAAAAAAAAAAAAAAAAAAAAAAAAAAAAAAAAAAAAAAAAAAAAAAAAAAAAAAAAAAAAAAAAAAAAAAAAAAAAAAAAAAAAAAAAAAAAAAAAAAAAAAAAAAAAAAAAAAAAAAAAAAAAAAAAAAAAAAAAAAAAAAAAAAAAAAAAAAAAAAAAAAAAAAAAAAAAAAAAAAAAAAAAAAAAAAAAAAAAAAAAAAAAAAAAAAAAAAAAAAAAAAAAAAAAAAAAAAAAAAAAAAAAAAAAAAAAAAAAAAAAAAAAAAAAAAAAAAAAAAAAAAAAAAAAAAAAAAAAAAAAAAAAAAAAAAAAAAAAAAAAAAAAAAAAAADIwMjI6MDM6MTEgMTE6MDA6MjMAMjAyMjowMzoxMSAxMTowMDoyMwAAAEcAdQBpAGwAaABlAHIAbQBlACAAUgB1AHkAIAB8ACAAVQBuAGkAbQBlAGQAIABQAG8A5wBvAHMAIABkAGUAIABDAGEAbABkAGEAcwAAAP/hCzpodHRwOi8vbnMuYWRvYmUuY29tL3hhcC8xLjAvADw/eHBhY2tldCBiZWdpbj0n77u/JyBpZD0nVzVNME1wQ2VoaUh6cmVTek5UY3prYzlkJz8+DQo8eDp4bXBtZXRhIHhtbG5zOng9ImFkb2JlOm5zOm1ldGEvIj48cmRmOlJERiB4bWxuczpyZGY9Imh0dHA6Ly93d3cudzMub3JnLzE5OTkvMDIvMjItcmRmLXN5bnRheC1ucyMiPjxyZGY6RGVzY3JpcHRpb24gcmRmOmFib3V0PSJ1dWlkOmZhZjViZGQ1LWJhM2QtMTFkYS1hZDMxLWQzM2Q3NTE4MmYxYiIgeG1sbnM6ZGM9Imh0dHA6Ly9wdXJsLm9yZy9kYy9lbGVtZW50cy8xLjEvIi8+PHJkZjpEZXNjcmlwdGlvbiByZGY6YWJvdXQ9InV1aWQ6ZmFmNWJkZDUtYmEzZC0xMWRhLWFkMzEtZDMzZDc1MTgyZjFiIiB4bWxuczp4bXA9Imh0dHA6Ly9ucy5hZG9iZS5jb20veGFwLzEuMC8iPjx4bXA6Q3JlYXRlRGF0ZT4yMDIyLTAzLTExVDExOjAwOjIzLjk0MzwveG1wOkNyZWF0ZURhdGU+PC9yZGY6RGVzY3JpcHRpb24+PHJkZjpEZXNjcmlwdGlvbiByZGY6YWJvdXQ9InV1aWQ6ZmFmNWJkZDUtYmEzZC0xMWRhLWFkMzEtZDMzZDc1MTgyZjFiIiB4bWxuczpkYz0iaHR0cDovL3B1cmwub3JnL2RjL2VsZW1lbnRzLzEuMS8iPjxkYzpjcmVhdG9yPjxyZGY6U2VxIHhtbG5zOnJkZj0iaHR0cDovL3d3dy53My5vcmcvMTk5OS8wMi8yMi1yZGYtc3ludGF4LW5zIyI+PHJkZjpsaT5HdWlsaGVybWUgUnV5IHwgVW5pbWVkIFBvw6dvcyBkZSBDYWxkYXM8L3JkZjpsaT48L3JkZjpTZXE+DQoJCQk8L2RjOmNyZWF0b3I+PC9yZGY6RGVzY3JpcHRpb24+PC9yZGY6UkRGPjwveDp4bXBtZXRhPg0KICAgICAgICAgICAgICAgICAgICAgICAgICAgICAgICAgICAgICAgICAgICAgICAgICAgICAgICAgICAgICAgICAgICAgICAgICAgICAgICAgICAgICAgICAgICAgICAgICAgIAogICAgICAgICAgICAgICAgICAgICAgICAgICAgICAgICAgICAgICAgICAgICAgICAgICAgICAgICAgICAgICAgICAgICAgICAgICAgICAgICAgICAgICAgICAgICAgICAgICAgCiAgICAgICAgICAgICAgICAgICAgICAgICAgICAgICAgICAgICAgICAgICAgICAgICAgICAgICAgICAgICAgICAgICAgICAgICAgICAgICAgICAgICAgICAgICAgICAgICAgICAKICAgICAgICAgICAgICAgICAgICAgICAgICAgICAgICAgICAgICAgICAgICAgICAgICAgICAgICAgICAgICAgICAgICAgICAgICAgICAgICAgICAgICAgICAgICAgICAgICAgIAogICAgICAgICAgICAgICAgICAgICAgICAgICAgICAgICAgICAgICAgICAgICAgICAgICAgICAgICAgICAgICAgICAgICAgICAgICAgICAgICAgICAgICAgICAgICAgICAgICAgCiAgICAgICAgICAgICAgICAgICAgICAgICAgICAgICAgICAgICAgICAgICAgICAgICAgICAgICAgICAgICAgICAgICAgICAgICAgICAgICAgICAgICAgICAgICAgICAgICAgICAKICAgICAgICAgICAgICAgICAgICAgICAgICAgICAgICAgICAgICAgICAgICAgICAgICAgICAgICAgICAgICAgICAgICAgICAgICAgICAgICAgICAgICAgICAgICAgICAgICAgIAogICAgICAgICAgICAgICAgICAgICAgICAgICAgICAgICAgICAgICAgICAgICAgICAgICAgICAgICAgICAgICAgICAgICAgICAgICAgICAgICAgICAgICAgICAgICAgICAgICAgCiAgICAgICAgICAgICAgICAgICAgICAgICAgICAgICAgICAgICAgICAgICAgICAgICAgICAgICAgICAgICAgICAgICAgICAgICAgICAgICAgICAgICAgICAgICAgICAgICAgICAKICAgICAgICAgICAgICAgICAgICAgICAgICAgICAgICAgICAgICAgICAgICAgICAgICAgICAgICAgICAgICAgICAgICAgICAgICAgICAgICAgICAgICAgICAgICAgICAgICAgIAogICAgICAgICAgICAgICAgICAgICAgICAgICAgICAgICAgICAgICAgICAgICAgICAgICAgICAgICAgICAgICAgICAgICAgICAgICAgICAgICAgICAgICAgICAgICAgICAgICAgCiAgICAgICAgICAgICAgICAgICAgICAgICAgICAgICAgICAgICAgICAgICAgICAgICAgICAgICAgICAgICAgICAgICAgICAgICAgICAgICAgICAgICAgICAgICAgICAgICAgICAKICAgICAgICAgICAgICAgICAgICAgICAgICAgICAgICAgICAgICAgICAgICAgICAgICAgICAgICAgICAgICAgICAgICAgICAgICAgICAgICAgICAgICAgICAgICAgICAgICAgIAogICAgICAgICAgICAgICAgICAgICAgICAgICAgICAgICAgICAgICAgICAgICAgICAgICAgICAgICAgICAgICAgICAgICAgICAgICAgICAgICAgICAgICAgICAgICAgICAgICAgCiAgICAgICAgICAgICAgICAgICAgICAgICAgICAgICAgICAgICAgICAgICAgICAgICAgICAgICAgICAgICAgICAgICAgICAgICAgICAgICAgICAgICAgICAgICAgICAgICAgICAKICAgICAgICAgICAgICAgICAgICAgICAgICAgICAgICAgICAgICAgICAgICAgICAgICAgICAgICAgICAgICAgICAgICAgICAgICAgICAgICAgICAgICAgICAgICAgICAgICAgIAogICAgICAgICAgICAgICAgICAgICAgICAgICAgICAgICAgICAgICAgICAgICAgICAgICAgICAgICAgICAgICAgICAgICAgICAgICAgICAgICAgICAgICAgICAgICAgICAgICAgCiAgICAgICAgICAgICAgICAgICAgICAgICAgICAgICAgICAgICAgICAgICAgICAgICAgICAgICAgICAgICAgICAgICAgICAgICAgICAgICAgICAgICAgICAgICAgICAgICAgICAKICAgICAgICAgICAgICAgICAgICAgICAgICAgICAgICAgICAgICAgICAgICAgICAgICAgICAgICAgICAgICAgICAgICAgICAgICAgICAgICAgICAgICAgICAgICAgICAgICAgIAogICAgICAgICAgICAgICAgICAgICAgICAgICAgICAgICAgICAgICAgICAgICAgICAgICAgICAgICAgICAgICAgICAgICAgICAgICAgICAgICAgICAgICAgICAgICAgICAgICAgCiAgICAgICAgICAgICAgICAgICAgICAgICAgICA8P3hwYWNrZXQgZW5kPSd3Jz8+/9sAQwAHBQUGBQQHBgUGCAcHCAoRCwoJCQoVDxAMERgVGhkYFRgXGx4nIRsdJR0XGCIuIiUoKSssKxogLzMvKjInKisq/9sAQwEHCAgKCQoUCwsUKhwYHCoqKioqKioqKioqKioqKioqKioqKioqKioqKioqKioqKioqKioqKioqKioqKioqKioq/8AAEQgB+AIkAwEiAAIRAQMRAf/EAB8AAAEFAQEBAQEBAAAAAAAAAAABAgMEBQYHCAkKC//EALUQAAIBAwMCBAMFBQQEAAABfQECAwAEEQUSITFBBhNRYQcicRQygZGhCCNCscEVUtHwJDNicoIJChYXGBkaJSYnKCkqNDU2Nzg5OkNERUZHSElKU1RVVldYWVpjZGVmZ2hpanN0dXZ3eHl6g4SFhoeIiYqSk5SVlpeYmZqio6Slpqeoqaqys7S1tre4ubrCw8TFxsfIycrS09TV1tfY2drh4uPk5ebn6Onq8fLz9PX29/j5+v/EAB8BAAMBAQEBAQEBAQEAAAAAAAABAgMEBQYHCAkKC//EALURAAIBAgQEAwQHBQQEAAECdwABAgMRBAUhMQYSQVEHYXETIjKBCBRCkaGxwQkjM1LwFWJy0QoWJDThJfEXGBkaJicoKSo1Njc4OTpDREVGR0hJSlNUVVZXWFlaY2RlZmdoaWpzdHV2d3h5eoKDhIWGh4iJipKTlJWWl5iZmqKjpKWmp6ipqrKztLW2t7i5usLDxMXGx8jJytLT1NXW19jZ2uLj5OXm5+jp6vLz9PX29/j5+v/aAAwDAQACEQMRAD8A8lpCwHUgfjS1BP8AfH0piJd6/wB4fnRvX+8PzqrRQBa3r/eH50b1/vD86q0UAWt6/wB4fnRvX+8PzqrRQBa3r/eH50b1/vD86q0UAWt6/wB4fnRvX+8PzqrRQBa3r/eH50b1/vD86q0UAWt6/wB4fnShgTgEE/WqlPh/18f+8P50AWtj/wB1vyo2P/db8quUUAU9j/3W/KjY/wDdb8quUUAU9j/3W/KjY/8Adb8quUUAU9j/AN1vyo2P/db8quUUAU9j/wB1vyo2P/db8quUUAUm+T7/AMuemeKbvX+8Pzp+of8ALP8AH+lUqALW9f7w/Ojev94fnVWigC1vX+8Pzo3r/eH51VooAtb1/vD86N6/3h+dVaKALW9f7w/Ojev94fnVWigC1vX+8Pzo3r/eH51VooAtb1/vD86N6/3h+dVaKALW9f7w/Ojev94fnVWigC1vX+8Pzo3r/eH51VooAtb1/vD86N6/3h+dVaKALW9f7w/Ojev94fnVWigC1vX+8Pzo3r/eH51VooAtb1/vD86N6/3h+dVaKALW9f7w/Ojev94fnVWigC1vX+8Pzo3r/eH51VooAtb1/vD86N6/3h+dVaKALW9f7w/Ojev94fnVWigC1vX+8Pzo3r/eH51VooAtb1/vD86N6/3h+dVaKALW9f7w/Ojev94fnVWigC1vX+8Pzp1U6uUAFFFFABUE/wB8fSp6gn++PpQBFVrTtOutVv47Kwi824lzsTcFzgEnkkDoDVWul+Hv/I+ab9ZP/RbUAc2ylWKtwQcGkrvLEwWmi6A66fYyyXmpyRTyT2qSM6b1G3LA+vXr6Gra2FlDqNzoun2NvDdte3HkvfWImhukX/lmJOWTaM/d9OSKAPP5LOeKzhupIysM5ZYnJHzFcbvyyKgrup7mabwv4Uha3tmhlnlWXFpGcATKB823Iz0JB+bvmrBS3u/GXiDTv7OsVt7S1ufs8UVnGCrADByBuJ6nk8dsUAee1PZ2Vxf3It7SMyylSwUEDgAknn2BrutD0SxuIPCgvbOPfNHdylGjwbllOY1Y9WHp7cd6PCGpXtxrLtcaVZW4+zXOyWPT0j3EL9zhcHH0zzgk0AcUdLvRo41QwH7E03kiXcPv4zjGc9O+MVTrvtD02y1fTdLbVraCN7jWTHMyQrCWXyshPlAwCccDHWlggi1Sz1J9T0uztGstThjtzFaLF96TDRHaBuGMH5snmgDgKK9D1O2tLxfFlt/Z1nEmmTRm1FvbLG6/vMFdwGTkeufbHFUPE8UF1o095ptpbW9rDcJC9vLYi3ubV8H5dy/6wHBJ3En2FAHF0+H/AF8f+8P50ynw/wCvj/3h/OgDWooooA1NP8O6pqdlJeWtui2kTBWuLiZIItx7b5GUE+wOah1XR9Q0S7+zapavbyFQy5wVdT3VhkMPcEiun8SxvdfDzwzcacrNYW8ckVxsHyxzlud3oT2JrpdDsYmsvBela9apLdtJdSLb3MYYiAoxUEHsWwQD6UAeURRvNMkUSlndgqqO5PQVJe2c+n3s1peR+XPCxSRMg7SO2RxXd6FZpZeFvD181jCt0/iBYjLLbqzMmMFfmHIBz9CM9RWnMwn8U+M7m/0yxuWsLaSW2WayTGVk+8cAbuhyTnOCDQB5VViwsbnU76KzsYjNcTHaiAgZP1PFemjSbG90a3vpdLtEv7rw3dzPHFbKoLqU8uVUAwrEE8gCpPC9umn6h4GeGyt4pby2ujM7WyF5MKSpyRn6EduOhoA8moqzfz3FxeNJdxRxSkDKR26QgccfIoAHHtVagCnqH/LP8f6VSq7qH/LP8f6VSoAltreW7uora3XfLM4jRcgZYnAGT71o3nhjVbG2nuJoInjtn2TmC5jmMJ6YcIxK8jHNR+Hf+Ro0r/r8h/8AQxXUXGo6bYaxr9lYG5u7/VblrUrcRLFDGDKc8h2Lc8A4X1oA4Wpba3lu7qK3tkMk0rhEUdyTgCvRrvTLFtLvPtNjDdz6dfW8bx2GniBck4eFHzvl4/vDPQ96XT1VvFGi6hYxWJsri/eNP+JclvNCcZMTKBtO3jDjLZzyOlAHnH2ab7V9mEbNPv8ALEajcS2cYGOpzV/UPDmqaZbPcXcEYijk8qQxXEcvlv8A3WCMSp474q3Je6mPGwurK1WS+iuS0MMNoo37WJHyIBnjv1966bTtH0HxRfJqcljcaUf7RWC5tZJ90crMCSFJAYNnqOwNAHnsMTzzxwxLukkYKozjJJwKkvLOfT72a0u08ueFykiZB2kdRkcV3VrGmoW2oT3+m2tjJp+qQJbPBarCQTJhojtA3YAB5yaZ4pso5tP16eO2WS6Gu+WJFjy4UrwueuCe3rQBxEFlcXMFxNBGXjt0DytkfKCQB+pqW70u8sbO0u7qAxwXil4HLA7wDgnAOR+Neh3udMm8ZW+nWdrGsKWpji+xxsAWC5G0qcj26Z561W0rSrC4g0SaSwt5p/7LublYvLAFxMr/AChgPvcZ49qAPOaK9G8P2dnq0Ph+/wBS0+zE817NAVS2SNLiIRsclFAU4bjIH8qrWgtNQ0W11K80eGdrbWfJMFjaqjSxbN2zCgbsH1yTjk8mgDgqK6XxVGr2lhfW/wBie0uvMMMkFmLaTgjKOi/L8pOARnPrXNUAFFFFABRRRQAUUUUAFFFFABRRRQAUUUUAFFFFABRRRQAUUUUAFFFFABRRRQAUUUUAFXKp1coAKKKKACoJ/vj6VPUE/wB8fSgCKpbe5ns7hZ7SaSCZPuyROVZeMcEe1RUUAT/brsRxILqbZC5kiXzDiNjyWHofcVZ/t7VxDLENVvfLmJMqfaHxIT13DPOfes+igC5Dq2o29n9kg1C6itt27yUmYJnOc7QcZyKYmoXsd/8Abo7udbvcW+0LKRJk9TuznNVqKALdxquo3c0ct3f3U8kTbo3lmZih45BJ4PA/KpJNd1ea6iuZdVvZLiHPlytcOXT6HOR1qhRQBauNTv7sEXd7czgyeaRLKzZfGN3J644zUl1rWqX3lfbdSvLjyW3R+bOz7D6jJ4NUaKALX9pX26dvttxuuSDOfNbMpByN3PPPPNOvNW1HUY0j1C/urpI/uLPMzhfoCeKp0UAFPh/18f8AvD+dMp8P+vj/AN4fzoA1qKKKALlhq2o6U7tpd/dWTSABzbzNGWHvtIzTG1G9fUPt73lw15uD/aDKxk3eu7Oc+9VqKAL95rmragFF/ql7dBXDr51w74YcAjJ6+9bGl+OtWsU1A3V3e3txdWv2eG4kvH32/IO5Scnt0BFcxRQBeOt6qdS/tA6neG9Ax9p+0P5mMYxuznpSy67q891Fcz6peyTwEtFK9w5aMnqVJORn2qhRQBYvL671G5NxqF1NdTsADLPIXYge55qvRRQBT1D/AJZ/j/SqVXdQ/wCWf4/0qlQA+OR4ZUlhdo5EYMrqcFSOhB7Gh5ZJZmmkkZ5WYszs2WJPJJPrTKKANCbX9YuMfaNWvpcYxvuXbGDkdT2PNR3Or6le3EU95qF1cTQnMUks7M0Zzngk5HPpVOigC1calfXd2t1d3txPcJjbNLKzOuORhic8U691bUtSKHUdQursx8p58zPt+mTxVOigC9da1ql95X23Ury48lt0fmzs+w+oyeDRDrWqW0001vqV5FLcHMzxzsrSf7xB56nrVGigC7FrOp29291BqN3FcSKFeZJ2DsB0BIOSOB+VMOpXxkhkN7cF7ckwt5rZjJOTtOeOeeKq0UAXZdZ1Se8ju59SvJLmIYjmedi6D0DE5HU1HDqV9bIEt7y4iUSeaFSVlAfGN3B6479arUUAWb3UL3UZhLqF3PdyKNoeeVnIHpkmq1FFABRRRQAUUUUAFFFFABRRRQAUUUUAFFFFABRRRQAUUUUAFFFFABRRRQAUUUUAFFFFABVyqdXKACiiigAq9LqN1pnhbzrGXypGvdhO0HjZnuPYVRqTU/8AkT1/6/x/6LNc9dKSSfdCZT/4S3W/+f3/AMhJ/hR/wlut/wDP7/5CT/Csain7Cj/IvuQ+VdjZ/wCEt1v/AJ/f/ISf4Uf8Jbrf/P7/AOQk/wAKxqKPYUf5F9yDlXY2f+Et1v8A5/f/ACEn+FH/AAlut/8AP7/5CT/Csaij2FH+Rfcg5V2Nn/hLdb/5/f8AyEn+FH/CW63/AM/v/kJP8KxqKPYUf5F9yDlXY2f+Et1v/n9/8hJ/hR/wlut/8/v/AJCT/Csaij2FH+Rfcg5V2Nn/AIS3W/8An9/8hJ/hR/wlut/8/v8A5CT/AArGoo9hR/kX3IOVdjZ/4S3W/wDn9/8AISf4Uf8ACW63/wA/v/kJP8KxqKPYUf5F9yDlXY2f+Et1v/n9/wDISf4Uf8Jbrf8Az+/+Qk/wrGoo9hR/kX3IOVdjZ/4S3W/+f3/yEn+FH/CW63/z+/8AkJP8KxqKPYUf5F9yDlXY2f8AhLdb/wCf3/yEn+FH/CW63/z+/wDkJP8ACsaij2FH+Rfcg5V2Nn/hLdb/AOf3/wAhJ/hR/wAJbrf/AD+/+Qk/wrGoo9hR/kX3IOVdjZ/4S3W/+f3/AMhJ/hR/wlut/wDP7/5CT/Csaij2FH+Rfcg5V2Nn/hLdb/5/f/ISf4Uf8Jbrf/P7/wCQk/wrGoo9hR/kX3IOVdjZ/wCEt1v/AJ/f/ISf4Uf8Jbrf/P7/AOQk/wAKxqKPYUf5F9yDlXY2f+Et1v8A5/f/ACEn+FH/AAlut/8AP7/5CT/Csaij2FH+Rfcg5V2Nn/hLdb/5/f8AyEn+FH/CW63/AM/v/kJP8KxqKPYUf5F9yDlXY2f+Et1v/n9/8hJ/hR/wlut/8/v/AJCT/Csaij2FH+Rfcg5V2Nn/AIS3W/8An9/8hJ/hR/wlut/8/v8A5CT/AArGoo9hR/kX3IOVdjZ/4S3W/wDn9/8AISf4Uf8ACW63/wA/v/kJP8KxqKPYUf5F9yDlXY2f+Et1v/n9/wDISf4Uf8Jbrf8Az+/+Qk/wrGoo9hR/kX3IOVdjZ/4S3W/+f3/yEn+FH/CW63/z+/8AkJP8KxqKPYUf5F9yDlXY2f8AhLdb/wCf3/yEn+FH/CW63/z+/wDkJP8ACsaij2FH+Rfcg5V2Nn/hLdb/AOf3/wAhJ/hR/wAJbrf/AD+/+Qk/wrGoo9hR/kX3IOVdjZ/4S3W/+f3/AMhJ/hR/wlut/wDP7/5CT/Csaij2FH+Rfcg5V2Nn/hLdb/5/f/ISf4Uf8Jbrf/P7/wCQk/wrGoo9hR/kX3IOVdjZ/wCEt1v/AJ/f/ISf4Uf8Jbrf/P7/AOQk/wAKxqKPYUf5F9yDlXY2f+Et1v8A5/f/ACEn+FH/AAlut/8AP7/5CT/Csaij2FH+Rfcg5V2Nn/hLdb/5/f8AyEn+FH/CW63/AM/v/kJP8KxqKPYUf5F9yDlXY2f+Et1v/n9/8hJ/hR/wlut/8/v/AJCT/Csaij2FH+Rfcg5V2Nn/AIS3W/8An9/8hJ/hR/wlut/8/v8A5CT/AArGoo9hR/kX3IOVdjZ/4S3W/wDn9/8AISf4Uf8ACW63/wA/v/kJP8KxqKPYUf5F9yDlXY2f+Et1v/n9/wDISf4Vo2Ov6vLCJZrwtk8DykH9K5WtvT/+PCP8f5mj6vR/kX3IOVdjf0zVtRn1y1imui8EhYMhRR0QkcgZ7VjVf0f/AJD1l/vt/wCi2qhU04RhVkoq2i/UVrMKKKK6RhUmp/8AInr/ANf4/wDRZqOpNT/5E9f+v8f+izWNb7PqhM5qiipbW5ks7yG5tyolhcSIXQOMg5GVYEEexGK1KIqK9I8XeJdQf4feG322Kvq1tc/bHTTrdGk2zFVwQgK4Ax8uKS+8OR6349ax1zVJzDbaJHdm4jgjDhVt1k27VABxnHqe5o1u/Jtfde/5B1t/W6X6nnFFenWPgXwdqVxoa2uoa1GPEKSLZLJHETBIjMpMhHVSQMBRnrk1B4Q+GMes6BHqmprqMqXN01vEuniP90FOGlcueRk42jng0eX9dg/r+vuZ5xRW5rOl6Zo0d9p73NxLrNnqLwHaq/Z3hUY3Z67iw6dMVp+ALm5m1i20mx0TSr5p7lZLie+tFmKQj74JfIRAMkkAH36URtLYJXjuchRXo+iXfhS11Txb5c+kWySXSLpMmp2Juo1j8x87V2N/DtGfcU+xhstA8W+I4vFjaDa332WP7I72HnWmWaM70iVCOU5HyjqfeiOthyVm15/0zzWivS7bwJf6n45uZ9Wsre606ztY7+QaHbYju4mX90sSIowXIweBjDGpvEfgyyvPi3qtneW0miaaunm+jW2tgqhUgVm2KcAjcGHHcHnNH9fd/TE328vx/wCHR5dRXp1j4F8HalcaGtrqGtRjxCki2SyRxEwSIzKTIR1UkDAUZ65NZWg+CtM1Dwhc6pcHVL67hlkjkt9KWJ2tQoG15EY7mUknlcAAHJo2v5f8MG7t/X9aM4aiiigBQrFSQpIHU4pK6nSJpYfBjtBqv9lk6gAZQ0g3Dy+nyAn3544qOQ2WqazfX/2ZZ7RBGrTTTeQm7bgsQBkliCQBz1yKw9raTTWi/wCAY+03ujmqK6d9J0qz8RajZSsr+WFNpHPMY0fIBIL44IB4zgetQ2Gm2X2y9tru1AvUlCw2dxc+WCvOQHxgt0xnAOe9Hto2vYftVa5z1FdNp+iWcenm61GOPc9y8HlT3Qi8sLjPOOW5+nHTmoPsOmWFjd3sqNqEQvWtYAsuxdoGd5I6kgjHbrT9tG9kHtU3ZGHNDLbymK4jeKRcZR1Kkd+hpldF4pltk8Sams1u0jvHGIW8zHlnYvJ4+bjioPDDCG5vLmRzBHFasGuVGWgLEBWUdzk47dTyKFUfs+ewKb5OaxiUVteKPmv7aQSC4WS1jIuu9x1Bcg8g5BHPPy1i1pCXNG5cXzJMmhsrq5Qtb200qg4JjjLAH8KidGjdkkUqynBVhgg16j4VvBZ/Bsu3ie98OBtdYfaLNJGaT9wvyHYynHf8KTwV4Z0vxDNHJ4ktftQ1W9kih1W81Noprg5xuihALMwJyS5IycZ61o1aXKv62/zHdKN3/W/+R5olldSWy3CW0zQNJ5IlEZKl8Z256bsdutNuLee0uZLe7hkgniYpJFKpVkYdQQeQa7aHTBZeDY2FzcMYfFAtfL81hEwWP73l5xu9+uOK3z4Y03WPHfjnVNY+zyRabflUgurz7LE7SSMMvIOQBtPA6kipVpK62/4C/wAyrb+Vvzf+R5NU09ldWsME1zbTQxXCl4XkjKrKoOMqT1GeMivRX8K+FrfWdb1ONl1LSdL0+K7+w2l5vBmkYJ5XnDkorEknrjH4v8X3+iLZeB7y60aR9KOnTE6et2wIzIwAEmM8Ng/QYpN6L1/z/wAhdf68v8zzGius+GVrb3vxJ0qO5iWWNXklWNxkMyRsyg+vzKK0PEWp3fiT4W2Osa7O11qUWsTW0c8g+dojGrlc9wGPA7ZwKb0V/wCt7B1scHRRRQAUUUUAFFFFABRRRQAUUUUAFFFFABRRRQAUUUUAFFFFABRRRQAUUUUAFFFFABRRRQAUUUUAFben/wDHhH+P8zWJW3p//HhH+P8AM0Aauj/8h6y/32/9FtVCr+j/APIesv8Afb/0W1UKxj/Gl6L82T1CiiitxhUmp/8AInr/ANf4/wDRZqOpNT/5E9f+v8f+izWNb7PqhM5qiiitSjS1DXbnUtF0rTJ0hWHS0kSFkBDMHcud2Tg8njAHFaDeNtSbWp9TMNr58+nf2cy7G2iPyhFkfNndtGc5xnt2rnaKO/n+v/Dh1v8A10f6I6LT/G2o6dN4fkghtWOgNI1rvRjv3uWO/Dc8ntil07xi1to7aXqmkWOr2Yna5gjuvMUwSNjJVkZTtOBlTwcVzlFH9fqH9fn/AJs0p9Xjn0eWxXS7GJ5Lw3QuY0IkQEY8oEk/IOuDmtDQPGMugaJf6XHpOnXcOoEC4kn85ZGQY/d745EIXIzjv3zXO0UAdBY+JrK0e4WfwtpFzbzSLKkLiYeSwGMK/mb9p6lWYg1PJ41e/wBYv7/X9F03VftxQtHKjx+SEGFEbIwZABgYycgc+tcxRQBs614q1LWtVa+eRbM+UkMcFnmOOKNBhUUZ6AepPWrk/jvVbjxHe6zLHbG4vLNrJ02tsSNoxGSo3ZBwM9cZJ4rmqKA63/rQ6LT/ABtqOnTeH5IIbVjoDSNa70Y797ljvw3PJ7YqXQfGx8PlLi20TTZNRheR7e/cSiSMuCDkK4V8A8bgce9cxRR/X3h/X3f8OBJJJPU0UUUATfbJ/sH2Lf8A6P5vm7MD72MZz16VLZapdWEckdu0ZjlILJLEsi5HQ4YHBGTzVSipcU1ZoXKmrWND+3L5rua5meKeWcL5hmgSQNtGAcEEA0seu38dxLOXikllk8xmmgSQhuxG4HH4VnUUvZw7C5I9i/BrV9AJl8yOVZpPNdZ4UlUv/ewwOD70ltrN5aLMsTRFJn8x45IEdN394KwIB57VRoo5I9g5Y9i9LrN9PLdSTTB3vECTM0a5YDGO3HQdKhsr+4sJGe2ZRvXY6ugdXX0KkEHpVeinyxtawcqtaxYvb64v5lkuWUlVCKFQIqKOgCgAAfSq9FFNJJWRSVtEXTq98dCGjGf/AEAXP2oQ7F/1u3bu3Yz04xnFa2kePNf0Kwt7TTbiBFtJGktZJLSKSS3LHLbGZSVB7gVzlFVdgaL+INTksWs2uv3DXhvyuxR+/wAY35xnp26e1aCeOdbTXb7VlltzNqK7byJrWNobgcffjI2nJGc4zkk9656iktNgN628Z6xZ61Pqds1rHJcQ+RNAtnEIJIsAbDEF2kYA7dqmfx/4hk1iw1J7qEz6dG8VootYljhRgQVCBQMcnGelc3RQBYsr+607UYb6xmaC6gkEkcicFWByDV/XvFOqeIxAupSQiK3LGKG3t0hjVmOXbagAyxGSayKKA63CiiigAooooAKKKKACiiigAooooAKKKKACiiigAooooAKKKKACiiigAooooAKKKKACiiigAooooAK29P8A+PCP8f5msStvT/8Ajwj/AB/maANXR/8AkPWX++3/AKLaqFX9H/5D1l/vt/6LaqFYx/jS9F+bJ6hRRRW4wqTU/wDkT1/6/wAf+izUdT38skXhFWidkP27GVOP+WZrGt9n1Qmcvg+lGD6VN9tuv+fmb/v4aPtt1/z8zf8Afw1qUQ4PpRg+lTfbbr/n5m/7+Gj7bdf8/M3/AH8NAEOD6UYPpU3226/5+Zv+/ho+23X/AD8zf9/DQBDg+lGD6VN9tuv+fmb/AL+Gj7bdf8/M3/fw0AQ4PpRg+lTfbbr/AJ+Zv+/ho+23X/PzN/38NAEOD6UYPpU3226/5+Zv+/ho+23X/PzN/wB/DQBDg+lGD6VN9tuv+fmb/v4aPtt1/wA/M3/fw0AQ4PpRg+lTfbbr/n5m/wC/ho+23X/PzN/38NAEOD6UYPpU3226/wCfmb/v4aPtt1/z8zf9/DQBDg+lGD6VN9tuv+fmb/v4aPtt1/z8zf8Afw0AQ4PpRg+lTfbbr/n5m/7+Gj7bdf8APzN/38NAEOD6UYPpU3226/5+Zv8Av4aPtt1/z8zf9/DQBDg+lGD6VN9tuv8An5m/7+Gj7bdf8/M3/fw0AQ4PpRg+lTfbbr/n5m/7+Gj7bdf8/M3/AH8NAEOD6UYPpU3226/5+Zv+/ho+23X/AD8zf9/DQBDg+lGD6VN9tuv+fmb/AL+Gj7bdf8/M3/fw0AQ4PpRg+lTfbbr/AJ+Zv+/ho+23X/PzN/38NAEOD6UYPpU3226/5+Zv+/ho+23X/PzN/wB/DQBDg+lGD6VN9tuv+fmb/v4aPtt1/wA/M3/fw0AQ4PpRg+lTfbbr/n5m/wC/ho+23X/PzN/38NAEOD6UYPpU3226/wCfmb/v4aPtt1/z8zf9/DQBDg+lGD6VN9tuv+fmb/v4aPtt1/z8zf8Afw0AQ4PpRg+lTfbbr/n5m/7+Gj7bdf8APzN/38NAEOD6UYPpU3226/5+Zv8Av4aPtt1/z8zf9/DQBDg+lGD6VN9tuv8An5m/7+Gj7bdf8/M3/fw0AQ4PpRg+lTfbbr/n5m/7+Gj7bdf8/M3/AH8NAEOD6UYPpU3226/5+Zv+/ho+23X/AD8zf9/DQBDg+lGD6VN9tuv+fmb/AL+Gj7bdf8/M3/fw0AQ4PpRg+lTfbbr/AJ+Zv+/ho+23X/PzN/38NAEOD6UYPpU3226/5+Zv+/ho+23X/PzN/wB/DQBDg+lGD6VN9tuv+fmb/v4aPtt1/wA/M3/fw0AQ4PpW3p//AB4x/j/M1lfbbr/n5m/7+Gteyd5LNGkZnY5yWOSeaANPR/8AkPWX++3/AKLaqFX9H/5D1l/vt/6LaqFYx/jS9F+bJ6hRRRW4wqTU/wDkT1/6/wAf+izUdSan/wAiev8A1/j/ANFmsa32fVCZzVFFXdFt4rvXrC3uF3xTXMcbrkjKlgCMj2rRuyuNuyuUqK7T4h6Bpmhf2d/ZVt5Hneb5n7xm3Y2Y+8T6muOghkubiOCBGkllYIiKMlmJwAPxqKVRVYKUepMJqceZDKK6S5+Hfi+ytJbm68O38UEKGSSRoSAqgZJP4VzdaFhRRUk9tPalBcwSQmRBIgkQruU9GGeoPrQBHRWvpPhPX9es5brRdIu76CJijvbxF8NjOOO+COKzbq1uLG6ktr2CW3njO14pUKMh9CDyKAIqKKKACirWmabd6xqdvp+nReddXLiOKPcF3MegySAPxqP7HcmKaVYJGit2CyyKpKxknABI4GcHHrQBDRRRQAUUUUAFFFFABRRRQAUUUUAFFFFABRRRQAUUUUAFFFFABRRRQAUUUUAFFFFABRRRQAUUUUAFFFFABRRRQAUUUUAFFFFABRRRQAUUUUAFFFFABRRRQAUUUUAFFFFABW3p/wDx4R/j/M1iVt6f/wAeEf4/zNAGro//ACHrL/fb/wBFtVCr+j/8h6y/32/9FtVCsY/xpei/Nk9QooorcYVJqf8AyJ6/9f4/9Fmo6k1P/kT1/wCv8f8Aos1jW+z6oTOarR8O/wDI0aV/1+Q/+his6relXSWOs2V3MGMdvcRysFHJCsCce/FXNXi0EtYs7v4s/wDMJ/7bf+yV5zXWeOPFNl4l+w/YIriP7P5m/wA5VGd23GME/wB01ydYYWMoUVGW/wDwTOhFxppM7XxB/wAkh8H9v9Jvv/Q0rrPF2l+DtD0q/wBFP2ISQ6ektm0enTfaXlKqVka4+6ysSRj7oyBxivJJL26ms4bSW5me2gLGGFpCUjLfeKr0Gcc461fPinXm0X+yDrN8dOxt+ym4by9v93Gfu+3Sul6po3T28v8AO5201vp9/wDD9RoOl6alzp1hFcahDfWTpdH5hmaObOHRsj5Tjg8A1W+K2qLdvoEK6bY227R7S4EkERVvmj+4Dk/IOw/WuRn8Ua7daMuk3GsX0unoAFtnnYoAOgxnoOw6CorvXdVvtLttOvdRuZ7K0/1FvJKWSP6A9P6US9777/n/AJr7vuUdP69Dv/CFpoV98K47XxNeXllbTeJESOe1VTscwYBct0XGckZPStn7FY6l408Y6n4gtooJ9Ehgghjv4XvFCACPznRMGTKqDnoN+T0rx77ZdfYfsX2mb7J5nnfZ/MPl78Y3bem7HGeuKuQ+JNbt9UTUodXvkvUQRrcC4feEHRd2c7eOnSnfX+u39feC0/rzudytx4Nh8fSXcdrHPYNpYd5F06Rra2uTgeaYGwfK6HHIy4xTh4cjHiTxQmp6fphK+HZL6z/s+Nlh5CFJUVuVOCTjjHPFcSnizxDHrLasmtX41B12tc/aG3sv90nP3fbpUcXiTWodcOsx6reLqTdbvzm8w8YwWzkjHGKX/B/G/wDn+H3HX7v0PRdH0i30zxN8MZYrNba4u0Etwdm1pD5pwx/DH4VQ8O6utl8MfGAOl6fcmG8tstPCWL73cfNgjO3GV9CT1rh5/EWs3WoQX1zq17NdW774ZpJ2ZomzuypJ4554p9p4m1uwu7y5stVu7ee+z9pkimKmbJJO7HXkn86HrFrvf80/0sEfd/D8E1+p2r2mn6n8OjDoWm6dFeWWnLc6hHfWbpdEBubiKfOGU5GFOOOxri9cnln/ALP87R4tL2WUaJ5cLR/aVGcTHP3i394cHFEnijXZtFXSJdYvn05QALVp2MYA6DGeg9OlU7zUb3UfI+33Utx9nhWCHzHLeXGvRR6AelD3/rz/AK/pAtFb+uhWooooAKKKKACiiigAooooAKKKKACiiigAooooAKKKKACiiigAooooAKKKKACiiigAooooAKKKKACiiigAooooAKKKKACiiigAooooAKKKKACiiigAooooAKKKKACtvT/+PCP8f5msStvT/wDjwj/H+ZoA1dH/AOQ9Zf77f+i2qhV/R/8AkPWX++3/AKLaqFYx/jS9F+bJ6hRRRW4wqTU/+RPX/r/H/os1HUmp/wDInr/1/j/0WaxrfZ9UJnNUUUVqUFFFFABRRRQAUUUUAFFFFABRRRQAUUUUAFFFFABRRRQAUUUUAFFFFABRRRQAUUUUAFFFFABRRRQAUUUUAFFFFABRRRQAUUUUAFFFFABRRRQAUUUUAFFFFABRRRQAUUUUAFFFFABRRRQAUUUUAFFFFABRRRQAUUUUAFben/8AHhH+P8zWJW3p/wDx4R/j/M0Aauj/APIesv8Afb/0W1UKv6P/AMh6y/32/wDRbVQrGP8AGl6L82T1CiiitxhUmp/8iev/AF/j/wBFmo6k1P8A5E9f+v8AH/os1jW+z6oTOaqS2jEt1FG33XcKfxNR1NZf8f8Ab/8AXVf51qUKbt8/KkIHYeSpx+YpPtcn92H/AL8J/hUNSy2txBMsU8EscjAFUdCCQehAPrQAv2uT+7D/AN+E/wAKPtcn92H/AL8J/hTJoJbad4biJ4pUOHSRSrKfQg9KtPomqx6WupyaZeLYMcLdtbsIj9Hxj9aAIPtcn92H/vwn+FH2uT+7D/34T/CrY8Oa2dP+3jR9QNns8z7SLV/L2dd27GMe9U57S5tVia5t5YVmQSRGRCokQ9GXPUcdRQAv2uT+7D/34T/Cj7XJ/dh/78J/hVtvDmtpp/29tH1BbPZ5n2g2r+Xt/vbsYx71Hb6Lqt3p8t/aabeT2cOfNuIoGaOPHXcwGB+NAEH2uT+7D/34T/Cj7XJ/dh/78J/hV+Hwr4huLdLiDQdTlhkUOkiWchVlPIIIGCPeqFnZXWoXSW1hbTXVw+dsUMZdmwMnAHJ4FHWwB9rk/uw/9+E/wo+1yf3Yf+/Cf4U++02+0u4EGp2dxZzFdwjuImjbHrggHFVqAJvtcn92H/vwn+FH2uT+7D/34T/CoauaXpN9rV79k0u2a5n2NJsTGdqjJPPoBQBD9rk/uw/9+E/wo+1yf3Yf+/Cf4VGY3EYkKMEYkBiOCR15ptAE32uT+7D/AN+E/wAKPtcn92H/AL8J/hUNFAE32uT+7D/34T/Cj7XJ/dh/78J/hUNFAE32uT+7D/34T/Cj7XJ/dh/78J/hUNFAE32uT+7D/wB+E/wo+1yf3Yf+/Cf4VDRQBN9rk/uw/wDfhP8ACj7XJ/dh/wC/Cf4VDRQBN9rk/uw/9+E/wo+1yf3Yf+/Cf4VDRQBN9rk/uw/9+E/wo+1yf3Yf+/Cf4VDRQBN9rk/uw/8AfhP8KPtcn92H/vwn+FQ0UATfa5P7sP8A34T/AAo+1yf3Yf8Avwn+FQ0UATfa5P7sP/fhP8KPtcn92H/vwn+FQ0UATfa5P7sP/fhP8KPtcn92H/vwn+FQ0UATfa5P7sP/AH4T/Cj7XJ/dh/78J/hUNFAE32uT+7D/AN+E/wAKPtcn92H/AL8J/hUNFAE32uT+7D/34T/Cj7XJ/dh/78J/hUNFAE32uT+7D/34T/Cj7XJ/dh/78J/hUNFAE32uT+7D/wB+E/wo+1yf3Yf+/Cf4VDRQBN9rk/uw/wDfhP8ACj7XJ/dh/wC/Cf4VDRQBN9rk/uw/9+E/wo+1yf3Yf+/Cf4VDRQBN9rk/uw/9+E/wo+1yf3Yf+/Cf4VDRQBN9rk/uw/8AfhP8KPtcn92H/vwn+FQ0UATfa5P7sP8A34T/AAo+1yf3Yf8Avwn+FQ0UAWreYz3EcUqRFZGCnESqeTjqBVWprL/j/t/+uq/zqGgArb0//jwj/H+ZrErb0/8A48I/x/maANXR/wDkPWX++3/otqoVf0f/AJD1l/vt/wCi2qhWMf40vRfmyeoUUUVuMKk1P/kT1/6/x/6LNR1Jqf8AyJ6/9f4/9Fmsa32fVCZzVTWX/H/b/wDXVf51DU1l/wAf9v8A9dV/nWpRDXSWPjS5tLCKOe0gu7y0XbY3kwy9sD1H+1jtnp+lc3RQA+aaW5nea4kaSWRizuxyWJ7k17hrtpq2sfDO4uNaj1Pw6+n6TEFaG+V9O1CMbdqbAcBzxwPx9K8MpxlkMQiLsY1OQhPAPrih6xaBaSTPa/EtvqU/wm0P+ztP12ZRoMZkubO6ZLSNQSXEsYHzHbnv0IrnvHXhzWNR8JeE9UsdNuJ7C08PxefcImUjwzk5P0Oa8zopPVt+d/z/AMylKyt5W/L/ACPbPG0GpS/DTRzYafrskS6BamS6t7plskUDLh4wME7c857j0qrrNr4w1Hwv4Zm8BXF1/YsOiqlx9iuRFHHOA3n+Z8wGfr+FeO05ZHWNkV2CPjcoPDY6ZFVJ8zl5u/5/5kx0t/Xb/I9J0XXtXj+ButyR6rfI9vqNtDCy3LgxJtPyqc8L7Dis34MkL8VdMLFgBHcEleo/cSdK4aihO0pS7/5W/wCCJK0Uv63ue6XcGk+IdU+HtneTXmo+Hrj7RIt/qVzvmlmPP2eQ8AYZVXGec8GqOsaLpK/ELwxG/hG5eRvPN7ZQ6d9jS5VM7GSIyMDjnPzfNgeorxmnNLI8gd3ZnGMMTk8dOaL6p/1/X9eY3dq3ke0P4Qs5/iFq+ny6bp0stz4bkubC1trNrZlmONmYWYlJevH4461Po2gxaD8U9A0+GyS1upfCxNxFGBl7gxyBs46tkY/CvEfPlE/nCV/Nzu8zcd2fXNNSR45A8bMrqchlOCDSesHHya/P/P8AAHr/AF6f5fieq3KT3/wQ8OxWmg215HHfyw3ksaHzIG81AvzbsIz8KSR6dKi+L2hW2n2Wl31hpVpo9vLJJEtmbM290m0Lned7LKvpIPXvXmHmybWXe21yCwzwx9T60PI8m3zHZ9qhV3HOAO30old/16f1/WorLb+tW/1G0UUUAFFFFABRRRQAUUUUAFFFFABRRRQAUUUUAFFFFABRRRQAUUUUAFFFFABRRRQAUUUUAFFFFABRRRQAUUUUAFFFFABRRRQAUUUUAFFFFABRRRQBNZf8f9v/ANdV/nUNTWX/AB/2/wD11X+dQ0AFbGmyq1qseRuUnj8ax6cv3aAOr0aVT4ksowQW3OTjt8jVTqHwn/yM9p/wP/0BqmrGP8aXovzZPUKKKK3GFSan/wAiev8A1/j/ANFmo6k1P/kT1/6/x/6LNY1vs+qEzmqmsv8Aj/t/+uq/zqGprL/j/t/+uq/zrUohooooAKKKKACiiigAooooAKKKKACiiigAooooAKKKKACiiigAooooAKKKKACiiigAooooAKKKKACiiigAooooAKKKKACiiigAooooAKKKKACiiigAooooAKKKKACiiigAooooAKKKKACiiigAooooAKKKKAJrL/j/ALf/AK6r/Ooamsv+P+3/AOuq/wA6hoAKcv3abTl+7SYGz4T/AORntP8Agf8A6A1TVD4T/wCRntP+B/8AoDVNWUP4svRfmyeoUUUVuMKk1P8A5E9f+v8AH/os1HUmp/8AInr/ANf4/wDRZrGt9n1Qmc1U1l/x/wBv/wBdV/nUNTWX/H/b/wDXVf51qUQ0oRiMhSR9KSrkH+pX/PegCr5b/wBxvyo8t/7jflV6inYVyj5b/wBxvyo8t/7jflWpc2V1ZiI3ltNAJoxLF5sZXzEPRlz1B9RUNFguUfLf+435UeW/9xvyrTtrW4vbmO2s4JLieQ7UiiQszn0AHJpkkbwytHKjJIjFWRhgqR1BHY0WC5n+W/8Acb8qPLf+435Veqe4sLu0ggmurWeGK5XfA8kZVZV9VJ6j3FFguZXlv/cb8qPLf+435VeoosFyj5b/ANxvyo8t/wC435VeoosFyj5b/wBxvyo8t/7jflV6iiwXKPlv/cb8qPLf+435VeoosFyj5b/3G/Kjy3/uN+VXqKLBco+W/wDcb8qPLf8AuN+VXqKLBco+W/8Acb8qPLf+435VeoosFyj5b/3G/Kjy3/uN+VXqKLBco+W/9xvyo8t/7jflV6iiwXKPlv8A3G/Kjy3/ALjflV6iiwXKPlv/AHG/Kjy3/uN+VXqKLBco+W/9xvyo8t/7jflV6iiwXKPlv/cb8qPLf+435VeoosFyj5b/ANxvyo8t/wC435VeoosFyj5b/wBxvyo8t/7jflV6iiwXKPlv/cb8qPLf+435VeoosFyj5b/3G/Kjy3/uN+VXqKLBco+W/wDcb8qPLf8AuN+VXqKLBco+W/8Acb8qPLf+435VeoosFyj5b/3G/Kjy3/uN+VXqKLBco+W/9xvyo8t/7jflV6iiwXKPlv8A3G/Kjy3/ALjflV6iiwXKPlv/AHG/Kjy3/uN+VXqKLBco+W/9xvypCrL95SPqKv1Dc/6sfWiwXI7L/j/t/wDrqv8AOoamsv8Aj/t/+uq/zqGkMKcv3abTl+7SYGz4T/5Ge0/4H/6A1TVD4T/5Ge0/4H/6A1TVlD+LL0X5snqFFFFbjCpNT/5E9f8Ar/H/AKLNR1Jqf/Inr/1/j/0WaxrfZ9UJnNVNZf8AH/b/APXVf51DU1l/x/2//XVf51qUQ1cg/wBSv+e9U6uQf6lf896aEz0TxZpPhrwlo1lpT6PcXurXmnx3f9pm7ZFjZ84CxgEMowevPvW9c+ANEPgTUmm0tdM1mw05b0A6mZ7g8ZPmRBQiA9u/0rhR4/8AEY8ODQ2vUkshEYFElvG7rEeqByuQPx7Cp7z4meKr7TZbG41FDDPb/Z5yLaLdMmMYZtuSccZzmnLW9v63/wCB6ijpa/8AW3/B9DuJ/DVp4q8TeD7LUXkFpD4YhuZUiOHkVATtH14/DNYXhnT/AAp4x8T3kVp4fl061t9Knm8k3zy7pVI2vngjg9MkVzA8ca+smkSx33lzaNGYrOZI1DonTaTj5hjjBz+tW3+JPiZ9ettXW8hjurZGjj8u1jVdrcsCoXBBPPPfpiia5m7db/jfX8h3/T8LHV+EdCsLC6+HGq28LJeajeT/AGly5O/Y+F4PA49KTwx4a0rVdc1q81/SYri1OrtbLdXWpG2jUs5+VFUFnk5BA6fSuQvviF4m1HUbC9u9RDTabKZbTbBGohJxkABRkcDg5qS1+JHiWykvmtbyGP7bcfapB9ljISXpvQFTtOBjI/nQ9Zc3r+LX+TJt28vwv/mj0AaXoHhTwn47s7jSG1GGxv4I23XTRtKjODGMgfLt3ckfe71lweFLbxDP8PdNu7m78m+spnm3Ts+0IS21AxITIXHArj7T4g+I7TUtSvlvI5ZtU2/a/Nto2WUr907duAR7CqP/AAleth9LdL9kbSAVsWRFUwgnJGQOfxz6Ulf3ebyv8otfnqDWrt5/i0/+AdtP4b8M67olnrWi6XNpMcWtx6bcWst00onRiPmBPIbnkDpzVjxT4W8KRaP4uh0fS7izvPD08O25e7aTzhI+Cu08ADt1PTJrjdY8f+ItcktGv75cWcwnhSKBI1EoOd5UDBbPr71VuPFut3Y1YXF7vGsMjX37pB5xU5XoPlwf7uKVn/Xy/wCD95peN72/rX9LGNRRRVEBRRRQAUUUUAFFFFABRRRQAUUUUAFFFFABRRRQAUUUUAFFFFABRRRQAUUUUAFFFFABRRRQAUUUUAFFFFABRRRQAUUUUAFFFFABRRRQAUUUUAFFFFABUNz/AKsfWpqhuf8AVj60AR2X/H/b/wDXVf51DU1l/wAf9v8A9dV/nUNSUFOX7tNpy/dpMDZ8J/8AIz2n/A//AEBqmqHwn/yM9p/wP/0BqmrKH8WXovzZPUKKKK3GFSan/wAiev8A1/j/ANFmo6k1P/kT1/6/x/6LNY1vs+qEzmqmsv8Aj/t/+uq/zqGprL/j/t/+uq/zrUohqaOUqgAKD6g1DRQBY89v70f5Gjz2/vR/kar0U7isWPPb+9H+Ro89v70f5Gq9FFwsWPPb+9H+Ro89v70f5Gq9FFwsWPPb+9H+Ro89v70f5Gq9FFwsWPPb+9H+Ro89v70f5Gq9FFwsWPPb+9H+Ro89v70f5Gq9FFwsWPPb+9H+Ro89v70f5Gq9FFwsWPPb+9H+Ro89v70f5Gq9FFwsWPPb+9H+Ro89v70f5Gq9FFwsWPPb+9H+Ro89v70f5Gq9FFwsWPPb+9H+Ro89v70f5Gq9FFwsWPPb+9H+Ro89v70f5Gq9FFwsWPPb+9H+Ro89v70f5Gq9FFwsWPPb+9H+Ro89v70f5Gq9FFwsWPPb+9H+Ro89v70f5Gq9FFwsWPPb+9H+Ro89v70f5Gq9FFwsWPPb+9H+Ro89v70f5Gq9FFwsWPPb+9H+Ro89v70f5Gq9FFwsWPPb+9H+Ro89v70f5Gq9FFwsWPPb+9H+Ro89v70f5Gq9FFwsWPPb+9H+Ro89v70f5Gq9FFwsWPPb+9H+Ro89v70f5Gq9FFwsWPPb+9H+Ro89v70f5Gq9FFwsWPPb+9H+Ro89v70f5Gq9FFwsWPPb+9H+Ro89v70f5Gq9FFwsWPPb+9H+Ro89v70f5Gq9FFwsWPPb+9H+Ro89v70f5Gq9FFwsWPPb+9H+RpkshdcEqeewNRUUhk1l/wAf9v8A9dV/nUNTWX/H/b/9dV/nUNABTl+7Tacv3aTA2fCf/Iz2n/A//QGqaofCf/Iz2n/A/wD0BqmrKH8WXovzZPUKKKK3GFSan/yJ6/8AX+P/AEWajqTU/wDkT1/6/wAf+izWNb7PqhM5qprL/j/t/wDrqv8AOoamsv8Aj/t/+uq/zrUohooooA9Js/FviC2+FOo319q91ci9mGk2kMkhKxJs3Stj/d2qPTJpdB13Vh4B1a68SXX/ABIGsG07T7IoqpNccbWRAAMpyzP1z3JrgpdXvptFt9JknJsbaV5oodoAV2ADHOMnoOp47VqSeOtdn0y10+5ewuLazh8i3WfS7WQxJjorNGSPrnOeetEtb+f+X/D/AHhHS3l/n/w39anPUUUUAFFFFABRRRQAUUUUAFFFFABRRRQAUUUUAFFFFABRRRQAUUUUAFFFFABRRRQAUUUUAFFFFABRRRQAUUUUAFFFFABRRRQAUUUUAFFFFABRRRQAUUUUAFFFFABRRRQAUUUUAFFFFABRRRQBNZf8f9v/ANdV/nUNTWX/AB/2/wD11X+dQ0AFOX7tNpy/dpMDZ8J/8jPaf8D/APQGqaofCf8AyM9p/wAD/wDQGqasofxZei/Nk9QooorcYVJqf/Inr/1/j/0WajqTU/8AkT1/6/x/6LNY1vs+qEzmqmsv+P8At/8Arqv86hqay/4/7f8A66r/ADrUohpQoI5YD25pKKAHbR/fX9f8KNo/vr+v+FNooAdtH99f1/wo2j++v6/4U2igB20f31/X/CjaP76/r/hTaKAHbR/fX9f8KNo/vr+v+FNooAdtH99f1/wo2j++v6/4U2igB20f31/X/CjaP76/r/hTaKAHbR/fX9f8KNo/vr+v+FNooAdtH99f1/wo2j++v6/4U2igB20f31/X/CjaP76/r/hTaKAHbR/fX9f8KNo/vr+v+FNooAdtH99f1/wo2j++v6/4U2igB20f31/X/CjaP76/r/hTaKAHbR/fX9f8KNo/vr+v+FNooAdtH99f1/wo2j++v6/4U2igB20f31/X/CjaP76/r/hTaKAHbR/fX9f8KNo/vr+v+FNooAdtH99f1/wo2j++v6/4U2igB20f31/X/CjaP76/r/hTaKAHbR/fX9f8KNo/vr+v+FNooAdtH99f1/wo2j++v6/4U2igB20f31/X/CjaP76/r/hTaKAHbR/fX9f8KNo/vr+v+FNooAdtH99f1/wo2j++v6/4U2igB20f31/X/CjaP76/r/hTaKAHbR/fX9f8KNo/vr+v+FNooAdtH99f1/wo2j++v6/4U2igB20f31/X/CjaP76/r/hTaKAHbR/fX9f8KQgDowP0zSUUATWX/H/b/wDXVf51DU1l/wAf9v8A9dV/nUNABTl+7Tacv3aTA2fCf/Iz2n/A/wD0BqmqHwn/AMjPaf8AA/8A0BqmrKH8WXovzZPUKKKK3GFSan/yJ6/9f4/9Fmo6k1P/AJE9f+v8f+izWNb7PqhM5qprL/j/ALf/AK6r/Ooamsv+P+3/AOuq/wA61KIaKKKAPbpXX/hE5tG+3j7bB4XAk8O7T5QfAf7QH+6ZAh3kYznjJ5rh4dQuLn4I3lpMyGG01eAQhY1UjckpOSBlufUmstvHmvtpZsmuIDut/sjXP2WL7QYMY8oy7d+3Hv8ApUUHjLV7bRTpMX9n/YmxuibS7ZixAIDFjGSWAJ+YnPPWnLVyt1/zv/X+Q4e7y36X/wDSbGFRRRSEFFFFABRRRQAUUUUAFFFFABRRRQAUUUUAFFFFABRRRQAUUUUAFFFFABRRRQAUUUUAFFFFABRRRQAUUUUAFFFFABRRRQAUUUUAFFFFABRRRQAUUUUAFFFFABRRRQAUUUUAFFFFABRRRQBNZf8AH/b/APXVf51DU1l/x/2//XVf51DQAU5fu02nL92kwNnwn/yM9p/wP/0BqmqHwn/yM9p/wP8A9Aapqyh/Fl6L82T1CiiitxhUmp/8iev/AF/j/wBFmo6k1P8A5E9f+v8AH/os1jW+z6oTOaqay/4/7f8A66r/ADqGprL/AI/7f/rqv861KIaUKCOWA9uaSigB20f31/X/AAo2j++v6/4VLDY3dxaz3MFrNLb223z5UjJSLccDcRwMnpmrkXhnXptN/tGHRNRksdhk+0paSGPaOrbsYwMHmgDO2j++v6/4UbR/fX9f8KbRQA7aP76/r/hRtH99f1/wptFADto/vr+v+FG0f31/X/Cm0UAO2j++v6/4UbR/fX9f8KbRQA7aP76/r/hRtH99f1/wptFADto/vr+v+FG0f31/X/Cm0UAO2j++v6/4UbR/fX9f8KbRQA7aP76/r/hRtH99f1/wptFADto/vr+v+FG0f31/X/Cm0UAO2j++v6/4UbR/fX9f8KbRQA7aP76/r/hRtH99f1/wptFADto/vr+v+FG0f31/X/Cm0UAO2j++v6/4UbR/fX9f8KbRQA7aP76/r/hRtH99f1/wptFADto/vr+v+FG0f31/X/Cm0UAO2j++v6/4UbR/fX9f8KbRQA7aP76/r/hRtH99f1/wptFADto/vr+v+FG0f31/X/Cm0UAO2j++v6/4UbR/fX9f8KbRQA7aP76/r/hRtH99f1/wptFADto/vr+v+FG0f31/X/Cm0UAO2j++v6/4UbR/fX9f8KbRQA7aP76/r/hRtH99f1/wptFADto/vr+v+FG0f31/X/Cm0UAO2j++v6/4UbR/fX9f8KbRQA7aP76/r/hRtH99f1/wptFADto/vr+v+FIQB0YH6ZpKKAJrL/j/ALf/AK6r/Ooamsv+P+3/AOuq/wA6hoAKcv3abTl+7SYGz4T/AORntP8Agf8A6A1TVD4T/wCRntP+B/8AoDVNWUP4svRfmyeoUUUVuMKk1P8A5E9f+v8AH/os1HUmp/8AInr/ANf4/wDRZrGt9n1Qmc1U1l/x/wBv/wBdV/nUNTWX/H/b/wDXVf51qUQ0UUUAe0wWukR/CrWtF0PXtLkto7CKe6lzKHkuDMhZm+ThQAEUDPvjJrH0/wCzeK9NtfD99p+saTdabobut59o2w7UDSBniKD5G3fe3dx9a8ziu7m3gmhguJYorhQs0aOQsgByAwHUAjPNaDeKtffRhpD61ftp4G37KbhvL2/3cZ+77dKJap+f/B/K4R0t/Xb87GVRRRQAUUUUAFFFFABRRRQAUUUUAFFFFABRRRQAUUUUAFFFFABRRRQAUUUUAFFFFABRRRQAUUUUAFFFFABRRRQAUUUUAFFFFABRRRQAUUUUAFFFFABRRRQAUUUUAFFFFABRRRQAUUUUAFFFFAE1l/x/2/8A11X+dQ1NZf8AH/b/APXVf51DQAU5fu02nL92kwNnwn/yM9p/wP8A9Aapqh8J/wDIz2n/AAP/ANAapqyh/Fl6L82T1CiiitxhUmp/8iev/X+P/RZqOpNT/wCRPX/r/H/os1jW+z6oTOaqay/4/wC3/wCuq/zqGprL/j/t/wDrqv8AOtSiGlAXHJIP0pKKAHYT+83/AHz/APXown95v++f/r1di0HWJ9LfU4NKvpLCPO+7S2cxLjrlwMDH1qA6dejThfmzuBZl/LFz5TeXu5+XdjGeDx7UAQ4T+83/AHz/APXown95v++f/r02igB2E/vN/wB8/wD16MJ/eb/vn/69NooAdhP7zf8AfP8A9ejCf3m/75/+vTaKAHYT+83/AHz/APXown95v++f/r02igB2E/vN/wB8/wD16MJ/eb/vn/69NooAdhP7zf8AfP8A9ejCf3m/75/+vTaKAHYT+83/AHz/APXown95v++f/r02igB2E/vN/wB8/wD16MJ/eb/vn/69NooAdhP7zf8AfP8A9ejCf3m/75/+vTaKAHYT+83/AHz/APXown95v++f/r02igB2E/vN/wB8/wD16MJ/eb/vn/69NooAdhP7zf8AfP8A9ejCf3m/75/+vTaKAHYT+83/AHz/APXown95v++f/r02igB2E/vN/wB8/wD16MJ/eb/vn/69NooAdhP7zf8AfP8A9ejCf3m/75/+vTaKAHYT+83/AHz/APXown95v++f/r02igB2E/vN/wB8/wD16MJ/eb/vn/69NooAdhP7zf8AfP8A9ejCf3m/75/+vTaKAHYT+83/AHz/APXown95v++f/r02igB2E/vN/wB8/wD16MJ/eb/vn/69NooAdhP7zf8AfP8A9ejCf3m/75/+vTaKAHYT+83/AHz/APXown95v++f/r02igB2E/vN/wB8/wD16MJ/eb/vn/69NooAdhP7zf8AfP8A9ejCf3m/75/+vTaKAHYT+83/AHz/APXown95v++f/r02igB2E/vN/wB8/wD16MJ/eb/vn/69NooAdhP7zf8AfP8A9ekO3+Ek/UUlFAE1l/x/2/8A11X+dQ1NZf8AH/b/APXVf51DQAU5fu02nL92kwNnwn/yM9p/wP8A9Aapqh8J/wDIz2n/AAP/ANAapqyh/Fl6L82T1CiiitxhUmp/8iev/X+P/RZqOpNT/wCRPX/r/H/os1jW+z6oTOaqay/4/wC3/wCuq/zqGprL/j/t/wDrqv8AOtSiGiiigD2TXbGw1RrfT7SfWLQ23hYXNrPDOq2piWIM6lAMkMchm3D5sAg4rjre8uZ/grqFvPcSyQ2+r24hidyViBjlJ2g8DJ54rnl8R60miHR11W8Gmk5NoJ28s98bc4xnnHTPNSw+LvElvYrZQeINVitFTy1t0vZBGFxjaFBxj2pyd+bz/wA7/wDA/EcfdUfL/wCRt/wfwMiiiikIKKKKACiiigAooooAKKKKACiiigAooooAKKKKACiiigAooooAKKKKACiiigAooooAKKKKACiiigAooooAKKKKACiiigAooooAKKKKACiiigAooooAKKKKACiiigAooooAKKKKACiiigCay/4/7f8A66r/ADqGprL/AI/7f/rqv86hoAKcv3abTl+7SYGz4T/5Ge0/4H/6A1TVD4T/AORntP8Agf8A6A1TVlD+LL0X5snqFFFFbjCpNT/5E9f+v8f+izUdSan/AMiev/X+P/RZrGt9n1Qmc1U1l/x/2/8A11X+dQ1NZf8AH/b/APXVf51qUQ0oC45JB+lJRQA7Cf3m/wC+f/r0YT+83/fP/wBersWg6xPpb6nBpV9JYR533aWzmJcdcuBgY+tIdD1YaSNVOl3o04nAvPs7+T1x9/GOvHWgCnhP7zf98/8A16MJ/eb/AL5/+vTaKAHYT+83/fP/ANejCf3m/wC+f/r02igB2E/vN/3z/wDXown95v8Avn/69NooAdhP7zf98/8A16MJ/eb/AL5/+vTaKAHYT+83/fP/ANejCf3m/wC+f/r02igB2E/vN/3z/wDXown95v8Avn/69NooAdhP7zf98/8A16MJ/eb/AL5/+vTaKAHYT+83/fP/ANejCf3m/wC+f/r02igB2E/vN/3z/wDXown95v8Avn/69NooAdhP7zf98/8A16MJ/eb/AL5/+vTaKAHYT+83/fP/ANejCf3m/wC+f/r02igB2E/vN/3z/wDXown95v8Avn/69NooAdhP7zf98/8A16MJ/eb/AL5/+vTaKAHYT+83/fP/ANejCf3m/wC+f/r02igB2E/vN/3z/wDXown95v8Avn/69NooAdhP7zf98/8A16MJ/eb/AL5/+vTaKAHYT+83/fP/ANejCf3m/wC+f/r02igB2E/vN/3z/wDXown95v8Avn/69NooAdhP7zf98/8A16MJ/eb/AL5/+vTaKAHYT+83/fP/ANejCf3m/wC+f/r02igB2E/vN/3z/wDXown95v8Avn/69NooAdhP7zf98/8A16MJ/eb/AL5/+vTaKAHYT+83/fP/ANejCf3m/wC+f/r02igB2E/vN/3z/wDXown95v8Avn/69NooAdhP7zf98/8A16MJ/eb/AL5/+vTaKAHYT+83/fP/ANejCf3m/wC+f/r02igB2E/vN/3z/wDXpDt/hJP1FJRQBNZf8f8Ab/8AXVf51DU1l/x/2/8A11X+dQ0AFOX7tNpy/dpMDZ8J/wDIz2n/AAP/ANAapqh8J/8AIz2n/A//AEBqmrKH8WXovzZPUKKKK3GFSan/AMiev/X+P/RZqOpNT/5E9f8Ar/H/AKLNY1vs+qEzmqmsv+P+3/66r/Ooamsv+P8At/8Arqv861KIaKKKAPZNdsbDVGt9PtJ9YtDbeFhc2s8M6ramJYgzqUAyQxyGbcPmwCDik8Oanp2rstxcPqluLXww9rd2UsAFsYlhIEu/dyrHBAC53d/Xy5fEetJoh0ddVvBppOTaCdvLPfG3OMZ5x0zzSy+Jtcn0VNIm1a8k05MbbVp2MYA6DbnoOw7US97mXe/43/RhH3VFdrfhb/K5mUUUUAFFFFABRRRQAUUUUAFFFFABRRRQAUUUUAFFFFABRRRQAUUUUAFFFFABRRRQAUUUUAFFFFABRRRQAUUUUAFFFFABRRRQAUUUUAFFFFABRRRQAUUUUAFFFFABRRRQAUUUUAFFFFABRRRQBNZf8f8Ab/8AXVf51DU1l/x/2/8A11X+dQ0AFOX7tNpy/dpMDZ8J/wDIz2n/AAP/ANAapqh8J/8AIz2n/A//AEBqmrKH8WXovzZPUKKKK3GFSan/AMiev/X+P/RZqOpNT/5E9f8Ar/H/AKLNY1vs+qEzmqmsv+P+3/66r/Ooamsv+P8At/8Arqv861KIaUBcckg/SkooAdhP7zf98/8A16MJ/eb/AL5/+vW7L4J16HRU1Wa2t47SS3Fyhe9gV2jPRhGX3n6YzTbXwXr17oo1WCxX7GyPIjSXEaNIqDLsiMwZwPVQaNg3MTCf3m/75/8Ar0YT+83/AHz/APXptFADsJ/eb/vn/wCvRhP7zf8AfP8A9em0UAOwn95v++f/AK9GE/vN/wB8/wD16bRQA7Cf3m/75/8Ar0YT+83/AHz/APXptFADsJ/eb/vn/wCvRhP7zf8AfP8A9em0UAOwn95v++f/AK9GE/vN/wB8/wD16bRQA7Cf3m/75/8Ar0YT+83/AHz/APXptFADsJ/eb/vn/wCvRhP7zf8AfP8A9em0UAOwn95v++f/AK9GE/vN/wB8/wD16bRQA7Cf3m/75/8Ar0YT+83/AHz/APXptFADsJ/eb/vn/wCvRhP7zf8AfP8A9em0UAOwn95v++f/AK9GE/vN/wB8/wD16bRQA7Cf3m/75/8Ar0YT+83/AHz/APXptFADsJ/eb/vn/wCvRhP7zf8AfP8A9em0UAOwn95v++f/AK9GE/vN/wB8/wD16bRQA7Cf3m/75/8Ar0YT+83/AHz/APXptFADsJ/eb/vn/wCvRhP7zf8AfP8A9em0UAOwn95v++f/AK9GE/vN/wB8/wD16bRQA7Cf3m/75/8Ar0YT+83/AHz/APXptFADsJ/eb/vn/wCvRhP7zf8AfP8A9em0UAOwn95v++f/AK9GE/vN/wB8/wD16bRQA7Cf3m/75/8Ar0YT+83/AHz/APXptFADsJ/eb/vn/wCvRhP7zf8AfP8A9em0UAOwn95v++f/AK9GE/vN/wB8/wD16bRQA7Cf3m/75/8Ar0YT+83/AHz/APXptFADsJ/eb/vn/wCvRhP7zf8AfP8A9em0UAOwn95v++f/AK9Idv8ACSfqKSigCay/4/7f/rqv86hqay/4/wC3/wCuq/zqGgApy/dptOX7tJgbPhP/AJGe0/4H/wCgNU1Q+E/+RntP+B/+gNU1ZQ/iy9F+bJ6hRRRW4wqTU/8AkT1/6/x/6LNR1Jqf/Inr/wBf4/8ARZrGt9n1Qmc1U1l/x/2//XVf51DU1l/x/wBv/wBdV/nWpRDRRRQB6ydMvdW8O3C+MPC0FjaaXoQ+x6yjuCzIv7oB95jfcTjaBnmr0ulad4j0zQ5LrRBLpEfhzEuuLcSAWUsSNlcAiMEOOVYEtvznivGjLIYREZGManITdwD64oEsgiMQdhGxyUB4J9cUS1TS6/8AB/z/AACOlv67f5fiNooooAKKKKACiiigAooooAKKKKACiiigAooooAKKKKACiiigAooooAKKKKACiiigAooooAKKKKACiiigAooooAKKKKACiiigAooooAKKKKACiiigAooooAKKKKACiiigAooooAKKKKACiiigCay/4/7f/rqv86hqay/4/wC3/wCuq/zqGgApy/dptOX7tJgbPhP/AJGe0/4H/wCgNU1Q+E/+RntP+B/+gNU1ZQ/iy9F+bJ6hRRRW4wqTU/8AkT1/6/x/6LNR1Jqf/Inr/wBf4/8ARZrGt9n1Qmc1U1l/x/2//XVf51DU1l/x/wBv/wBdV/nWpRDSgrjkHP1pKKAHZT+63/fX/wBajKf3W/76/wDrVuy+Cdeh0VNVmtreO0ktxcoXvYFdoz0YRl95+mM0L4I8QPo51NLFTbi3+1EC4i80Q/8APTyt2/b77cUbBvsYWU/ut/31/wDWoyn91v8Avr/61NooAdlP7rf99f8A1qMp/db/AL6/+tTaKAHZT+63/fX/ANajKf3W/wC+v/rU2igB2U/ut/31/wDWoyn91v8Avr/61NooAdlP7rf99f8A1qMp/db/AL6/+tTaKAHZT+63/fX/ANajKf3W/wC+v/rU2igB2U/ut/31/wDWoyn91v8Avr/61NooAdlP7rf99f8A1qMp/db/AL6/+tTaKAHZT+63/fX/ANajKf3W/wC+v/rU2igB2U/ut/31/wDWoyn91v8Avr/61NooAdlP7rf99f8A1qMp/db/AL6/+tTaKAHZT+63/fX/ANajKf3W/wC+v/rU2igB2U/ut/31/wDWoyn91v8Avr/61NooAdlP7rf99f8A1qMp/db/AL6/+tTaKAHZT+63/fX/ANajKf3W/wC+v/rU2igB2U/ut/31/wDWoyn91v8Avr/61NooAdlP7rf99f8A1qMp/db/AL6/+tTaKAHZT+63/fX/ANajKf3W/wC+v/rU2igB2U/ut/31/wDWoyn91v8Avr/61NooAdlP7rf99f8A1qMp/db/AL6/+tTaKAHZT+63/fX/ANajKf3W/wC+v/rU2igB2U/ut/31/wDWoyn91v8Avr/61NooAdlP7rf99f8A1qMp/db/AL6/+tTaKAHZT+63/fX/ANajKf3W/wC+v/rU2igB2U/ut/31/wDWoyn91v8Avr/61NooAdlP7rf99f8A1qMp/db/AL6/+tTaKAHZT+63/fX/ANakJX+EEfU0lFAE1l/x/wBv/wBdV/nUNTWX/H/b/wDXVf51DQAU5fu02nL92kwNnwn/AMjPaf8AA/8A0BqmqHwn/wAjPaf8D/8AQGqasofxZei/Nk9QooorcYVJqf8AyJ6/9f4/9Fmo6k1P/kT1/wCv8f8Aos1jW+z6oTOaqay/4/7f/rqv86hqay/4/wC3/wCuq/zrUohpM0tNoA9ZOn3ereHp08X+F4LG10vQh9j1hHcEsi/ugH3mN9xONoGeah8GaNdab4f1Vb7Q5tPN5pM0i+IhKWiWFlBEeOUO7G3g7xmvLjLIYhEZGMYOQmeAfXFHnSeT5XmN5e7dszxn1x60PW9uv/BBaW8v+B/XzEzRmkooAXNGaSigBc0ZpKKAFzRmkooAXNGaSigBc0ZpKKAFzRmkooAXNGaSigBc0ZpKKAFzRmkooAXNGaSigBc0ZpKKAFzRmkooAXNGaSigBc0ZpKKAFzRmkooAXNGaSigBc0ZpKKAFzRmkooAXNGaSigBc0ZpKKAFzRmkooAXNGaSigBc0ZpKKAFzRmkooAXNGaSigBc0UlFAFiy/4/wC3/wCuq/zqGprL/j/t/wDrqv8AOoaACnL92m05fu0mBs+E/wDkZ7T/AIH/AOgNU1Q+E/8AkZ7T/gf/AKA1TVlD+LL0X5snqFFFFbjCpNT/AORPX/r/AB/6LNR1Jqf/ACJ6/wDX+P8A0WaxrfZ9UJnNVNZf8f8Ab/8AXVf51DU1l/x/2/8A11X+dalENMBXHIOfrT6hzQBJlPRvz/8ArUZT0b8//rVrjwjrLWb3SQW7xRxGZyt7CSqAZJ2h89Pao18L6w2mm+W1UwiH7QQJo/MEf9/y927b74o2DfYzMp6N+f8A9ajKejfn/wDWqPNGaAJMp6N+f/1qMp6N+f8A9ao80ZoAkyno35//AFqMp6N+f/1qjzRmgCTKejfn/wDWoyno35//AFqjzRmgCTKejfn/APWoyno35/8A1qjzRmgCTKejfn/9ajKejfn/APWqPNGaAJMp6N+f/wBajKejfn/9ao80ZoAkyno35/8A1qMp6N+f/wBao80ZoAkyno35/wD1qMp6N+f/ANao80ZoAkyno35//Woyno35/wD1qjzRmgCTKejfn/8AWoyno35//WqPNGaAJMp6N+f/ANajKejfn/8AWqPNGaAJMp6N+f8A9ajKejfn/wDWqPNGaAJMp6N+f/1qMp6N+f8A9ao80ZoAkyno35//AFqMp6N+f/1qjzRmgCTKejfn/wDWoyno35//AFqjzRmgCTKejfn/APWoyno35/8A1qjzRmgCTKejfn/9ajKejfn/APWqPNGaAJMp6N+f/wBajKejfn/9ao80ZoAkyno35/8A1qMp6N+f/wBao80ZoAkyno35/wD1qMp6N+f/ANao80ZoAkyno35//Woyno35/wD1qjzRmgCTKejfn/8AWoyno35//WqPNGaAJMp6N+f/ANajKejfn/8AWqPNGaAJMp6N+f8A9ajKejfn/wDWqPNGaAJMp6N+f/1qMp6N+f8A9ao80ZoAkyno35//AFqTK8YBHPc0zNKD8w+tAFuy/wCP+3/66r/Ooamsv+P+3/66r/OoaACnL92m05fu0mBs+E/+RntP+B/+gNU1Q+E/+RntP+B/+gNU1ZQ/iy9F+bJ6hRRRW4wqTU/+RPX/AK/x/wCizUdXbPWrvToTDbRxOjNuJcHOenqPSsa0ZNLlV2mJnI1NZf8AH/b/APXVf512H/CU6l/zwtv++T/8VR/wlOpf88Lb/vk//FVnz1/5F9//AAAu+xxNQV3v/CU6l/zwtv8Avk//ABVH/CU6l/zwtv8Avk//ABVHPX/kX3/8ALvsYkZ/s/4eySRnbNqd75THuYo1DY/76YZ+grX8N6fPZaTfrc6ZJaG50+RhrAk3RrGVzsxyvOMcHdzUn/CU6l/zwtv++T/8VR/wlOpf88Lb/vk//FUOdd39zfz8vQE2rabHBUV3v/CU6l/zwtv++T/8VR/wlOpf88Lb/vk//FUc9f8AkX3/APAC77HBUV3v/CU6l/zwtv8Avk//ABVH/CU6l/zwtv8Avk//ABVHPX/kX3/8ALvscFRXe/8ACU6l/wA8Lb/vk/8AxVH/AAlOpf8APC2/75P/AMVRz1/5F9//AAAu+xwVFd7/AMJTqX/PC2/75P8A8VR/wlOpf88Lb/vk/wDxVHPX/kX3/wDAC77HBUV3v/CU6l/zwtv++T/8VR/wlOpf88Lb/vk//FUc9f8AkX3/APAC77HBUV3v/CU6l/zwtv8Avk//ABVH/CU6l/zwtv8Avk//ABVHPX/kX3/8ALvscFRXe/8ACU6l/wA8Lb/vk/8AxVH/AAlOpf8APC2/75P/AMVRz1/5F9//AAAu+xwVFd7/AMJTqX/PC2/75P8A8VR/wlOpf88Lb/vk/wDxVHPX/kX3/wDAC77HBUV3v/CU6l/zwtv++T/8VR/wlOpf88Lb/vk//FUc9f8AkX3/APAC77HBUV3v/CU6l/zwtv8Avk//ABVH/CU6l/zwtv8Avk//ABVHPX/kX3/8ALvscFRXe/8ACU6l/wA8Lb/vk/8AxVH/AAlOpf8APC2/75P/AMVRz1/5F9//AAAu+xwVFd7/AMJTqX/PC2/75P8A8VR/wlOpf88Lb/vk/wDxVHPX/kX3/wDAC77HBUV3v/CU6l/zwtv++T/8VR/wlOpf88Lb/vk//FUc9f8AkX3/APAC77HBUV3v/CU6l/zwtv8Avk//ABVH/CU6l/zwtv8Avk//ABVHPX/kX3/8ALvscFRXe/8ACU6l/wA8Lb/vk/8AxVH/AAlOpf8APC2/75P/AMVRz1/5F9//AAAu+xwVFd7/AMJTqX/PC2/75P8A8VR/wlOpf88Lb/vk/wDxVHPX/kX3/wDAC77HBUV3v/CU6l/zwtv++T/8VR/wlOpf88Lb/vk//FUc9f8AkX3/APAC77HBUV3v/CU6l/zwtv8Avk//ABVH/CU6l/zwtv8Avk//ABVHPX/kX3/8ALvscFRXe/8ACU6l/wA8Lb/vk/8AxVH/AAlOpf8APC2/75P/AMVRz1/5F9//AAAu+xwVFd7/AMJTqX/PC2/75P8A8VR/wlOpf88Lb/vk/wDxVHPX/kX3/wDAC77HBUV3v/CU6l/zwtv++T/8VR/wlOpf88Lb/vk//FUc9f8AkX3/APAC77HBUV3v/CU6l/zwtv8Avk//ABVH/CU6l/zwtv8Avk//ABVHPX/kX3/8ALvscFRXe/8ACU6l/wA8Lb/vk/8AxVH/AAlOpf8APC2/75P/AMVRz1/5F9//AAAu+xwVFd7/AMJTqX/PC2/75P8A8VR/wlOpf88Lb/vk/wDxVHPX/kX3/wDAC77HBUV3v/CU6l/zwtv++T/8VR/wlOpf88Lb/vk//FUc9f8AkX3/APAC77HBUV3v/CU6l/zwtv8Avk//ABVH/CU6l/zwtv8Avk//ABVHPX/kX3/8ALvscFQv3h9a73/hKdS/54W3/fJ/+Ko/4SnUv+eFt/3yf/iqOev/ACL7/wDgBd9jj7L/AI/7f/rqv86hrtv+Ep1L/nhbf98n/wCKo/4SnUv+eFt/3yf/AIqjnr/yL7/+AF32OJpy/drtP+Ep1L/nhbf98n/4qj/hKdS/54W3/fJ/+Ko56/8AIvv/AOAF32MTwn/yM9p/wP8A9Aapq1f+Ep1L/nhbf98n/wCKrKqqSqc7lNW2637/AOYK99QoooroGFFFFABRRRQAUUUUAFFFFABRRRQAUUUUAFFFFABRRRQAUUUUAFFFFABRRRQAUUUUAFFFFABRRRQAUUUUAFFFFABRRRQAUUUUAFFFFABRRRQAUUUUAFFFFABRRRQAUUUUAFFFFABRRRQAUUUUAFFFFABRRRQAUUUUAFFFFABRRRQAUUUUAFFFFABRRRQB/9k=)"
      ],
      "metadata": {
        "id": "6FZh53qCR5kN"
      }
    },
    {
      "cell_type": "markdown",
      "source": [
        "## 11/03/2022 [3] SQL with Pokemon: Damage Multipliers"
      ],
      "metadata": {
        "id": "wxSr6s_DScSJ"
      }
    },
    {
      "cell_type": "markdown",
      "source": [
        "You have arrived at the Celadon Gym to battle Erika for the Rainbow Badge.\n",
        "\n",
        "She will be using Grass-type Pokemon. Any fire pokemon you have will be strong against grass, but your water types will be weakened. The multipliers table within your Pokedex will take care of that.\n",
        "\n",
        "Using the following tables, return the pokemon_name, modifiedStrength and element of the Pokemon whose strength, after taking these changes into account, is greater than or equal to 40, ordered from strongest to weakest.\n",
        "\n",
        "**pokemon schema**\n",
        "\n",
        "id <br>\n",
        "pokemon_name <br>\n",
        "element_id <br>\n",
        "str <br><br>\n",
        "\n",
        "**multipliers schema**\n",
        "\n",
        "id<br>\n",
        "element<br>\n",
        "multiplier<br>"
      ],
      "metadata": {
        "id": "bc7CIZ-xSfJZ"
      }
    },
    {
      "cell_type": "markdown",
      "source": [
        "```sql\n",
        "SELECT\n",
        "  p.pokemon_name as pokemon_name,\n",
        "  p.str * m.multiplier as modifiedStrength,\n",
        "  m.element as element\n",
        "  from pokemon p\n",
        "    full outer join multipliers m on p.element_id = m.id\n",
        "  where p.str * m.multiplier >= 40 --  where modifiedStrength >= 40\n",
        "  order by modifiedStrength DESC;\n",
        "```"
      ],
      "metadata": {
        "id": "eqwrd_YZm78U"
      }
    },
    {
      "cell_type": "markdown",
      "source": [
        "# Ranking 6"
      ],
      "metadata": {
        "id": "hyGnZeBTnNzo"
      }
    },
    {
      "cell_type": "markdown",
      "source": [
        "## 11/03/2022 [1] SQL Bug Fixing: Fix the QUERY - Totaling"
      ],
      "metadata": {
        "id": "GraRjok-FODX"
      }
    },
    {
      "cell_type": "markdown",
      "source": [
        "Oh no! Timmys been moved into the database divison of his software company but as we know Timmy loves making mistakes. Help Timmy keep his job by fixing his query...\n",
        "\n",
        "Timmy works for a statistical analysis company and has been given a task of totaling the number of sales on a given day grouped by each department name and then each day.\n",
        "\n",
        "Resultant table:\n",
        "\n",
        "day (type: date) {group by} [order by asc] <br>\n",
        "department (type: text) {group by} [In a real world situation it is bad practice to name a column after a table]<br>\n",
        "sale_count (type: int)<br>"
      ],
      "metadata": {
        "id": "i8zi8AYFFmiZ"
      }
    },
    {
      "cell_type": "markdown",
      "source": [
        "![11.png](data:image/png;base64,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)"
      ],
      "metadata": {
        "id": "cibPlNo1FrU-"
      }
    },
    {
      "cell_type": "markdown",
      "source": [
        "```sql\n",
        "# Solução\n",
        "\n",
        "SELECT \n",
        "  date(s.transaction_date) as day,\n",
        "  d.name as department,\n",
        "  COUNT(s.id) as sale_count\n",
        "  FROM department d\n",
        "    JOIN sale s on d.id = s.department_id\n",
        "  group by department, day\n",
        "  order by day;\n",
        "```"
      ],
      "metadata": {
        "id": "eUf05gbyTEoL"
      }
    },
    {
      "cell_type": "markdown",
      "source": [
        "resultado\n",
        "\n",
        "![22.JPG](data:image/jpeg;base64,/9j/4AAQSkZJRgABAQEAYABgAAD/4RFARXhpZgAATU0AKgAAAAgABAE7AAIAAAAoAAAISodpAAQAAAABAAAIcpydAAEAAABOAAAQ6uocAAcAAAgMAAAAPgAAAAAc6gAAAAgAAAAAAAAAAAAAAAAAAAAAAAAAAAAAAAAAAAAAAAAAAAAAAAAAAAAAAAAAAAAAAAAAAAAAAAAAAAAAAAAAAAAAAAAAAAAAAAAAAAAAAAAAAAAAAAAAAAAAAAAAAAAAAAAAAAAAAAAAAAAAAAAAAAAAAAAAAAAAAAAAAAAAAAAAAAAAAAAAAAAAAAAAAAAAAAAAAAAAAAAAAAAAAAAAAAAAAAAAAAAAAAAAAAAAAAAAAAAAAAAAAAAAAAAAAAAAAAAAAAAAAAAAAAAAAAAAAAAAAAAAAAAAAAAAAAAAAAAAAAAAAAAAAAAAAAAAAAAAAAAAAAAAAAAAAAAAAAAAAAAAAAAAAAAAAAAAAAAAAAAAAAAAAAAAAAAAAAAAAAAAAAAAAAAAAAAAAAAAAAAAAAAAAAAAAAAAAAAAAAAAAAAAAAAAAAAAAAAAAAAAAAAAAAAAAAAAAAAAAAAAAAAAAAAAAAAAAAAAAAAAAAAAAAAAAAAAAAAAAAAAAAAAAAAAAAAAAAAAAAAAAAAAAAAAAAAAAAAAAAAAAAAAAAAAAAAAAAAAAAAAAAAAAAAAAAAAAAAAAAAAAAAAAAAAAAAAAAAAAAAAAAAAAAAAAAAAAAAAAAAAAAAAAAAAAAAAAAAAAAAAAAAAAAAAAAAAAAAAAAAAAAAAAAAAAAAAAAAAAAAAAAAAAAAAAAAAAAAAAAAAAAAAAAAAAAAAAAAAAAAAAAAAAAAAAAAAAAAAAAAAAAAAAAAAAAAAAAAAAAAAAAAAAAAAAAAAAAAAAAAAAAAAAAAAAAAAAAAAAAAAAAAAAAAAAAAAAAAAAAAAAAAAAAAAAAAAAAAAAAAAAAAAAAAAAAAAAAAAAAAAAAAAAAAAAAAAAAAAAAAAAAAAAAAAAAAAAAAAAAAAAAAAAAAAAAAAAAAAAAAAAAAAAAAAAAAAAAAAAAAAAAAAAAAAAAAAAAAAAAAAAAAAAAAAAAAAAAAAAAAAAAAAAAAAAAAAAAAAAAAAAAAAAAAAAAAAAAAAAAAAAAAAAAAAAAAAAAAAAAAAAAAAAAAAAAAAAAAAAAAAAAAAAAAAAAAAAAAAAAAAAAAAAAAAAAAAAAAAAAAAAAAAAAAAAAAAAAAAAAAAAAAAAAAAAAAAAAAAAAAAAAAAAAAAAAAAAAAAAAAAAAAAAAAAAAAAAAAAAAAAAAAAAAAAAAAAAAAAAAAAAAAAAAAAAAAAAAAAAAAAAAAAAAAAAAAAAAAAAAAAAAAAAAAAAAAAAAAAAAAAAAAAAAAAAAAAAAAAAAAAAAAAAAAAAAAAAAAAAAAAAAAAAAAAAAAAAAAAAAAAAAAAAAAAAAAAAAAAAAAAAAAAAAAAAAAAAAAAAAAAAAAAAAAAAAAAAAAAAAAAAAAAAAAAAAAAAAAAAAAAAAAAAAAAAAAAAAAAAAAAAAAAAAAAAAAAAAAAAAAAAAAAAAAAAAAAAAAAAAAAAAAAAAAAAAAAAAAAAAAAAAAAAAAAAAAAAAAAAAAAAAAAAAAAAAAAAAAAAAAAAAAAAAAAAAAAAAAAAAAAAAAAAAAAAAAAAAAAAAAAAAAAAAAAAAAAAAAAAAAAAAAAAAAAAAAAAAAAAAAAAAAAAAAAAAAAAAAAAAAAAAAAAAAAAAAAAAAAAAAAAAAAAAAAAAAAAAAAAAAAAAAAAAAAAAAAAAAAAAAAAAAAAAAAAAAAAAAAAAAAAAAAAAAAAAAAAAAAAAAAAAAAAAAAAAAAAAAAAAAAAAAAAAAAAAAAAAAAAAAAAAAAAAAAAAAAAAAAAAAAAAAAAAAAAAAAAAAAAAAAAAAAAAAAAAAAAAAAAAAAAAAAAAAAAAAAAAAAAAAAAAAAAAAAAAAAAAAAAAAAAAAAAAAAAAAAAAAAAAAAAAAAAAAAAAAAAAAAAAAAAAAAAAAAAAAAAAAAAAAAAAAAAAAAAAAAAAAAAAAAAAAAAAAAAAAAAAAAAAAAAAAAAAAAAAAAAAAAAAAAAAAAAAAAAAAAAAAAAAAAAAAAAAAAAAAAAAAAAAAAAAAAAAAAAAAAAAAAAAAAAAAAAAAAAAAAAAAAAAAAAAAAAAAAAAAAAAAAAAAAAAAAAAAAAAAAAAAAAAAAAAAAAAAAAAAAAAAAAAAAAAAAAAAAAAAAAAAAAAAAAAAAAAAAAAAAAAAAAAAAAAAAAAAAAAAAAAAAAAAAAAAAAAAAAAAAAAAAAAAAAAAAAAAAAAAAAAAAAAAAAAAAAAAAAAAAAAAAAAAAAAAAAAAAAAAAAAAAAAAAAAAAAAAAAAAAAAAAAAAAAAAAAAAAAAAAAAAAAAAAAAAAAAAAAAAAAAAAAAAAAAAAAAAAAAAAAAAAAAAAAAAAAAAAAAAAAAAAAAAAAAAAAAAAAAAAAAAAAAAAAAAAAAAAAAAAAAAAAAAAAAAAAAAAAAAAAAAAAAAAAAAAAAAAAAAAAAAAAAAAAAAAAAAAAAAAAAAAAAAAAAAAAAAAAAAAAAAAAAAAAAAAAAAAAAAAAAAAAAAAAAAAAAAAAAAAAAAAAAAAAAAAAAAAAAAAAAAAAAAAAAAAAAAAAAAAAAAAAAAAAAAAAAAAAAAAAAAAAAAAAAAAAAAAAAAAAAAAAAAAAAAAAAAAAAAAAAAAAAAAAAAAAAAAAAAAAAAAAAAAAAAAAAAAAAAAAAAAAAAAAAAAAAAAAAAAAAAAAAAAAAAAAAAAAAAAAAAAAAAAAAAAAAAAAAAAAAAAAAAAAAAAAAAAAAAAAAAAAEd1aWxoZXJtZSBSdXkgfCBVbmltZWQgUG/Dp29zIGRlIENhbGRhcwAABZADAAIAAAAUAAAQwJAEAAIAAAAUAAAQ1JKRAAIAAAADNjkAAJKSAAIAAAADNjkAAOocAAcAAAgMAAAItAAAAAAc6gAAAAgAAAAAAAAAAAAAAAAAAAAAAAAAAAAAAAAAAAAAAAAAAAAAAAAAAAAAAAAAAAAAAAAAAAAAAAAAAAAAAAAAAAAAAAAAAAAAAAAAAAAAAAAAAAAAAAAAAAAAAAAAAAAAAAAAAAAAAAAAAAAAAAAAAAAAAAAAAAAAAAAAAAAAAAAAAAAAAAAAAAAAAAAAAAAAAAAAAAAAAAAAAAAAAAAAAAAAAAAAAAAAAAAAAAAAAAAAAAAAAAAAAAAAAAAAAAAAAAAAAAAAAAAAAAAAAAAAAAAAAAAAAAAAAAAAAAAAAAAAAAAAAAAAAAAAAAAAAAAAAAAAAAAAAAAAAAAAAAAAAAAAAAAAAAAAAAAAAAAAAAAAAAAAAAAAAAAAAAAAAAAAAAAAAAAAAAAAAAAAAAAAAAAAAAAAAAAAAAAAAAAAAAAAAAAAAAAAAAAAAAAAAAAAAAAAAAAAAAAAAAAAAAAAAAAAAAAAAAAAAAAAAAAAAAAAAAAAAAAAAAAAAAAAAAAAAAAAAAAAAAAAAAAAAAAAAAAAAAAAAAAAAAAAAAAAAAAAAAAAAAAAAAAAAAAAAAAAAAAAAAAAAAAAAAAAAAAAAAAAAAAAAAAAAAAAAAAAAAAAAAAAAAAAAAAAAAAAAAAAAAAAAAAAAAAAAAAAAAAAAAAAAAAAAAAAAAAAAAAAAAAAAAAAAAAAAAAAAAAAAAAAAAAAAAAAAAAAAAAAAAAAAAAAAAAAAAAAAAAAAAAAAAAAAAAAAAAAAAAAAAAAAAAAAAAAAAAAAAAAAAAAAAAAAAAAAAAAAAAAAAAAAAAAAAAAAAAAAAAAAAAAAAAAAAAAAAAAAAAAAAAAAAAAAAAAAAAAAAAAAAAAAAAAAAAAAAAAAAAAAAAAAAAAAAAAAAAAAAAAAAAAAAAAAAAAAAAAAAAAAAAAAAAAAAAAAAAAAAAAAAAAAAAAAAAAAAAAAAAAAAAAAAAAAAAAAAAAAAAAAAAAAAAAAAAAAAAAAAAAAAAAAAAAAAAAAAAAAAAAAAAAAAAAAAAAAAAAAAAAAAAAAAAAAAAAAAAAAAAAAAAAAAAAAAAAAAAAAAAAAAAAAAAAAAAAAAAAAAAAAAAAAAAAAAAAAAAAAAAAAAAAAAAAAAAAAAAAAAAAAAAAAAAAAAAAAAAAAAAAAAAAAAAAAAAAAAAAAAAAAAAAAAAAAAAAAAAAAAAAAAAAAAAAAAAAAAAAAAAAAAAAAAAAAAAAAAAAAAAAAAAAAAAAAAAAAAAAAAAAAAAAAAAAAAAAAAAAAAAAAAAAAAAAAAAAAAAAAAAAAAAAAAAAAAAAAAAAAAAAAAAAAAAAAAAAAAAAAAAAAAAAAAAAAAAAAAAAAAAAAAAAAAAAAAAAAAAAAAAAAAAAAAAAAAAAAAAAAAAAAAAAAAAAAAAAAAAAAAAAAAAAAAAAAAAAAAAAAAAAAAAAAAAAAAAAAAAAAAAAAAAAAAAAAAAAAAAAAAAAAAAAAAAAAAAAAAAAAAAAAAAAAAAAAAAAAAAAAAAAAAAAAAAAAAAAAAAAAAAAAAAAAAAAAAAAAAAAAAAAAAAAAAAAAAAAAAAAAAAAAAAAAAAAAAAAAAAAAAAAAAAAAAAAAAAAAAAAAAAAAAAAAAAAAAAAAAAAAAAAAAAAAAAAAAAAAAAAAAAAAAAAAAAAAAAAAAAAAAAAAAAAAAAAAAAAAAAAAAAAAAAAAAAAAAAAAAAAAAAAAAAAAAAAAAAAAAAAAAAAAAAAAAAAAAAAAAAAAAAAAAAAAAAAAAAAAAAAAAAAAAAAAAAAAAAAAAAAAAAAAAAAAAAAAAAAAAAAAAAAAAAAAAAAAAAAAAAAAAAAAAAAAAAAAAAAAAAAAAAAAAAAAAAAAAAAAAAAAAAAAAAAAAAAAAAAAAAAAAAAAAAAAAAAAAAAAAAAAAAAAAAAAAAAAAAAAAAAAAAAAAAAAAAAAAAAAAAAAAAAAAAAAAAAAAAAAAAAAAAAAAAAAAAAAAAAAAAAAAAAAAAAAAAAAAAAAAAAAAAAAAAAAAAAAAAAAAAAAAAAAAAAAAAAAAAAAAAAAAAAAAAAAAAAAAAAAAAAAAAAAAAAAAAAAAAAAAAAAAAAAAAAAAAAAAAAAAAAAAAAAAAAAAAAAAAAAAAAAAAAAAAAAAAAAAAAAAAAAAAAAAAAAAAAAAAAAAAAAAAAAAAAAAAAAAAAAAAAAAAAAAAAAAAAAAAAAAAAAAAAAAAAAAAAAAAAAAAAAAAAAAAAAAAAAAAAAAAAAAAAAAAAAAAAAAAAAAAAAAAAAAAAAAAAAAAAAAAAAAAAAAAAAAAAAAAAAAAAAAAAAAAAAAAAAAAAAAAAAAAAAAAAAAAAAAAAAAAAAAAAAAAAAAAAAAAAAAAAAAAAAAAAAAAAAAAAAAAAAAAAAAAAAAAAAAAAAAAAAAAAAAAAAAAAAAAAAAAAAAAAAAAAAAAAAAAAAAAAAAAAAAAAAAAAAAAAAAAAAAAAAAAAAAAAAAAAAAAAAAAAAAAAAAAAAAAAAAAAAAAAAAAAAAAAAAAAAAAAAAAAAAAAAAAAAAAAAAAAAAAAAAAAAAAAAAAAAAAAAAAAAAAAAAAAAAAAAAAAAAAAAAAAAAAAAAAAAAAAAAAAAAAAAAAAAAAAAAAAAAAAAAAAAAAAAAAAAAAAAAAAAAAAAAAAAAAAAAAAAAAAAAAAAAAAAAAAAAAAAAAAAAAAAAAAAAAAAAAAAAAAAAAAAAAAAAAAAAAAAAAAADIwMjI6MDM6MTEgMTA6MDc6NTQAMjAyMjowMzoxMSAxMDowNzo1NAAAAEcAdQBpAGwAaABlAHIAbQBlACAAUgB1AHkAIAB8ACAAVQBuAGkAbQBlAGQAIABQAG8A5wBvAHMAIABkAGUAIABDAGEAbABkAGEAcwAAAP/hCzpodHRwOi8vbnMuYWRvYmUuY29tL3hhcC8xLjAvADw/eHBhY2tldCBiZWdpbj0n77u/JyBpZD0nVzVNME1wQ2VoaUh6cmVTek5UY3prYzlkJz8+DQo8eDp4bXBtZXRhIHhtbG5zOng9ImFkb2JlOm5zOm1ldGEvIj48cmRmOlJERiB4bWxuczpyZGY9Imh0dHA6Ly93d3cudzMub3JnLzE5OTkvMDIvMjItcmRmLXN5bnRheC1ucyMiPjxyZGY6RGVzY3JpcHRpb24gcmRmOmFib3V0PSJ1dWlkOmZhZjViZGQ1LWJhM2QtMTFkYS1hZDMxLWQzM2Q3NTE4MmYxYiIgeG1sbnM6ZGM9Imh0dHA6Ly9wdXJsLm9yZy9kYy9lbGVtZW50cy8xLjEvIi8+PHJkZjpEZXNjcmlwdGlvbiByZGY6YWJvdXQ9InV1aWQ6ZmFmNWJkZDUtYmEzZC0xMWRhLWFkMzEtZDMzZDc1MTgyZjFiIiB4bWxuczp4bXA9Imh0dHA6Ly9ucy5hZG9iZS5jb20veGFwLzEuMC8iPjx4bXA6Q3JlYXRlRGF0ZT4yMDIyLTAzLTExVDEwOjA3OjU0LjY5MDwveG1wOkNyZWF0ZURhdGU+PC9yZGY6RGVzY3JpcHRpb24+PHJkZjpEZXNjcmlwdGlvbiByZGY6YWJvdXQ9InV1aWQ6ZmFmNWJkZDUtYmEzZC0xMWRhLWFkMzEtZDMzZDc1MTgyZjFiIiB4bWxuczpkYz0iaHR0cDovL3B1cmwub3JnL2RjL2VsZW1lbnRzLzEuMS8iPjxkYzpjcmVhdG9yPjxyZGY6U2VxIHhtbG5zOnJkZj0iaHR0cDovL3d3dy53My5vcmcvMTk5OS8wMi8yMi1yZGYtc3ludGF4LW5zIyI+PHJkZjpsaT5HdWlsaGVybWUgUnV5IHwgVW5pbWVkIFBvw6dvcyBkZSBDYWxkYXM8L3JkZjpsaT48L3JkZjpTZXE+DQoJCQk8L2RjOmNyZWF0b3I+PC9yZGY6RGVzY3JpcHRpb24+PC9yZGY6UkRGPjwveDp4bXBtZXRhPg0KICAgICAgICAgICAgICAgICAgICAgICAgICAgICAgICAgICAgICAgICAgICAgICAgICAgICAgICAgICAgICAgICAgICAgICAgICAgICAgICAgICAgICAgICAgICAgICAgICAgIAogICAgICAgICAgICAgICAgICAgICAgICAgICAgICAgICAgICAgICAgICAgICAgICAgICAgICAgICAgICAgICAgICAgICAgICAgICAgICAgICAgICAgICAgICAgICAgICAgICAgCiAgICAgICAgICAgICAgICAgICAgICAgICAgICAgICAgICAgICAgICAgICAgICAgICAgICAgICAgICAgICAgICAgICAgICAgICAgICAgICAgICAgICAgICAgICAgICAgICAgICAKICAgICAgICAgICAgICAgICAgICAgICAgICAgICAgICAgICAgICAgICAgICAgICAgICAgICAgICAgICAgICAgICAgICAgICAgICAgICAgICAgICAgICAgICAgICAgICAgICAgIAogICAgICAgICAgICAgICAgICAgICAgICAgICAgICAgICAgICAgICAgICAgICAgICAgICAgICAgICAgICAgICAgICAgICAgICAgICAgICAgICAgICAgICAgICAgICAgICAgICAgCiAgICAgICAgICAgICAgICAgICAgICAgICAgICAgICAgICAgICAgICAgICAgICAgICAgICAgICAgICAgICAgICAgICAgICAgICAgICAgICAgICAgICAgICAgICAgICAgICAgICAKICAgICAgICAgICAgICAgICAgICAgICAgICAgICAgICAgICAgICAgICAgICAgICAgICAgICAgICAgICAgICAgICAgICAgICAgICAgICAgICAgICAgICAgICAgICAgICAgICAgIAogICAgICAgICAgICAgICAgICAgICAgICAgICAgICAgICAgICAgICAgICAgICAgICAgICAgICAgICAgICAgICAgICAgICAgICAgICAgICAgICAgICAgICAgICAgICAgICAgICAgCiAgICAgICAgICAgICAgICAgICAgICAgICAgICAgICAgICAgICAgICAgICAgICAgICAgICAgICAgICAgICAgICAgICAgICAgICAgICAgICAgICAgICAgICAgICAgICAgICAgICAKICAgICAgICAgICAgICAgICAgICAgICAgICAgICAgICAgICAgICAgICAgICAgICAgICAgICAgICAgICAgICAgICAgICAgICAgICAgICAgICAgICAgICAgICAgICAgICAgICAgIAogICAgICAgICAgICAgICAgICAgICAgICAgICAgICAgICAgICAgICAgICAgICAgICAgICAgICAgICAgICAgICAgICAgICAgICAgICAgICAgICAgICAgICAgICAgICAgICAgICAgCiAgICAgICAgICAgICAgICAgICAgICAgICAgICAgICAgICAgICAgICAgICAgICAgICAgICAgICAgICAgICAgICAgICAgICAgICAgICAgICAgICAgICAgICAgICAgICAgICAgICAKICAgICAgICAgICAgICAgICAgICAgICAgICAgICAgICAgICAgICAgICAgICAgICAgICAgICAgICAgICAgICAgICAgICAgICAgICAgICAgICAgICAgICAgICAgICAgICAgICAgIAogICAgICAgICAgICAgICAgICAgICAgICAgICAgICAgICAgICAgICAgICAgICAgICAgICAgICAgICAgICAgICAgICAgICAgICAgICAgICAgICAgICAgICAgICAgICAgICAgICAgCiAgICAgICAgICAgICAgICAgICAgICAgICAgICAgICAgICAgICAgICAgICAgICAgICAgICAgICAgICAgICAgICAgICAgICAgICAgICAgICAgICAgICAgICAgICAgICAgICAgICAKICAgICAgICAgICAgICAgICAgICAgICAgICAgICAgICAgICAgICAgICAgICAgICAgICAgICAgICAgICAgICAgICAgICAgICAgICAgICAgICAgICAgICAgICAgICAgICAgICAgIAogICAgICAgICAgICAgICAgICAgICAgICAgICAgICAgICAgICAgICAgICAgICAgICAgICAgICAgICAgICAgICAgICAgICAgICAgICAgICAgICAgICAgICAgICAgICAgICAgICAgCiAgICAgICAgICAgICAgICAgICAgICAgICAgICAgICAgICAgICAgICAgICAgICAgICAgICAgICAgICAgICAgICAgICAgICAgICAgICAgICAgICAgICAgICAgICAgICAgICAgICAKICAgICAgICAgICAgICAgICAgICAgICAgICAgICAgICAgICAgICAgICAgICAgICAgICAgICAgICAgICAgICAgICAgICAgICAgICAgICAgICAgICAgICAgICAgICAgICAgICAgIAogICAgICAgICAgICAgICAgICAgICAgICAgICAgICAgICAgICAgICAgICAgICAgICAgICAgICAgICAgICAgICAgICAgICAgICAgICAgICAgICAgICAgICAgICAgICAgICAgICAgCiAgICAgICAgICAgICAgICAgICAgICAgICAgICA8P3hwYWNrZXQgZW5kPSd3Jz8+/9sAQwAHBQUGBQQHBgUGCAcHCAoRCwoJCQoVDxAMERgVGhkYFRgXGx4nIRsdJR0XGCIuIiUoKSssKxogLzMvKjInKisq/9sAQwEHCAgKCQoUCwsUKhwYHCoqKioqKioqKioqKioqKioqKioqKioqKioqKioqKioqKioqKioqKioqKioqKioqKioq/8AAEQgBvwImAwEiAAIRAQMRAf/EAB8AAAEFAQEBAQEBAAAAAAAAAAABAgMEBQYHCAkKC//EALUQAAIBAwMCBAMFBQQEAAABfQECAwAEEQUSITFBBhNRYQcicRQygZGhCCNCscEVUtHwJDNicoIJChYXGBkaJSYnKCkqNDU2Nzg5OkNERUZHSElKU1RVVldYWVpjZGVmZ2hpanN0dXZ3eHl6g4SFhoeIiYqSk5SVlpeYmZqio6Slpqeoqaqys7S1tre4ubrCw8TFxsfIycrS09TV1tfY2drh4uPk5ebn6Onq8fLz9PX29/j5+v/EAB8BAAMBAQEBAQEBAQEAAAAAAAABAgMEBQYHCAkKC//EALURAAIBAgQEAwQHBQQEAAECdwABAgMRBAUhMQYSQVEHYXETIjKBCBRCkaGxwQkjM1LwFWJy0QoWJDThJfEXGBkaJicoKSo1Njc4OTpDREVGR0hJSlNUVVZXWFlaY2RlZmdoaWpzdHV2d3h5eoKDhIWGh4iJipKTlJWWl5iZmqKjpKWmp6ipqrKztLW2t7i5usLDxMXGx8jJytLT1NXW19jZ2uLj5OXm5+jp6vLz9PX29/j5+v/aAAwDAQACEQMRAD8A8loopkkmzHGc0xD6Kh8//Z/Wjz/9n9aAJqKh8/8A2f1o8/8A2f1oAmoqHz/9n9aPP/2f1oAmoqHz/wDZ/Wjz/wDZ/WgCaiofP/2f1o8//Z/WgCaiofP/ANn9aPP/ANn9aAJqKh8//Z/Wjz/9n9aAJqKn+zf7X6UfZv8Aa/SgCCip/s3+1+lH2b/a/SgCCip/s3+1+lH2b/a/SgCCip/s3+1+lH2b/a/SgCCip/s3+1+lH2b/AGv0oAgop06eRGGzuycY6VX8/wD2f1oAmoqHz/8AZ/Wjz/8AZ/WgCaiofP8A9n9aPP8A9n9aAJqKh8//AGf1o8//AGf1oAmoqHz/APZ/Wjz/APZ/WgCaiofP/wBn9aPP/wBn9aAJqKh8/wD2f1o8/wD2f1oAmoqHz/8AZ/Wjz/8AZ/WgCaiofP8A9n9aPP8A9n9aAJqKh8//AGf1o8//AGf1oAmoqHz/APZ/Wjz/APZ/WgCaiofP/wBn9aPP/wBn9aAJqKh8/wD2f1o8/wD2f1oAmoqHz/8AZ/Wjz/8AZ/WgCaiofP8A9n9aPP8A9n9aAJqKh8//AGf1o8//AGf1oAmoqHz/APZ/Wjz/APZ/WgCaiofP/wBn9aPP/wBn9aAJqKh8/wD2f1o8/wD2f1oAmoqHz/8AZ/Wjz/8AZ/WgCaiofP8A9n9alByoPqKAFooooAKhn/h/Gpqhn/h/GgCGiirOnW6XmqWttIWCTTJGxXqAWAOKYFaitq48OXTX1+tgga1tLloDNNMiAcnGSxA5x+dQJ4d1Nri4ha3WN7ZwkpmmSNQx6DcxAJPbBp8r7CujMoraPhydPD8t/K0ccsdyYTE88akAKS3BOd2QMDr7VGfDOqrPDA1vGJpsGOI3EYdgRkELuzjHfpRyy7BdGTRVldPunsxdJCWiabyAVIJMmM7cdelatn4S1CXVLe1uliiV5ljlK3MRaPPOCAxw2M4B5OOlCi3sF0jBoral0VLey1N5RJJJauixvBNFJGAzEfOQc5wO3Q9aguPD2p2tq889sAsSq0qiVGeMN0LIDuX8QKOVhdGZRWrN4a1W3gklltlURxCZlEyFxGcfPtB3beeuMVFJoeoRWIu5IVEfliXHmoXCE4DFM7gPfGKOV9gujPoooqRmzRRRQAUV0mm6FYQ+GH1/X5Lg27zG3tbW1ZVedwMkl2BCqP8AdJqW48MW2paHbat4XNy6yXSWc1ndMpeKVvu4cBQynIGcDFAHLUVqL4c1QpeubdVSxnW3uXeZFWKQttAJJxjPfoOucVt654AvrPxFHpWjqt7I8CyBBdRNITsDN8obIHpkc9s0AchRW83grX1urWAWKyPeM6wNFcROjMgJZd6sVBGDwSDxTNG8L3+rNYyhEjsru7FqJ3nRPm6kAMRzjp69Bk0AYlFaniLRzoeu3VkJI5I45nWMpPHKdoYgbthO1uOQcH2rLoArX/8AqF/3v6Gs+tC//wBQv+9/Q1n0AFFFFABRRRQAUUUUAFFFFABRRRQAUUUUAFFFFABRRRQAUUUUAFFFFABRRRQAUUUUAFFFFABRRRQAUUUUAFFFFABRRRQAUUUUAFFFFABVpPuL9Kq1aT7i/SgB1FFFABUM/wDD+NTVDP8Aw/jQBDVvSpo7bWLOeZtscU6O7YzgBgSaqUU9gOk1TVbK403VooZtz3Gp+fENjDcmG56cdRwea0rnWdOutWncalamxlMIltrq1kZZAI9rMpC7lYcgY2/WuJoq/aMnlR0LXOmXHh27sobkWm2/a5gjmR2Lx7CAuVB56dfzqw2t2K+OrPUllL2saRK7hDxiMKeDzwf5Vy1FLnYcp1dvqenaPp9pHDeJfyQ6ot26xxOo2bccbgOaigl0qw8Twaouqrcx/bPMKJA4ZUJyS2QORnoM965mijnYcp08WoWGm2uppFeR3bTXEE8QSNwHCuWI+ZRjFTXOp6ZFeazqcF8LhtRgaOK1MThkL4J3kjb8uOxOa5KinzsOVHXHW9OPiK9uTcZgl0s26N5bcyeUq4xj1HXpVW7vbCbQWS9vIL64SFFtSlu8c0RGMqzYCsoGRyWPTpXN0UudhyoKKKKgo2aKKKAOqsNU07U/BY8P6td/2fLa3DXNpctGzxHcMMjhQWHPIIBq9aeINK8OaTYaVYXZ1AtqMN9fXMcTJGAhBCIGAY9M5IFcPRQB32r6rocfh/xRDZ6xHeT6tfJcwRx28q4XzNxDFlAB5Ptx17Vv6Ze6VrXxMTVNN1OOZZ7CRJIfJkV4dsOCTlQDznoT0ryKprW8ubGbzrK4lt5dpXfE5RsHgjI7GgD0LQfE2ieHbXQtOfUBeLBfS3VzcwQyeXEGjaMAB1Vm+8CePzqpFq2iaR4f0Wwh1ZL6S01tL2ZoYJFURDuN6jJwOnr69a4KigDa8V/YZPEV3d6ZqMV/DdzST5jikTy9zkhSHUc4I6Vi0UUAVr//AFC/739DWfWhf/6hf97+hrPoAKKKKACiiigAooooAKKKKACiiigAooooAKKKKACiiigAooooAKKKKACiiigAooooAKKKKACiiigAooooAKKKKACiiigAooooAKKKKACrSfcX6VVq0n3F+lADqKKKACpodOe9iklE8EEcON7zvtAz05x7VDVhv+RW1b/tj/6HWVaTjG8e6/FpCYz+yY/+gvpf/gT/APWo/smP/oL6X/4E/wD1q5mip5an834BZnTf2TH/ANBfS/8AwJ/+tR/ZMf8A0F9L/wDAn/61czRRy1P5vwCzOm/smP8A6C+l/wDgT/8AWo/smP8A6C+l/wDgT/8AWrmaKOWp/N+AWZ039kx/9BfS/wDwJ/8ArUf2TH/0F9L/APAn/wCtXM0UctT+b8Aszpv7Jj/6C+l/+BP/ANaj+yY/+gvpf/gT/wDWrmaKOWp/N+AWZ039kx/9BfS//An/AOtR/ZMf/QX0v/wJ/wDrVzNFHLU/m/ALM6b+yY/+gvpf/gT/APWo/smP/oL6X/4E/wD1q5mijlqfzfgFmdt5Ft/0FdO/8CBR5Ft/0FdO/wDAgVxNFHLU/m/ALM7byLb/AKCunf8AgQKPItv+grp3/gQK4mijlqfzfgFmdt5Ft/0FdO/8CBR5Ft/0FdO/8CBXE0UctT+b8AsztvItv+grp3/gQKPItv8AoK6d/wCBAriaKOWp/N+AWZ23kW3/AEFdO/8AAgUeRbf9BXTv/AgVxNFHLU/m/ALM7C5soJowq6tpoOc83Iqr/ZMf/QX0v/wJ/wDrVzNFHLU/m/ALM6b+yY/+gvpf/gT/APWo/smP/oL6X/4E/wD1q5mijlqfzfgFmdN/ZMf/AEF9L/8AAn/61H9kx/8AQX0v/wACf/rVzNFHLU/m/ALM6b+yY/8AoL6X/wCBP/1qP7Jj/wCgvpf/AIE//WrmaKOWp/N+AWZ039kx/wDQX0v/AMCf/rUf2TH/ANBfS/8AwJ/+tXM0UctT+b8Aszpv7Jj/AOgvpf8A4E//AFqP7Jj/AOgvpf8A4E//AFq5mijlqfzfgFmdN/ZMf/QX0v8A8Cf/AK1H9kx/9BfS/wDwJ/8ArVzNFHLU/m/ALM6b+yY/+gvpf/gT/wDWo/smP/oL6X/4E/8A1q5mijlqfzfgFmdN/ZMf/QX0v/wJ/wDrUf2TH/0F9L/8Cf8A61czRRy1P5vwCzOm/smP/oL6X/4E/wD1qP7Jj/6C+l/+BP8A9auZoo5an834BZnTf2TH/wBBfS//AAJ/+tR/ZMf/AEF9L/8AAn/61czRRy1P5vwCzOm/smP/AKC+l/8AgT/9aj+yY/8AoL6X/wCBP/1q5mijlqfzfgFmdN/ZMf8A0F9L/wDAn/61H9kx/wDQX0v/AMCf/rVzNFHLU/m/ALM6b+yY/wDoL6X/AOBP/wBaj+yY/wDoL6X/AOBP/wBauZoo5an834BZnTf2TH/0F9L/APAn/wCtR/ZMf/QX0v8A8Cf/AK1czRRy1P5vwCzOm/smP/oL6X/4E/8A1qP7Jj/6C+l/+BP/ANauZoo5an834BZnTf2TH/0F9L/8Cf8A61H9kx/9BfS//An/AOtXM0UctT+b8Aszpv7Jj/6C+l/+BP8A9aj+yY/+gvpf/gT/APWrmaKOWp/N+AWZ039kx/8AQX0v/wACf/rUf2TH/wBBfS//AAJ/+tXM0UctT+b8Aszpv7Jj/wCgvpf/AIE//WpV0dWOF1XTCfQXP/1q5itXSUHkO+PmLYz+FHLU/m/ALM1RoZMixjUtOLsQFXz+SfQDFQSQtbyvC5BaNihI6ZHFPgQNqFmxHK3MRH/fYp+of8hO6/67P/6EaIOaqcsnfQNbleiiitxhVhv+RW1b/tj/AOh1Xqw3/Irat/2x/wDQ6xr/AAL1X5oTOWoooHJrXcoKK62T4carFph1FtR0I2m4oJl1eAqzgZKA7sFsYOOvNc/e6abG0srg3dpOLuIyCOCYO8ODjbIP4W749KV9bAUqKKKYBRRUtpaT395DaWcTTXE7iOONRyzE4AFG4bEVFbq+C9fbWr7SjYql1p67rvzLiNI4Bxy0jMEHUd6a3g3X18R/2CdOYajs8zyvMTbs27t+/OzbjndnHvRe6uuoGJRW2/g3XU1qz0oWIku76PzbYQzxyJKnPzLIrFCODk5wMc1V1jQNS0FoBqUKItynmQyxTJNHKucEq6EqcH0PFAGdRRRQAUUUUAFFX9O0r7fbXVw93Daw2oUu8oY/eOBgKCetNvNKuLW5hhQrc/aIxJC9vlhIpyOAQD1BGCM8VPPG9ieZXsUqKk+zT/afs/kSednHlbDuz6Y60q2ly1ybdbeUzjrEEO4fh1p3Q7oioqSO2nlnMEUEjygkGNUJbjrxRHbzSz+TFDI8uSPLVSW/Ki6C6I6K0NQ0eaykto03zPNarcMojIMec5BHtjrVewspdRvo7W32iSQnBc4AAGSSfQAE0lOLV7i5lbm6Feirl9pr2McEonhuIJwTHLDu2kg4IwwBBH071Tpppq6GmnqgorofDnhWPXNK1PUrvVrfS7PTTEJZZ4pJMmQkLgIpPUeneqcugzXGqTWnh1pNdjiUN51laykEEf3SoYYPHI7U3o7DMqitG10yGfSNSu57p4J7MxhIPs7t5pZsEFxwmP8Aa69BVnX/AA3Lo2vRaVbSPfSywQSp5cRDMZY1faFBOSN2PegP6/r7zFoqzPp19a3wsrqzuIbskAQSRMsmT0G0jPNbl/4Jv9O8L2Gp3CXKXl5evZrp8lqyyAhQQeeTndwMUdLh1sc1RUy2Vy1+LLyJBdGXyvJZcNvzjbg9DnjFdBr3gW/0DT57t77T75LW4FreJZys7WspGQr5UDsRkZGQRmjpcOtjmaKKKACiiigAooooAKKKKACiiigAooooAKKKKACiiigAooooAKKKKACiiigAooooAKKKKACiiigArW0r/j1b/fP8hWTWtpX/AB6t/vn+QoA0rb/j+tP+vmL/ANDFLqH/ACE7r/rs/wD6EaS2/wCP60/6+Yv/AEMUuof8hO6/67P/AOhGsf8Al98v1J6leiiitxhVhv8AkVtW/wC2P/odV6sN/wAitq3/AGx/9DrGv8C9V+aEzlqKKK1KOym/5Ifaf9jBL/6TpXRaNbwN4u+GqtDGyyWQMilRh/303X1ryuinf3ubzT+5WJavFrumvvdz1+z8Zaw3hXS9TL2wvP8AhIDYrKLOIFLbYjGJfl4XPpWjotnYadrHjhtIt73+1LbVikaaVbRS3EVtub/Vo/G3dgHaM4x2rw+nRyyQyCSF2jdejKcEfjS6/wBeX+TfzZb3f9d/819yO+8VTatLeeLH0bSJtP0lzanVIbmCNJIn42kqD8u59xwvrzVDwDqmh6M2oXepXtxZao0Xk2E8VoJxBu4eTG5fmxwOeMk81x4kcKyhmCt94Z4P1pKcXysT1PVfFPg2fxf8atVsdHmmeJQs1/MYD/o6hRkBQSXOAuAOSTjHGatWEl9cfEuZpdFvbOKx0OS307Sb2Fo5dQgRNgjO4ZJbLMdozwQOma8goVirBlJBByCD0qYrlio+X6WDrf8Arue2xWvk+LPC81vZS6U9vo908PhyY5lLDfmLL8/vdzHJGcA47VFHaR/8JX8PEfSZNGhMsy/2JdZZofnJMmX+Yq5PAYfw8Z614y8skkpkkdmcnJZjkk/WiSWSaQyTO0jt1Zjkn8aq+qf9bt/qTJXi491b8D12z8Zaw3hXS9TL2wvP+EgNisos4gUttiMYl+Xhc+lXNEgurPxh4r03RdLvreKbWTBHqmmWkc5tPmbCSRsP9Vzk4Ixj8K8Up0cskW7ypGTcpVtpxkeh9qXW/wDWy/VX+f329W7f1v8A5/h91zXLZ7PxBqFtJNFcPDcyI0sKhUchiCygcAH0FUaKKSVlYG7u5t6LeW9roOsC4SCZpBDsgmdh5mH5xtYE468GptOvm1TUJJJpltfItfLt7eCcWyuAw/d72PTkk5OT61z1FZuknd9zJ007vudld35/4SC1ks3s5nOmrDOpuwFJ5DKJS33sYwc/nUCSfZtauks7hLuOa2RZlnv1V16Eos2QCVIHI4xxg1ylFQqCXUj2KSsdlazWUM2sWtvdG7mkkiKSyXoiaVADuXzehwSPTOKiF613PrSwywWmoTxwrG32tSGVcBwJcgEnAJ55wa5Kij2Cve/9af5B7Fb/ANdP8jp9XlnuNSsha6pCJ49MCTTi6GCRu3JvB5J6Y71l+HZI4dbilklWJkV2iZ32qZNp2hj2UnANZlFWqdouJap2jym74ilElnp4l+yx3KLIskFm6tGg3ZDYUkBjk5APYdKwqKKqEeWNiox5VY7nwVr1tofgPxUZF0+4uZXs/Js75VkWbDtuwhPzYBzx04rX8D3sc9rfaut3Ba3DX8ZfTItTGm2sMYXPnlQQXAPG1T375ry+iteb3ub+un+Q2rqx6d4m1PS5G+JAs720db27tHtRFMpE+JSWKYPzYzk4rVsdU0u1+Jb3VzdWpW+8ORRWM/2xYlEvkxrgyjPlMdjrk4Iz7145RUQXJHl/raxTd5OX9bp/oeyxeIIV8c6VFqMdnpN1b6Zc29ndyaul8YJnDeWZJRnbgk4yeAwrL1qXUV8G+GtKvPEVq+vxay7BzqazNahguxmdWbaAec54+teXUU/6/G4uv9drG9aXr6P8QoL3Vrlbx7PU1lubiN/MEpWQFmDfxZwTnvXW+JBbaL4d8WhtRsbw+INTilsRbXKSs0Su8hkYKcqPmC84Oc15pRR9nl/rp/kPq3/X9ahRRRQIKKKKACiiigAooooAKKKKACiiigAooooAKKKKACiiigAooooAKKKKACiiigAooooAKKKKACtbSv8Aj1b/AHz/ACFZNa2lf8erf75/kKANK2/4/rT/AK+Yv/QxS6h/yE7r/rs//oRpLb/j+tP+vmL/ANDFLqH/ACE7r/rs/wD6Eax/5ffL9SepXooorcYVYb/kVtW/7Y/+h1Xq0FDeGdVDOEH7n5mBwPn9qxr/AAL1X5oTOUoqf7PF/wA/cX/fL/8AxNH2eL/n7i/75f8A+JrUogoqf7PF/wA/cX/fL/8AxNH2eL/n7i/75f8A+JoAgoqf7PF/z9xf98v/APE0fZ4v+fuL/vl//iaAIKKn+zxf8/cX/fL/APxNH2eL/n7i/wC+X/8AiaAIKKn+zxf8/cX/AHy//wATR9ni/wCfuL/vl/8A4mgCCip/s8X/AD9xf98v/wDE0fZ4v+fuL/vl/wD4mgCCip/s8X/P3F/3y/8A8TR9ni/5+4v++X/+JoAgoqf7PF/z9xf98v8A/E0fZ4v+fuL/AL5f/wCJoAgoqf7PF/z9xf8AfL//ABNH2eL/AJ+4v++X/wDiaAIKKn+zxf8AP3F/3y//AMTR9ni/5+4v++X/APiaAIKKn+zxf8/cX/fL/wDxNH2eL/n7i/75f/4mgCCip/s8X/P3F/3y/wD8TR9ni/5+4v8Avl//AImgCCip/s8X/P3F/wB8v/8AE0fZ4v8An7i/75f/AOJoAgoqf7PF/wA/cX/fL/8AxNH2eL/n7i/75f8A+JoAgoqf7PF/z9xf98v/APE0fZ4v+fuL/vl//iaAIKKn+zxf8/cX/fL/APxNH2eL/n7i/wC+X/8AiaAIKKn+zxf8/cX/AHy//wATR9ni/wCfuL/vl/8A4mgCCip/s8X/AD9xf98v/wDE0fZ4v+fuL/vl/wD4mgCCip/s8X/P3F/3y/8A8TR9ni/5+4v++X/+JoAgoqf7PF/z9xf98v8A/E0fZ4v+fuL/AL5f/wCJoAgoqf7PF/z9xf8AfL//ABNH2eL/AJ+4v++X/wDiaAIKKn+zxf8AP3F/3y//AMTR9ni/5+4v++X/APiaAIKKn+zxf8/cX/fL/wDxNH2eL/n7i/75f/4mgCCip/s8X/P3F/3y/wD8TR9ni/5+4v8Avl//AImgCCip/s8X/P3F/wB8v/8AE0fZ4v8An7i/75f/AOJoAgoqf7PF/wA/cX/fL/8AxNH2eL/n7i/75f8A+JoAgoqf7PF/z9xf98v/APE0fZ4v+fuL/vl//iaAIKKn+zxf8/cX/fL/APxNH2eL/n7i/wC+X/8AiaAIKKn+zxf8/cX/AHy//wATR9ni/wCfuL/vl/8A4mgCCip/s8X/AD9xf98v/wDE0fZ4v+fuL/vl/wD4mgCCip/s8X/P3F/3y/8A8TR9ni/5+4v++X/+JoAgrW0r/j1b/fP8hVD7PF/z9xf98v8A/E1pacipbsEkWQb+qg+g9QKAL9t/x/Wn/XzF/wChil1D/kJ3X/XZ/wD0I0lt/wAf1p/18xf+hil1D/kJ3X/XZ/8A0I1j/wAvvl+pPUr0UUVuMKsN/wAitq3/AGx/9DqvVhv+RW1b/tj/AOh1jX+Beq/NCZy1FFFalBRVu60rUbGIS3thdW0ZbaHmhZAT6ZI68GqlJNPYSaewUUUUxhRRRQAUUUUAFFFFABRRRQAUUUUAFFFFABRRRQAUUUUAFFFFABRRRQAUUUUAFFFFABRRRQAUUUUAFFFFABRRRQAUUUUAFFFFABRRRQAUUUUAFFFFABRRRQAUUUUAFFFFABRRRQAUUUUAFFFFABRRRQAVraV/x6t/vn+QrJrW0r/j1b/fP8hQBpW3/H9af9fMX/oYpdQ/5Cd1/wBdn/8AQjSW3/H9af8AXzF/6GKXUP8AkJ3X/XZ//QjWP/L75fqT1K9FFFbjCrDf8itq3/bH/wBDqvVhv+RW1b/tj/6HWNf4F6r80JnLUUUVqUer/FL/AJFe2/6/F/8AQHryivV/il/yK9t/1+L/AOgPXlFcOB/gnLhf4Z3cPhjwa/g9/ELarrogjuls3jFjDu8wpvyP3uNvHXOfasC18GeIL7RJNYstLnl09AzCX5QWVfvMFzlgO5AIHPpVyHWLFfhPc6M0+L99YS5WHY3MYiKlt2MdTjGc12dr4307/hH9Gu9PudAtL/TNNFpKupWc73CsAyjymjypVs+2MnNd0tm1/Wn+Z1q1kv63/wAjz+y8Ha/qOhvrFnpkstggYmUMo3BfvFVJywHfANXtb8AavofhPTdeuYybe8QvIMAeRlsICc87hzwOK2tB1HRJvBKWPinU9Ou7O3hnMNqbeVb60lbJUROq7WVmwTuOBn2rK1u70/Uvhx4cSDUrdbzSlnhnsnVxKxeYuGX5dpGDzkiiWm3dfdr/AMAS2v6lfwv4e0vU9D1vVtcvLy2ttKEBK2cKyO/mOUHDMo4OO9LqvgqeHVNJtfD0surrq9qLm1xb+VJglgQy5IGCpyckY5zVzwV4vHhXwx4k+zXKQ6ndC1+yJJB5qybZCXBBUqPlPfHtzXTR+O9Dl+IUmt3N6JLbVtHa1kiuYJJE06UgZjKgDdHlf4Ozmn/X4MFu7/1qjgLnwd4gtNcttHn0yYX90A0ESlX80c8qwJBHByc8YOadceDPEFrrcGkTabJ9uuIzJDErqwkUAkkMCQcbT37V1d74mZPE+gra654fsI9NWby59Mspzbwl85VldcsG6HaONxqxaa34U0X4laFqVtLaQhYJU1SXTY5fsqSuroGjVxuxhgSAMelL/g/rYNNTgbbRLuS3sr2eCRbC7uvsyzgjDMMbgPcA11UfwxvNU8TeJ7DQ/Ne30V5ViaTazTMr4VCcqASMnOMcU/VdQ0XTPBeh6JaazDqV1Y6q91cNbQyCMIQv3WZRu6fn27m6mr6NL8QPGu7WLWO11yzuI7S8ZZPK3SOjqGwu4cAg8dRQ9nbs/wAk1+N0gjtr3X5v9LHJW3gjxHeabcX9tpUr21uzq77lGSn39oJy2O+0Gs660e/stKstSubdo7O/3/ZpSwIk2Ha3AORg+tdzoF9oR8KjTfFGr6XfadbC4Mdv9nmW7t5DnaYHCgFWYKxDEAdxXE3lraxaLp08OqLc3E3medZiNgbXDYHJ4O4c8Uv+B/X9fqNf5mfRRRTEFFFFABRRRQAUUUUAFFFFABRRRQAUUUUAFFFFABRRRQAUUUUAFFFFABRRRQAUUUUAFFFFABRRRQAUUUUAFFFFABRRRQAUUUUAFFFFABRRRQAUUUUAFFFFABWtpX/Hq3++f5CsmtbSv+PVv98/yFAGlbf8f1p/18xf+hil1D/kJ3X/AF2f/wBCNJbf8f1p/wBfMX/oYpdQ/wCQndf9dn/9CNY/8vvl+pPUr0UUVuMKsN/yK2rf9sf/AEOq9WG/5FbVv+2P/odY1/gXqvzQmctRRRWpRrar4n1jWrVbfU7vz4lcSBfKRcMARnIA7E1k0UVMYxirRVhKKirIKKKKoYUUUUAFFFFABRRRQAUUUUAFFFFABRRRQAUUUUAFFFFABRRRQAUUUUAFFFFABRRRQAUUUUAFFFFABRRRQAUUUUAFFFFABRRRQAUUUUAFFFFABRRRQAUUUUAFFFFABRRRQAUUUUAFFFFABRRRQAUUUUAFa2lf8erf75/kKya1tK/49W/3z/IUAaVt/wAf1p/18xf+hil1D/kJ3X/XZ/8A0I0lt/x/Wn/XzF/6GKXUP+Qndf8AXZ//AEI1j/y++X6k9SvRRRW4wqw3/Irat/2x/wDQ6r1Yb/kVtW/7Y/8AodY1/gXqvzQmctRRRWpRMLSXAz5a5GcNKqn8iaPskn96H/v+n+NF7/x/3H/XVv51DQBN9kk/vQ/9/wBP8aPskn96H/v+n+NQ0UATfZJP70P/AH/T/Gj7JJ/eh/7/AKf41DRQBN9kk/vQ/wDf9P8AGj7JJ/eh/wC/6f41DRQBN9kk/vQ/9/0/xo+ySf3of+/6f41DRQBN9kk/vQ/9/wBP8aPskn96H/v+n+NQ0UATfZJP70P/AH/T/Gj7JJ/eh/7/AKf41DRQBN9kk/vQ/wDf9P8AGj7JJ/eh/wC/6f41DRQBN9kk/vQ/9/0/xo+ySf3of+/6f41DRQBN9kk/vQ/9/wBP8aPskn96H/v+n+NQ0UATfZJP70P/AH/T/Gj7JJ/eh/7/AKf41DRQBN9kk/vQ/wDf9P8AGj7JJ/eh/wC/6f41DRQBN9kk/vQ/9/0/xo+ySf3of+/6f41DRQBN9kk/vQ/9/wBP8aPskn96H/v+n+NQ0UATfZJP70P/AH/T/Gj7JJ/eh/7/AKf41DRQBN9kk/vQ/wDf9P8AGj7JJ/eh/wC/6f41DRQBN9kk/vQ/9/0/xo+ySf3of+/6f41DRQBN9kk/vQ/9/wBP8aPskn96H/v+n+NQ0UATfZJP70P/AH/T/Gj7JJ/eh/7/AKf41DRQBN9kk/vQ/wDf9P8AGj7JJ/eh/wC/6f41DRQBN9kk/vQ/9/0/xo+ySf3of+/6f41DRQBN9kk/vQ/9/wBP8aPskn96H/v+n+NQ0UATfZJP70P/AH/T/Gj7JJ/eh/7/AKf41DRQBN9kk/vQ/wDf9P8AGj7JJ/eh/wC/6f41DRQBN9kk/vQ/9/0/xo+ySf3of+/6f41DRQBN9kk/vQ/9/wBP8aPskn96H/v+n+NQ0UATfZJP70P/AH/T/Gj7JJ/eh/7/AKf41DRQBN9kk/vQ/wDf9P8AGj7JJ/eh/wC/6f41DRQBN9kk/vQ/9/0/xo+ySf3of+/6f41DRQBP9jlPAMRPoJkJP61AQQcHg0VNe/8AH/cf9dW/nQBDWtpX/Hq3++f5CsmtbSv+PVv98/yFAGlbf8f1p/18xf8AoYpdQ/5Cd1/12f8A9CNJbf8AH9af9fMX/oYpdQ/5Cd1/12f/ANCNY/8AL75fqT1K9FFFbjCrDf8AIrat/wBsf/Q6r1Yb/kVtW/7Y/wDodY1/gXqvzQmctRRRWpRNe/8AH/cf9dW/nUNTXv8Ax/3H/XVv51LPpV9bWlrdS27CC8BMDjDB8HGOO+ex5oAqV6BoXwwt9b0XRZ/+EiitdS1xZzY2Mlo7K5iYggyKSF6ZyR3riNQ0270q7NrqEJhnCqxQkEgEZGcdDjt1r0rw18WLXRfDGjaBKt+tlFaXdvqDW6osgaVy0ckLbgcrnnJUcnrxVacj7/8AAf8AwA6nE6V4K8Ra5ZXV3pGlT3dvasVlkjxjIGSFycscdlyaZbeDvEF54cl1620yZ9MhDF7jIAwv3iATkgdyBgV23hP4j6Xo/hKz0y5ae2u9LuZZ7W6TTYbkyK/P8bAxvk9QSMetULHxfoA+HM+j6yLrUrnyphbW8tlHttZ3bcJIpg25V/vKQcn2qXs7D0b+f4f1Y5Y+E9cVQx06UA2H9pZyP+Pb/np16frXR23w0m1UeE4dHnZ7nXreSaUyj5IAj4J45xitk/EPw03hlN8ep/2sfDTaF5SxJ5KnHEhYtkgnHbjmqWmfEDSdPk8C3bRXTy+HxNFdwhB8ysThkOeTg9DjpVSS5kl3/D3v+AZu/Tt+On/BOet/h34ru9Uv9PtdHmluNPKi4UMoCbhlRknBJHIA5rKm0DU7fQI9amtSmnyXDWqzFl5lAyV25yOB6YrufDHirwloF5q1tc3Ooaho91OJfsdzp0MkdyoHcF8xyBicMDjA5Hpxl7JoUmhBrL7fFqTXjsbd2VreOAj5cH7xfoMnsKj/AC/yNHvp3/DX+vwMiiiimIKKKKACiiigDTtoo28K6hK0amRLu2VXK/MoKzZAPocD8hWZWta/8ifqX/X7a/8AoE9ZNAGsPDl01vE6T2zSy2/2lLfeRIycnIyMZwDxnPFZgt5jbmcROYVO0yBTtB9M11R8QWTadDZo8MUi6WIVvPIzJFJ82UzjOGBxkdN3XrTW1y3/AOEchitZLNHSya2khmE+8kk5KhT5ZzkHJ5z16CuqdOlryv8ArUwjOel0cw1vOkCTPDIsUhwjlSFY+x701opF3bkYbDtbI+6fQ/lXQahf21x4fhWa9jluohEkaW5lGUUHiRWAXK9AV65/GpdZvdOaz1c2t+lxJqF6lxHGsbgovzkhiQBkbu2amVKCTalsUpt20My58P3sOoXlpAhuTZoHkaMdjj/4rpWf9nmFv55hk8ndt8zadufTPTNdPLq1rN4g1d4NRFvFe2qrFMQ4UMNhwcDI6MOlVZL62m8K/Z7m9jaaKIJAkBlVz8+4rIpGwjknI5zjrTnTp62ff83+hMZz0uu35HPsjI2HUqcA4IxweRSVa1B2e5Ba9N6fLQead3Hyj5fm546fhVWueSs2jZaoKKKKQwooooAKKKKACtPVIo49L0V441VpLR2dlXBc+fKMn1OAB9AKzK1tX/5BGhf9eT/+lE1AGXHG8sixxqWdyFVQOST0FX7/AEZ9PGJby0kmVxHLBFLueJvQ8YPTBwTg1X0y7Fhqtpdsu8QTJIV9cEHFW9StrBJpLq01SO5Ek26OIRuHCkknfkAAjpwTmt6cYtK/fXX0/wCCQ2+axBqulXGlX00EysyxytGJQpCuR1warSW08UccksMiJIMozKQH+h710Wua7DqI1hPtkk6TXkclsG3EbBvBIz04I44qXXNS099Ge0tL5bn/AEqKSIlpmk2BGBLl/lB5HC8fWqVKDu+bsQpy0TRz9vpV9dTLFDayl2V2AK4yFHzdfTH51WaKRAxeNlCttbK4wfT610769HP46ubxr9xaSGaOKU7sIrIQvGMgZx2rDmZhYzIdS84fac+SpfEhwf3vIA9ueeazlGHLeI4yk3qUqKKKyNQooooAKKKKANOaKMeE7KYRqJWvrhWfb8xASEgE+gyfzNZla0//ACJtj/1/3P8A6LgrJHFAGlc6JNZ2nm3NzaxzbFkNo0n70KcYOMYzgg4znHao77SLixhgmKtJFLAkxkVDtTf0BPrV/WzYancz6rFqMaNMit9kaN/MD4AK5xtx3znp2q5Jr0DQLb/bHMA0YW3lkNt870xjGc9+nvXRKENfw1v3/wCAYKU9P67HNG3nFuLgwyeSTtEm07c+melSQafd3MkSQ28jGVwiHaQCx6DPT3ro/wC0dOi8MS2yXolaayVBHIZmkWUOrEYP7tVGDjHPvVa41xDqOhNHdSG3soYBIq7gEZT83Hc4796fs6akk32/W/5fiHPNp2XcwprSe3mlimhdHi++Cv3ecVFWvey5vdTaLWA6SDI2eZi4BYEJyB0688cVkVztWsbJ3CiiikMKKKKACpr3/j/uP+urfzqGpr3/AI/7j/rq386AIa1tK/49W/3z/IVk1raV/wAerf75/kKANK2/4/rT/r5i/wDQxS6h/wAhO6/67P8A+hGktv8Aj+tP+vmL/wBDFLqH/ITuv+uz/wDoRrH/AJffL9SepXooorcYVYb/AJFbVv8Atj/6HVerDf8AIrat/wBsf/Q6xr/AvVfmhM5aiiitSia9/wCP+4/66t/OtLRvFGpaHBJDZvG0TncqTIHEUnaRQejD1rNvf+P+4/66t/OoaAHzTS3M7zXEjSSyMWd2OSxPcmmUV7N4Z+Hcd/8ABuZ5NJjl1DULe4voL1gvmQ+WU8uMZ5w4WQ8f1oekXLsC1ko9zxmiuyk8MaFpHgOw1jXrvUG1DWI5nsIbNIzHH5Z2jzSxzycfd6CtvV/CnheXT/Adrp4vYLzWvLWaUquHVpNrMeT8wJAAAxgc0+V3t1vb56/5Cuvwb+63+Z5lRXb6/wCBLbStHvbu2uLmeW38RPo6RhAxdAhYNgdWJ4xXQ6j8OdN8PyaFqlhLe711uCyu7W/aBmBOGBxEzbOP4G55H4iW3y/G3+aHK6bXa/4X/wAjyeiui+ISLH8SPEKRqqIuozAKowAN5rnamLukypx5ZOPYKKKKZIUUUUAFFFFAFq1+3XFvLY2UckySMsrxRx7iSoYA8DPG8/nUM9vNbSmK5ikhkHVJFKkfga3fCERml1SNbee5LWDDyrc4kf504U4PP4GptK0qB9Wu4das57GzCIWe8YiSElht52jO7kdOmT2rojR5uVLr/wAH/IydSzd+n/AOYorrLLT5/smpzQaFFcX0V+kYt/KaQQqQ+QADyOAMnPr71PbaXpq6trYtLdrpreVFghig+0lVOd+ELLuAOFzk4z+NNYdu2onVSucZRjjPaurgsofL1KbR9Ha7uEvBGtpcRM7wREHPyA5+8MZJOPqc1WfzX8DhFs1KRXriaRYyTDkJgk9snjn0xU+x0vfpf8V/mP2l3axztSLbzPbSXCxsYY2VXfspOcD8cH8q67XtN0y3VIUsriGD7RGkN4LXZGYz94+bvPmZHOcDGO3Sna7bSWnh/VoTpiWNul9Elu6ow85B5mDkn5uMHd71ToOKk29v+ASqt7W6nF0UUVzG4UUUUAFFFFABRRRQAVYaS6vYYosPKlpEQgVP9Wm4sc47ZYnJ9ar11vhd7LTNN+06lceQt/P5GPKL+ZCo/eD2BLjn2rWlT9pKxnUnyK5yVGOM9q6q30eWysryO10xNTvob1reVWjaTy4wOGCjoGOfm7YqtOZZPBFjstEaKK5lWWYRk+V/q8Zbtnpz1xVxoX3fS/32/wAxe010OeoAycCuq1rQxY2eszPZ+Sn2+MWjsMAxnefl9Vxt5qXXtJjsdCBls0hnt7qKNZY7cxo6srE7WLEyDKj5iB7daqOHk3r0t+IvaptW6nKXFvLa3EkFwhjljYq6N1U+lR1r+LFK+LtT3AjNwxGR1B5B/KsiuZqzsaxd0mFFFFIYUUUUAFFFFAFhJLq5t4rCINKiyNJHEiZO5goY8cnhB+VV66HwsYrFbvVri4+yiFVhhl8sviR/QZH8Kt+dXjpcCaxq0tjaJfyGJLmwt2QsHSRgSQg+9tBIx7e1dCoNxTvv/X42MXVs2v6/rU5DHGe1FdNbC5/sDXYBpiLMs0byQiEkwrh8nHUBffpmpk0NDaSXhsv9FOjCVJsHaZsDOD/eyDxSdF2uv60b/QftVez/AK2/zOTqSe2mtvL8+Nk8xBImf4lPQ11X9jxp4QlkuLRNwtFuIriO3IGS4GDKW+ZsE5UDA/CsvxIDjSWxwdNhwfXGRSqUnTWvl+v+QRqcz0/rb/MxaKKKxNQooooAKKKKACpr3/j/ALj/AK6t/Ooamvf+P+4/66t/OgCGtbSv+PVv98/yFZNa2lf8erf75/kKANK2/wCP60/6+Yv/AEMUuof8hO6/67P/AOhGktv+P60/6+Yv/QxS6h/yE7r/AK7P/wChGsf+X3y/UnqV6KKK3GFWG/5FbVv+2P8A6HVerDf8itq3/bH/ANDrGv8AAvVfmhM5aiiitSia9/4/7j/rq386hqa9/wCP+4/66t/OoaACtyPxnr8WsadqkV/tvNMt1trRxDHiKMAgLt27Twx6g5zWHRQB0Nr4616z0GTR47iCSycuVjmtYpPJ353+WWU7N2TkD14xUR8Y602jadprXKGHS5hNZuYU82Eg5AD43bcnOM4/IVh0UB/X3nT638RfE3iBIU1G/QpBcrdxrDbxxbZgD+8+VQc8kmjV/iN4m1uOOO+vowkdyt4qw2sUf79ekhKqCW55z1/KuYooAva1rF3r+s3GqaiY2urlg0rRxhAzYAzgcZOOfeqNFFABRRRQAUUUUAFFFFABRRRQBZS/lj0uSxUL5UkyzE4O7KhgPwwxqsCQcg4PtRRTbb3FZACR0OKMnBGeD1oopDDJIAJ4HSgknqc0UUAFFFFABRRRQAUUUUAFFFFABRRRQAAkdDijJxjPHpRRQAEk9Tmgknqc0UUABOevNFFFABRRRQAUUUUAFFFFABQCQcg4PqKKKAAEjocZ60ZOMZ4FFFABk4AzwOlGc9e1FFABRRRQAUUUUAFFFFABU17/AMf9x/11b+dQ1Ne/8f8Acf8AXVv50AQ1raV/x6t/vn+QrJrR025SNGjkO3JyCaANe2/4/rT/AK+Yv/QxS6h/yE7r/rs//oRqC2uo21WyjjYMWuY847fOKn1D/kJ3X/XZ/wD0I1j/AMvvl+pPUr0UUVuMKsN/yK2rf9sf/Q6r1Yb/AJFbVv8Atj/6HWNf4F6r80JnLUUUVqUTXv8Ax/3H/XVv51DU17/x/wBx/wBdW/nUNABRRRQAUUUUAFFFFABRRRQAUUUUAFFFFABRRRQAUUUUAFFFFABRRRQAUUUUAFFFFABRRRQAUUUUAFFFFABRRRQAUUUUAFFFFABRRRQAUUUUAFFFFABRRRQAUUUUAFFFFABRRRQAUUUUAFFFFABRRRQAVNe/8f8Acf8AXVv51DU17/x/3H/XVv50AQ05elNpy9KTAu6P/wAhyx/6+Y//AEIVtah/yE7r/rs//oRrF0f/AJDlj/18x/8AoQra1D/kJ3X/AF2f/wBCNYr+N8v1J6leiiiugYVYb/kVtW/7Y/8AodV6sN/yK2rf9sf/AEOsa/wL1X5oTOWooorUomvf+P8AuP8Arq386ktv9WfrUd7/AMf9x/11b+dSW3+rP1poTJqK9L8CeArE3Ph7VfEep2sP9pXP+h6ZNbNL9rRThtx6KD2yCDxVHT/BFj4l8Y63aDVBpvlajJDBbW9hJcHG9gDhBhEHTJOB7VVtbf10/wAybrc4KiuvvPh5e2tjrTLdJNe6PfJaz2iIcsjnCSKc9CTjGKyfFmgL4X8SXGkC8F49sFEsix7AHKglRyc4zjNTdO39ef6lWZjUUUUxBRRRQAUUUUAFFFFABRRRQAUUUUAFR/8ALz/wD+tSVH/y8/8AAP60ASUV1fhrwZb6toFzrus61Do+mwTi2SV4GmMspGdoVecYIyf0rrPEfw8j1z4ma3b6b5Ol6XpsEEkzW1oZNu6NcBIkGWJOTge9Nqw0rq/9b2PKKK77/hVrx+J7zS7vWYra2t9M/tRbyS3cbocgfMh+ZD1yOTxVPU/AdtY6hoht/EFvc6RrKsYNS+zSLtKnDKY+WznAA7k9qO3n/wAH/JiONor0DUfhXLZ6/oFlBqjS2muO0cVxNZPA8bL13ROc9xjnn+eh4e+HvheTW9XsNQ8SR30mn6dNLMIrWVVt5FOCwYH59nBwOufal/wfw3Gld29PxPL6K7vRfh5pur6e2oSeKobWxbUzp1vK1m5M7YBQhc5G7d0OMYyTRr3wy/sXRdUuoddt7680eZI760igdfKDnCEOeGJ4JAHHPPFN6f16f5oLO9jhKK9E1b4RXuleH7q8k1HffWVsLq5tPskixqncLMflZgDyBRb/AAphubO3VPEtsNTutLXUrewa2bLIV3EF84X0B74PHFJtJNvp/wAH/JiWtv6/rc87or0DUPCPh22+Eml68NU2alcvIRmCQiZhwYR2Xac/N0Nef0r6tdg6XCiiimAUUUUAFFFFABUaf66T8P5VJUaf66T8P5UASUV2WmeAYrrwOPEmpayLGGVpFhRbOSZcpx+8dOI8ngZBzVnw58NV8TeHXvdO1oPfLC8v2RbGUxjb/A02Aob25obtfyBK9vM4Siu/uPDI1fwT4GttJtLddR1Oe6jeYIFMmJAAXYDJCjPrgVV8YfDmTwto66lBqLXsK3P2WcSWcluUkwSCu/768H5hxTl7rd+9h2vt/W/+RxVFTWVpNqF/b2dqu+e4kWKNfVmOAPzNdjqfw8t7bWbXQtM8RW2o69JcLbz2SW8iLCxGSfMPDBe/f27UWJOIoruNZ+HMVlp0t7o2vwatFZ3i2V+Et2iNtIzbRjcfnXPGRRe/DWSz1DxTanU1f/hHbeOdm8jHn7lDYHzfL196ltJX/ruPrb+uxw9FeiW/wphubO3VPEtsNTutLXUrewa2bLIV3EF84X0B74PHFR6h4R8O23wk0vXhqmzUrl5CMwSETMODCOy7Tn5uhok1FtPp/nYFra39dTz+iiimAUUUUAFFFFABUc/+pb/PepKjn/1Lf570AU6mvf8Aj/uP+urfzqGpr3/j/uP+urfzqSiGnL0ptOXpSYF3R/8AkOWP/XzH/wChCtrUP+Qndf8AXZ//AEI1i6P/AMhyx/6+Y/8A0IVtah/yE7r/AK7P/wChGsV/G+X6k9SvRRRXQMKsN/yK2rf9sf8A0Oq9WG/5FbVv+2P/AKHWNf4F6r80JnLUUUVqUTXv/H/cf9dW/nUlt/qz9ajvf+P+4/66t/OlgfbGRtY89hTQmek6H8SLCw0rRY9X0BtQvdBdjYzpdmIbWbJDAKc44x9Prl2ifE+DS7bVI7jSJpPtmpnUk+z3phO4nPlyELlkHpxmvOfO/wCmcn/fNHnf9M5P++aq93f+v60JSSPYPB/iyG48ba/4y1OaysNMnjPnafNdBpZXADIEXALHcvXHrXlmo302qapdX90czXUzTSH/AGmOT/OqXnf9M5P++aPO/wCmcn/fNQopWt0VitdfN3JKKj87/pnJ/wB80ed/0zk/75qhElFR+d/0zk/75o87/pnJ/wB80ASUVH53/TOT/vmjzv8ApnJ/3zQBJRUfnf8ATOT/AL5o87/pnJ/3zQBJRUfnf9M5P++aPO/6Zyf980ASUVH53/TOT/vmjzv+mcn/AHzQBJUf/Lz/AMA/rR53/TOT/vmmeZ+/zsf7uMY560Adr4c8Yadp/he58P8AiDRm1SxkuReQiO5MLJKF28kA5BA/n+GzD8WnXxZrGpvpssVnrEMUU0FvetHLEY1AV0lABB68Y74rzTzv+mcn/fNHnf8ATOT/AL5pt33Hqlb+u56l4c8W6Ve+IvEWoakLj7G2gTW6W+pao0klxyv7tZW5BbngZwScVVh+J9rYeINDl0zQhDpGixSxQWjz7pCZPvyb8cN36evrx5v53/TOT/vmjzv+mcn/AHzRfby/4P8AmL+v6+49IvPilDLqXh6e20i48rQ7mSdftOoGaS434PzOV4PHv1x2rF8OeM4tF8V6nqd3p5ubTVIp4Li2WXawSU5OGx1H0/KuR87/AKZyf980ed/0zk/75qdL39fx3Hd3v/Wl3+p2CeMrW00mDTNP0t47W21sarF5lzubaFCiI/L7fe/SrOpfET+0F8VgaZ5R8RSQPn7Rn7P5Rz/d+bP4Y964bzv+mcn/AHzR53/TOT/vmnfW/wDXT/JAm07o9G8RfFAeI9EliubbUoNQngWGUwarItqcYy3k4xyBgr059aq2vxI+za/p2p/2Vu+w6KNK8v7RjfhSvmZ28dfu4P1rg/O/6Zyf980ed/0zk/75pOzTXR/8FfqxdvL+v0Ov/wCEusrj4cxeGtR0ySWezleWyuo7jYELnJ3Lg5xk9/yrlKj87/pnJ/3zR53/AEzk/wC+aNL3DpYkoqPzv+mcn/fNHnf9M5P++aYElFR+d/0zk/75o87/AKZyf980ASUVH53/AEzk/wC+aPO/6Zyf980ASVGn+uk/D+VHnf8ATOT/AL5piyYlc7H5xxjpQB6D4Q+IFh4T0d44NIupb5kkRz/aDC3uN3AMkJBHyjpjritXR/i9BpOk6XAdEmln0+0a0AS/McDAjHmeWFI3+pOe/rx5Z53/AEzk/wC+aPO/6Zyf980PXf8Ar+rsFodtY+Pzp2heHILWyIv9Au5JopzJlJY3JLIVxwTnGc9Kn8U+MrPxj5Vqhv8ATVmuPPmk1DVJrm3iOD8qxhSQMnggEjOOlcF53/TOT/vmjzv+mcn/AHzQ9dxq6/r+u50KWlvoc8Oqaf4k0u7urSVJooYornczKwI+/Cq+/JFb9/8AEHSn8QQeI9I8ONY64LpbmaY3heJjyGUJt6Nnk9R2rz/zv+mcn/fNHnf9M5P++aL7C6WO+1z4g2Vxot3p/hzRP7K/tG7W9vZJLkzF3VtwVQQMKG5rQ1j4qadqFtrTWnhtre+121WC8uTelgGUAAqu3GAB7Z/n5j53/TOT/vmjzv8ApnJ/3zUtJx5en/At+Qdb/wBdzvLX4kfZtf07U/7K3fYdFGleX9oxvwpXzM7eOv3cH61S/wCEusrj4cxeGtR0ySWezleWyuo7jYELnJ3Lg5xk9/yrkPO/6Zyf980ed/0zk/75pytJtvr/AJ3/ADBK239aW/IkoqPzv+mcn/fNHnf9M5P++aYElFR+d/0zk/75o87/AKZyf980ASUVH53/AEzk/wC+aPO/6Zyf980ASVHP/qW/z3o87/pnJ/3zTJZN0RGxx7kUAVqmvf8Aj/uP+urfzqGpr3/j/uP+urfzqSiGnL0ptOXpSYF3R/8AkOWP/XzH/wChCtrUP+Qndf8AXZ//AEI1i6P/AMhyx/6+Y/8A0IVtah/yE7r/AK7P/wChGsV/G+X6k9SvRRRXQMKsN/yK2rf9sf8A0Oq9WG/5FbVv+2P/AKHWNf4F6r80JnLUUUVqUTXv/H/cf9dW/nUNTXv/AB/3H/XVv51DQAUV3Xgq08Pa+x0u70DYsNjPPe6u15JvgKqSrhQQgUHaNpBJz1q34d0Lw6mn+FLbV9La9ufEs8qPc/aHRrVfM8pNiqQpO75juB9Kdney/rf/ACYr6XPOqK9A8H6Vod74kTwxqXh8XUkcs632pteSKYUTPzqqkKoXGTuDZPp0qHwJaeH9b1a10O88P/avM817vU3u5FaGMAkOqqQqhQATuDZPp0qU01deo3pe/T+v6scLRWhbaJfXjI9va3DWkkwiF15TeWMttBLYx1Ndx4g8P+HWsvFVlpOltaXPhp4gt4bh3a6HmCKTerEqMsdw2gelPpcdtbf1rt955vRXol3oOl3Pwzv9e/4RpdJVDAunXMV69w87FsOJRuKrwCc7U5wBmsjwj4VM+vO3iXT7qOxtLKe+khkRojcLEudoPB5JXJHY0dWn0/4cW6TXU5Kiuz1yx0OHSfDXiSDRzBZ6gZo7vTobp9paJwMo77mXcGHXOMVR+IWl2GjeOr+x0i3NtZxrC0cRkZ9u6JGPzNyeWNAHNUUUUAFFFFABRRRQAUUUUAFFdjoVlpeleA7nxRqWnR6rcPfiwtLa4dhDGdm9pHCkFuMADI9al099L1jRvFt9b6La2Pk6dC0cSEyCKTz4wzoXyVzk8Z4Bxmh6O39bXBatLu7fjY4miu3h+G5lhgszrVuviC5tPtkOkmF8shXeFMn3Q5UE7f1qe68LaBaeCvC2rQ6ir399K/mQtBIRcYlRSvPyrsyQT/F2qlG8uUlytHmOBor0Xx14J0+K98T6lomqWsh0y9/0nToLZo1t45JCqhW+6cHAIAwOeeKgvvCB1bxRc2txc6bpMVho8N9NLb2zrHs2RkkqCSXxJyR1I6DNQtVf+trltWk4/wBbpfqcDRXat8OWm8Q6ZZ6dq0Vzp+pWbX0d+0DRhIk3b8pydw2HgdcjpWd4l8MWOiaRpmo6frP9pQ6kHaEG1aEhVYq2ck8hhjFDdt/6/qz+4W5zdFFFMAooooAKKKKACiiigAooooAKKKKACivQfhvomm+JJBZ3fhpLuCDc+oaib2RZIkKkqY4lIyRt6bXz7VpeBPBema34fs7r+xV1MSahLDfzzXMkLWsCqCHiVWUORkk8NzgYGadhX/r73+n5HllFPuFiW5lW3ZniDkIzDBK54JH0plStUU1Z2CiiimIKKKKACiiigAooooAKKKKACiiigAooooAKmvf+P+4/66t/Ooamvf8Aj/uP+urfzoAhpy9KbTl6UmBd0f8A5Dlj/wBfMf8A6EK2tQ/5Cd1/12f/ANCNYuj/APIcsf8Ar5j/APQhW1qH/ITuv+uz/wDoRrFfxvl+pPUr0UUV0DCrDf8AIrat/wBsf/Q6r1Yb/kVtW/7Y/wDodY1/gXqvzQmctRRRWpRNe/8AH/cf9dW/nUNTXv8Ax/3H/XVv51EFZvuqT9BQB11n4t0S38Fr4fk0O+USSebeXNpqaRNdsPuhg0DYVeyg4zzyam0Lx1Y6bp2lJqOjPe3ehzSS6ZKtyEQbzuxKu07grfMMEelcZ5b/ANxvyo8t/wC435U9b3DpY6/TfGel2vhW70q60e9a51CUyX1/aaisMlyuSRGQ0L4TuQDyevpRpvi7Q9P8K3WipoV+n2yUtc3dvqaJLNGCSkRJgb5QMZxjcRnpxXIeW/8Acb8qPLf+435UgL413UYIWtLC/voNP8zfHaNcsyD5twyBhScgHOBk84rpNb8eWWpWGqGx0ZrW/wBceJ9Sle43xtsO4iNQoKhmAY5J9BXGeW/9xvyo8t/7jflQB1z+LdEsdE1W18OaHc2M+rxLDceffedFCgYNiNdgJJI6sSR2qno3jfU7DW4r3Vbi51eAQy28tvdXLHfFIu11DHO3PByO4Fc75b/3G/Kjy3/uN+VAHS6v4k0nURpOnQ6XdxaJpaSBIPtiieVpDuZzJ5ZUHO3jZ0HvUPjLxFYeKNabVLTTbixnlCiZZbtZlIVFRdoEaEcLzknOe1YHlv8A3G/Kjy3/ALjflQA2ineW/wDcb8qPLf8AuN+VADaKd5b/ANxvyo8t/wC435UANop3lv8A3G/Kjy3/ALjflQA2ineW/wDcb8qTY2cbTn0xQB0egeJ7Oy0G70HX9Ok1DSrqZbhRDMIpbeUDG9GKsORwQRg1PH4n0a1TWrXTtFmtLHUbBbVEF2XkV1cOJGZlwclRkAAY6etct5b/ANxvyo8t/wC435Ub/wBfIFp/XzO7g+ItlFcWutSaK7+JLSy+xxXYuQIDhCiytHtyXCnGN2O9ZP8AwlNjL4R0nTLuwuGvNHnkktZ47gLGyySK7B1Kkk/LgYI61zXlv/cb8qPLf+435U7tPm6/0xWTXL0/pHVXXjj7SfFp/s/b/wAJJIr/AOvz9nxL5mPu/N6dqdP4787UtUu/7O2/2ho6aXt8/wD1e1I18zO3n/V528devFcn5b/3G/Kjy3/uN+VTb3eXpt+n6l8zbv8A10f6I9J8FeJo9T8Q+HIHjS1fQtOuYoS1yqm7kZX2qpYBUYluN2Rx36VW+JlvbtZ2F7c3d8mqM7QnTry6t5jFAACrAQqqxgkkbSOeTXn/AJb/ANxvyo8t/wC435U5a/153Jj7o2ineW/9xvyo8t/7jflQA2ineW/9xvyo8t/7jflQA2ineW/9xvyo8t/7jflQA2ineW/9xvyo8t/7jflQA2ineW/9xvyo8t/7jflQA2ineW/9xvypNjEkbTkdeKAOq8NeI/D+hPYX8+hXUurafJ5sU0N/5cU7ZyvmIVJGOPukZ71f0/4gWIXTZ9Z0q4nvdIupbqzks7sQI5kk8wrIpRjjd3Ug44rh/Lf+435UeW/9xvyp63uLS1iW/vH1DUrm9mVVkuZXlZUGFBYkkAenNQU7y3/uN+VHlv8A3G/KpSsrIbd3cbRTvLf+435UeW/9xvypgNop3lv/AHG/Kjy3/uN+VADaKd5b/wBxvyo8t/7jflQA2ineW/8Acb8qPLf+435UANop3lv/AHG/Kjy3/uN+VADaKd5b/wBxvyo8t/7jflQA2ineW/8Acb8qQowGSpA+lACVNe/8f9x/11b+dQ1Ne/8AH/cf9dW/nQBDTl6U2nL0pMC7o/8AyHLH/r5j/wDQhW1qH/ITuv8Ars//AKEaxdH/AOQ5Y/8AXzH/AOhCtrUP+Qndf9dn/wDQjWK/jfL9SepXoooroGFWG/5FbVv+2P8A6HVerDf8itq3/bH/ANDrGv8AAvVfmhM5aiiitSia9/4/7j/rq386hqa9/wCP+4/66t/OoaACivQvAt1bahbT2+raJpKaDp9jM1/eNaAzFmB8siZssJC20KqkDrxV3w3Dp1jp/gmxm0ewvV8RXMq30tzbq8m0y+SoRyMptHzfLg5quV3SXXb53/yFfS55hRXpPgsQjxFNol3o+kzaLpr3Danf3ForyGIbgGMrZKHgBQmMnsear/Dy6gvdQSwutE0l9EtVln1O9ubRXkEWDgmVslCOAoTGT681Caauu1xvS/l/X9eqPPqK3rHwhquoWSapDZuukvOIzdFlwoLhOmc9T6V2niO30y8tfGumQ6Pp9nH4deL7DNBAqS4WURMHcDMm4HPzE80+n9f11HbW3ovm9EeW0V6XJHBq3wt1bUJbDQHmQW5tYNJt1S4sRvwzzHG8qRxyX5PaqfhfwVeaR4he48U6SpjttOub+C2nKulw0SZAYAnIywJB60bN36f8OJapW6nAUV3PiGW1/wCEe8KeKP7J00XVybiO5to7cRQT+U4CsY02gZDYOMZwKofE22trP4h6jDY2sFpAFgZYLeMIiZhQnAHTkk0AcrRRRQAUUUUAFFFFABRRRQAUV3fh3RbXVfhVqhnvNP06VNWgC3V6GAx5T/IGVWPPXGMcVrar4NtNR1DwxYLeWyWcGgPeXt9ZRlg8cckhZlBClicADIptW/ryuEfeWnn+EuU8uoruf+EN0bVP7Dv/AA/d3w0zUdUXTJ0vFTzoJCVOQV+VgVbPtirtx4S8E2ml3WoS6hrjw6dqH9n3KLDEGmkIJDJzhV+VuuTwOmaLP+vl/mvvD+vz/wAmec0V6fafCZP+Eg8QQTvfXtlpM8cMUdkI1mnMi7l5c7VAXk+vauM8ZeHl8L+KrrS4pmmjjCOjSABwroGAYDjcM4OO4qb7Atb26GHRRRTAKKKKACiiigAooooAKKKKACiiigAooooAKK7/AOHF1Fe3kVhfaJpL6Naxyz6re3ForyCLB5MrZKEcBQmOfXmt/wCH+i6fd+H9ILWujxtdalN56arBG82oW4AG23LZII5HG35iOTginb+vwFf+vlf+vVHkNFTXiCO+nRYpIVWRgIpPvJg/dPuOlQ1Kd1cpqzsFFFFMQUUUUAFFFFABRRRQAUUUUAFFFFABRRRQAVNe/wDH/cf9dW/nUNTXv/H/AHH/AF1b+dAENOXpTacvSkwLuj/8hyx/6+Y//QhW1qH/ACE7r/rs/wD6EaxdH/5Dlj/18x/+hCtrUP8AkJ3X/XZ//QjWK/jfL9SepXoooroGFWG/5FbVv+2P/odV6sN/yK2rf9sf/Q6xr/AvVfmhM5aiiitSia9/4/7j/rq386hqa9/4/wC4/wCurfzqIKT0x+JAoA6eDxuYvC1voE/h/SbmygkMvzm4RpZD/G5jmUMccDI4HSn6L4/vNF061tl06xupdPkkl064nVy9mz/e24YBhnkBgcHmuW2H1X/voUbD6r/30KN7h0sdLZeOJLXwudBn0TS7y1kn8+Z5jcJJO+Tgu0cq7sZ4B4H15p1r45Nt4bfQj4e0iWxkuDcSKxuUaRsnaGZJlLBQcAHOMevNcxsPqv8A30KNh9V/76FADpJd1y0sSLBlyypGTiPnIAJJOB7kn3rp9Y+IF7rGnXMDafY209+0T6hdQo2+7Mf3dwZio55IUDJ5rlth9V/76FGw+q/99CgDp7rxwZNKvrTTdC0vSpdSQR3s9mkgMiAg7VVnKoCQMhQM+1Y+ga5deHdYj1GxWKR0VkaKZd0cqMpVkYZGQQTVDYfVf++hRsPqv/fQo63DpY39T8WDU7nT1fRrBNN06No7fTQZfKAYksWYOHJJOc7uwqHxR4mfxVqX2+50yxs7pgBJJaGX96AoVch5GAwFA4A981jbD6r/AN9CjYfVf++hQA2inbD6r/30KNh9V/76FADaKdsPqv8A30KNh9V/76FADaKdsPqv/fQo2H1X/voUANop2w+q/wDfQpNpzjj/AL6FAGjFrtzF4XuNCVIjaz3SXTOQd4dVZQAc4xhj2rTtPHmq2d9pF1DHa50qzNkkbRkpNESxZZBnnO8jjHauc2H1X/voUbD6r/30Kf8AX4W/IX9fjf8APU6a48dXHnaSulaZZabZaTdC8gs4fMZHmyCWdmYs33QOowOBVC58T3t1pd9YSRQCK+1AahIVVtwkAYYHP3fnPHJ6c1kbD6r/AN9CjYfVf++hS63/AK6f5L7h9b/11/zZ1snxFvrzVNWuNW02wvrXVzG11ZOJFj3RrhWQhtysAOue5rmdRu476/kuILKCxjfG23t92xABjjcSe3c9ag2H1X/voUbD6r/30KLANop2w+q/99CjYfVf++hQA2inbD6r/wB9CjYfVf8AvoUANop2w+q/99CjYfVf++hQA2inbD6r/wB9CjYfVf8AvoUANop2w+q/99CjYfVf++hQA2inbD6r/wB9CjYfVf8AvoUANop2w+q/99Ck2nJHHH+0KAOl0/xq9j4U/wCEfk0LS7qzabzpWlNwkkz9t7RyruAzwOg+vNTab49ewtbOKbQ9Nuzpszz6a03m/wCiFn37RhxvUNyA+fqa5XYfVf8AvoUbD6r/AN9Cnre4tNh93dTX15Nd3L75p5GkkbH3mY5J/M1FTth9V/76FGw+q/8AfQpJW0Q73G0U7YfVf++hRsPqv/fQoAbRTth9V/76FGw+q/8AfQoAbRTth9V/76FGw+q/99CgBtFO2H1X/voUbD6r/wB9CgBtFO2H1X/voUbD6r/30KAG0U7YfVf++hRsPqv/AH0KAG0U7YfVf++hSFSBnj/voUAJU17/AMf9x/11b+dQ1Ne/8f8Acf8AXVv50AQ05elNpy9KTAu6P/yHLH/r5j/9CFbWof8AITuv+uz/APoRrF0f/kOWP/XzH/6EK2tQ/wCQndf9dn/9CNYr+N8v1J6leiiiugYVYb/kVtW/7Y/+h1Xqw3/Irat/2x/9DrGv8C9V+aEzlqKKK1KJr3/j/uP+urfzqGpr3/j/ALj/AK6t/OoaACivQvAt1bahbT2+raJpKaDp9jM1/eNaAzFmB8siZssJC20KqkDrxV3w3Dp1jp/gmxm0ewvV8RXMq30tzbq8m0y+SoRyMptHzfLg5quV3SXXb53/AMhX0ueYUV6T4LEI8RTaJd6PpM2i6a9w2p39xaK8hiG4BjK2Sh4AUJjJ7Hmq/wAPLqC91BLC60TSX0S1WWfU725tFeQRYOCZWyUI4ChMZPrzUJpq67XG9L+X9f16o8+oresfCGq6hZJqkNm66S84jN0WXCguE6Zz1PpXaeI7fTLy18a6ZDo+n2cfh14vsM0ECpLhZREwdwMybgc/MTzT6f1/XUdtbei+b0R5bRXpckcGrfC3VtQlsNAeZBbm1g0m3VLixG/DPMcbypHHJfk9qp+F/BV5pHiF7jxTpKmO2065v4Lacq6XDRJkBgCcjLAkHrRs3fp/w4lqlbqcBRXc+IZbX/hHvCnij+ydNF1cm4jubaO3EUE/lOArGNNoGQ2DjGcCqHxNtraz+Ieow2NrBaQBYGWC3jCImYUJwB05JNAHK0UUUAFFFFABRRRQAUUUUAFFbXgyJJvHWhRTIskb6jArI4yGBkXII712mk/DuDXrrW9VuYb+a1j1aWzittMEauCDuLEyEAKAQMDkk9sU7PT5/hb/ADD+vz/yPMaK9GT4XwyajLYxX7yy2mtLY3TKBhbdkLibHY4VgRyMim3HwvVL1rSC9ZpLrWY9PsHYDa8TRiQyt64Vk4Hcmkve28vxtb80Dst/6tf/ACPO6K9O1z4eWvhv+ztSsv7Ri8vVYbZ01AR/vwTkSR7CcD5T8rc8jmotW0DRr/xP441jxBc3sVtpmqbfLs1UvL5kkgwN3A5A59M0dL/10/zCz1+X43/yPNqK7ux8CafqUmjX1reXK6Nd2lxcXszhS9qYATIvAx02Y/3q4Q4ycdO2aPIAooooAKKKKACiiigAooooAKKKKACiiigAorv/AIcXUV7eRWF9omkvo1rHLPqt7cWivIIsHkytkoRwFCY59ea3/h/oun3fh/SC1ro8bXWpTeemqwRvNqFuABtty2SCORxt+Yjk4Ip2/r8BX/r5X/r1R5DRU14gjvp0WKSFVkYCKT7yYP3T7jpUNSndXKas7BRRRTEFFFFABRRRQAUUUUAFFFFABRRRQAUUUUAFTXv/AB/3H/XVv51DU17/AMf9x/11b+dAENOXpTacvSkwLuj/APIcsf8Ar5j/APQhW1qH/ITuv+uz/wDoRrF0f/kOWP8A18x/+hCtrUP+Qndf9dn/APQjWK/jfL9SepXoooroGFWG/wCRW1b/ALY/+h1Xqw3/ACK2rf8AbH/0Osa/wL1X5oTOWooorUomvf8Aj/uP+urfzqGpr3/j/uP+urfzqIKT0x+JAoA6eDxuYvC1voE/h/SbmygkMvzm4RpZD/G5jmUMccDI4HSn6L4/vNF061tl06xupdPkkl064nVy9mz/AHtuGAYZ5AYHB5rlth9V/wC+hRsPqv8A30KN7h0sdLZeOJLXwudBn0TS7y1kn8+Z5jcJJO+Tgu0cq7sZ4B4H15p1r45Nt4bfQj4e0iWxkuDcSKxuUaRsnaGZJlLBQcAHOMevNcxsPqv/AH0KNh9V/wC+hQA6SXdctLEiwZcsqRk4j5yACSTge5J966fWPiBe6xp1zA2n2NtPftE+oXUKNvuzH93cGYqOeSFAyea5bYfVf++hRsPqv/fQoA6e68cGTSr6003QtL0qXUkEd7PZpIDIgIO1VZyqAkDIUDPtWPoGuXXh3WI9RsVikdFZGimXdHKjKVZGGRkEE1Q2H1X/AL6FGw+q/wDfQo63DpY39T8WDU7nT1fRrBNN06No7fTQZfKAYksWYOHJJOc7uwqHxR4mfxVqX2+50yxs7pgBJJaGX96AoVch5GAwFA4A981jbD6r/wB9CjYfVf8AvoUANop2w+q/99CjYfVf++hQA2inbD6r/wB9CjYfVf8AvoUANop2w+q/99CjYfVf++hQA2inbD6r/wB9Ck2nOOP++hQB0XhvxePDkcZGh6XfXNvN9otbq4jYSQyYwDlWG4DGQrZAPNGneMZrexvLDV9OtNZsru5+1vDdF1KTYwXVo2UgnoR0Irnth9V/76FGw+q/99Cj+v6+5fcI6HSfG2oaGdZGlW1nbxaxE0UkSo+2EHIzHlsggMwGSetSX3xA1q+GgktDBJoIX7LLEpDOQFAZ8khjhFHbgVzWw+q/99CjYfVf++hTV0Pc39V8VQ6jcxXdt4f03T7sXAuZZ7bzcyODnG1nIVSecACl1TxndakdeVbO2t4tduI7i4RN5KOhLfKS3GSxJzn2xXP7D6r/AN9CjYfVf++hU20t/XT/ACQdb/1/Wp2trr8OhfCm+0iDU4bq71idG+zwq260jH+s3MQBltqDaM8DrXEU7YfVf++hRsPqv/fQpvVtgtFYbRTth9V/76FGw+q/99CgBtFO2H1X/voUbD6r/wB9CgBtFO2H1X/voUbD6r/30KAG0U7YfVf++hRsPqv/AH0KAG0U7YfVf++hRsPqv/fQoAbRTth9V/76FJtOSOOP9oUAdLp/jV7Hwp/wj8mhaXdWbTedK0puEkmftvaOVdwGeB0H15qbTfHr2FrZxTaHpt2dNmefTWm83/RCz79ow43qG5AfP1NcrsPqv/fQo2H1X/voU9b3FpsPu7qa+vJru5ffNPI0kjY+8zHJP5moqdsPqv8A30KNh9V/76FJK2iHe42inbD6r/30KNh9V/76FADaKdsPqv8A30KNh9V/76FADaKdsPqv/fQo2H1X/voUANop2w+q/wDfQo2H1X/voUANop2w+q/99CjYfVf++hQA2inbD6r/AN9CjYfVf++hQA2inbD6r/30KQqQM8f99CgBKmvf+P8AuP8Arq386hqa9/4/7j/rq386AIacvSm05elJgXdH/wCQ5Y/9fMf/AKEK2tQ/5Cd1/wBdn/8AQjWLo/8AyHLH/r5j/wDQhW1qH/ITuv8Ars//AKEaxX8b5fqT1K9FFFdAwqw3/Irat/2x/wDQ6r1Yb/kVtW/7Y/8AodY1/gXqvzQmctRRRWpRNe/8f9x/11b+dQ1Ne/8AH/cf9dW/nUNABRXoXgW6ttQtp7fVtE0lNB0+xma/vGtAZizA+WRM2WEhbaFVSB14q74bh06x0/wTYzaPYXq+IrmVb6W5t1eTaZfJUI5GU2j5vlwc1XK7pLrt87/5Cvpc8wor0nwWIR4im0S70fSZtF017htTv7i0V5DENwDGVslDwAoTGT2PNV/h5dQXuoJYXWiaS+iWqyz6ne3NoryCLBwTK2ShHAUJjJ9eahNNXXa43pfy/r+vVHn1Fb1j4Q1XULJNUhs3XSXnEZuiy4UFwnTOep9K7TxHb6ZeWvjXTIdH0+zj8OvF9hmggVJcLKImDuBmTcDn5ieafT+v66jtrb0XzeiPLaK9Lkjg1b4W6tqEthoDzILc2sGk26pcWI34Z5jjeVI45L8ntVPwv4KvNI8QvceKdJUx22nXN/BbTlXS4aJMgMATkZYEg9aNm79P+HEtUrdTgKK7nxDLa/8ACPeFPFH9k6aLq5NxHc20duIoJ/KcBWMabQMhsHGM4FUPibbW1n8Q9RhsbWC0gCwMsFvGERMwoTgDpySaAOVooooAKKKKACiiigAooooAKK73wBeaaui6hZQ3umaX4hmnQ2t5qtsssLRAHdGGdWWMk85I54Fa9nZLZ6X49g8Y2h00I9i09vpUSAf6wlfLGdoDcHPTnp2oejBao8ror0CfwBpVvrt5NJf3Y8P22lxar5mxTcPHKF2Rgfd3FmxnpxS2nw4tNc1rQ20G9uf7I1eCecNcRqZ4RBxIhAO1jnGDx972o8v66/5MV1a/9dP80efUV6defDHS7fXtEinur7TLTUjOjwX7QicPGoKhXU7PnyACcYPrXG+LtHg0LXmsra01S0VUBMOpxqsgPPQrwy8cMMUbFWZh0UUUCCiiigAooooAKKKKACiiigAooooAKKKKACivW/hd4GR7GPV9Y0WXUhqaTQ2SNbGSKFVjYmZzggEsAig85JI7VJ4C8P2zaFpUN9Y6Tb3U2pzJeQavbI097EoClINwLKynIwNp3Y5OCKdtWvT8WK+iZ5BRU14gjvp0WKSFVkYCKT7yYP3T7jpUNSndXKas7BRRRTEFFFFABRRRQAUUUUAFFFFABRRRQAUUUUAFTXv/AB/3H/XVv51DU17/AMf9x/11b+dAENOXpTacvSkwLuj/APIcsf8Ar5j/APQhW1qH/ITuv+uz/wDoRrF0f/kOWP8A18x/+hCtrUP+Qndf9dn/APQjWK/jfL9SepXoooroGFWG/wCRW1b/ALY/+h1Xqw3/ACK2rf8AbH/0Osa/wL1X5oTOWooorUomvf8Aj/uP+urfzqGpr3/j/uP+urfzqIKT0x+JAoA6eDxuYvC1voE/h/SbmygkMvzm4RpZD/G5jmUMccDI4HSn6L4/vNF061tl06xupdPkkl064nVy9mz/AHtuGAYZ5AYHB5rlth9V/wC+hRsPqv8A30KN7h0sdLZeOJLXwudBn0TS7y1kn8+Z5jcJJO+Tgu0cq7sZ4B4H15p1r45Nt4bfQj4e0iWxkuDcSKxuUaRsnaGZJlLBQcAHOMevNcxsPqv/AH0KNh9V/wC+hQA6SXdctLEiwZcsqRk4j5yACSTge5J966fWPiBe6xp1zA2n2NtPftE+oXUKNvuzH93cGYqOeSFAyea5bYfVf++hRsPqv/fQoA6e68cGTSr6003QtL0qXUkEd7PZpIDIgIO1VZyqAkDIUDPtWPoGuXXh3WI9RsVikdFZGimXdHKjKVZGGRkEE1Q2H1X/AL6FGw+q/wDfQo63DpY39T8WDU7nT1fRrBNN06No7fTQZfKAYksWYOHJJOc7uwqHxR4mfxVqX2+50yxs7pgBJJaGX96AoVch5GAwFA4A981jbD6r/wB9CjYfVf8AvoUANop2w+q/99CjYfVf++hQA2inbD6r/wB9CjYfVf8AvoUANop2w+q/99CjYfVf++hQA2inbD6r/wB9Ck2nOOP++hQBt6J4jttMsZLK/wBA0zVoGl81Tcq6yI2McSIytt4+6cip9T8c6pqy60t1Hagax5AmCRlREsJ+RYxngYwOc1z2w+q/99CjYfVf++hQ9dw2Oog+IOpRahHPNa2c8A0yPS5rR0by7iBAAN3zZ3cA7gRg9KVviDqUesabd6da2djbaXE8FrYRozQiN87w+4ln3Z5JPPtXLbD6r/30KNh9V/76FG7v/XX/ADf3gb8niXTzqMM8HhTSYoEV1ktt07LLv6kkyZBH8OCMVW8R+I5vEVxaF7WCzt7K2W1treAsVjjUkgZYlieTyTWTsPqv/fQo2H1X/voUBsNop2w+q/8AfQo2H1X/AL6FADaKdsPqv/fQo2H1X/voUANop2w+q/8AfQo2H1X/AL6FADaKdsPqv/fQo2H1X/voUANop2w+q/8AfQo2H1X/AL6FADaKdsPqv/fQo2H1X/voUANop2w+q/8AfQpNpyRxx/tCgDX0DxRqXh3Uoryyl8wxI6LDMzGPDKVPygj+8SPetLSvHk+n2NjDeaTYanLpkrTWFxdeZvgdm3HO1wHG7nDA81y+w+q/99CjYfVf++hR5i0H3d1NfXk13cvvmnkaSRsfeZjkn8zUVO2H1X/voUbD6r/30KEraId7jaKdsPqv/fQo2H1X/voUANop2w+q/wDfQo2H1X/voUANop2w+q/99CjYfVf++hQA2inbD6r/AN9CjYfVf++hQA2inbD6r/30KNh9V/76FADaKdsPqv8A30KNh9V/76FADaKdsPqv/fQpCpAzx/30KAEqa9/4/wC4/wCurfzqGpr3/j/uP+urfzoAhpy9KbTl6UmBd0f/AJDlj/18x/8AoQra1D/kJ3X/AF2f/wBCNYuj/wDIcsf+vmP/ANCFbWof8hO6/wCuz/8AoRrFfxvl+pPUr0UUV0DCrDf8itq3/bH/ANDqvVhv+RW1b/tj/wCh1jX+Beq/NCZy1FFFalE17/x/3H/XVv51DU17/wAf9x/11b+dQ0AFFek+BNe1W30a5utZutnhPTrWW2ktPLVY7yWRTti2gDe5JDbjkgDkitLwvqF3pWn/AA/0/Tfls9auphqUQTK3YM3lEOP4gI+gPTOarlbkkutvxvv935CvaNzySivUvBOqalpmrXoN95Hg3RZpzdrsUR3IYsFjbj967cAZzgemKrfDjXNWt2ae4uvsnhLS/MlvotiiOfeDiJhj947HAGc4HpioUk1ddrlNWuvOx5tRW/p/h2O9tItSk1PTIYHuFRrQ3YFwFLhThOvQ5+nNd/4ov7rUrbx/pWo4+waLJD/ZsBTC2u2YRqE/u7kJzjr1pvRL+trf5h1su6X37HkNFepR6vc+IfhTrqz60dZvUjglewlg8lNNjR8F4uNp42ghdvB71S8G+HxoXiWS8OoaXqVzbaXd3loLK4WcJNHHlSw7EZyP932o2bv0EtUrddP6+886orv/ABLrF7L4V8HeJbi4E2tE3UbXM0ayNIscg2FtwIbG4jkGqHxXcyfEzU3fG5kt2OBjkwR0AcfRRRQAUUUUAFFFFABRRRQBPDY3dxHvt7WaVM43JGWH6VHNDLbybJ4nifrtdSD+Rr0H4Qa1qkHiSWwg1K8jsxY3UotknYR7xESG2g4zkDn2qGA6ePCdt4p8ZwX3iS71C8e0Tzb518mONQSS/JLHdwCcYFD3suy/F2/MSd/v/S/5HA1Nb2dzdrMbW3lmEEZllMaFvLQdWbHQcjk+teiX3gzRPCc/iW91O3n1i10u6gtrW184xbvNTeGkZRkbV44xlqswaJZaNda++lCRLPUvCJv4oZW3NAJHT5C3fBBwfTFJu0XLsm/wuhrV/wBd7HllFd9eaFoU3w8jvfD2npqNzDapJf3S6gVuLSTdh91uRgx84DL9Sa4Gns2g6XCiiigAooooAKKKKACiiigAooooAKKKKACiiigAor03wL4it38Pab4XsNe1TQ9Tur+T97aW6vFI0gRY953hsZGOAetO8Cajruj6hdR6nfCDwzock39pqqKI7ljlfLPH71mPAzkgemKJaf19/wCYr6X/AK6nmFFK5DSMVXapJIHpSUFPRhRRRQIKKKKACiiigAooooAKKKKACiiigAooooAKmvf+P+4/66t/Ooamvf8Aj/uP+urfzoAhpy9KbTl6UmBd0f8A5Dlj/wBfMf8A6EK2tQ/5Cd1/12f/ANCNYuj/APIcsf8Ar5j/APQhW1qH/ITuv+uz/wDoRrFfxvl+pPUr0UUV0DCrDf8AIrat/wBsf/Q6r1Yb/kVtW/7Y/wDodY1/gXqvzQmctRRRWpRNe/8AH/cf9dW/nUNTXv8Ax/3H/XVv51EAD1YD65oA34fHGuQaNa6TvsZrG0z5ENxpltMIyTkkF4ycnuetJpPjfXdE042Wn3UaRB3eEvbxu9uzDDGJiCUJHB24rC2j++v6/wCFG0f31/X/AAo3BabG7Z+NtbstDi0eOSzl0+GQypBc6dbzgOerZkjJJ56+nFOh8da7BpK6Yr2D2KzNOtvNpdrIiuxJLANGcdcew4HHFYG0f31/X/CjaP76/r/hTAWWVpp3lcKGdixCIEUEnPCgAAewGBW7qfjjXtX00WV7doYyyNK8cCRyTlBhDI6gM5UdMk/nWDtH99f1/wAKNo/vr+v+FLyA6DUvHevarp1xZ3U1uq3ePtcsFnFFJdbTlfMdVBbHufrmsjStVvdE1SHUdLnNvdQEmOQAHGRg8HIIIJGDVbaP76/r/hRtH99f1/wo2dw6WNm/8XarqOp217dG0Y2kZjt7f7FCbeJTnIEJUp3J5HXnsKh17xLqfiW4W41h7eWdf+WsVnDCzcADcY1UtgAAZzjtWZtH99f1/wAKNo/vr+v+FADaKdtH99f1/wAKNo/vr+v+FADaKdtH99f1/wAKNo/vr+v+FADaKdtH99f1/wAKNo/vr+v+FADaKdtH99f1/wAKTaM43D680AXNJ1m/0K9N3pU/kTtE8RfYrfKw2sMMCOQav6H4w1fw/aSWthJA9u8gmENzbRzokoGBIocHaw9RWLtH99f1/wAKNo/vr+v+FAtDbsfGet2OoX959pS6fUjm9jvIUnjuDnI3IwIOD09O1KfGuuvq19qM92s9xfWrWk/mwoymIgDaFxtUDAxgDGKw9o/vr+v+FG0f31/X/Ci2lh36m7L411mXRG0vzLaOGSFbeSWKziSaSJcbY2kVQxUYHGe3NYFO2j++v6/4UbR/fX9f8KOtw6WG0U7aP76/r/hRtH99f1/woAbRTto/vr+v+FG0f31/X/CgBtFO2j++v6/4UbR/fX9f8KAG0U7aP76/r/hRtH99f1/woAbRTto/vr+v+FG0f31/X/CgBtFO2j++v6/4UbR/fX9f8KAG0U7aP76/r/hSbRk/MPrzQB0OleO9d0awhtbGa3Att32WaSziklttxJby5GUsucnv9MU218ca7a6NHpKzWk1jHK0yw3WnW9x87ZyxMkbEnnqT7Vg7R/fX9f8ACjaP76/r/hQAs0rTzvK4UNIxYhECKCTnhQAAPYDAplO2j++v6/4UbR/fX9f8KAG0U7aP76/r/hRtH99f1/woAbRTto/vr+v+FG0f31/X/CgBtFO2j++v6/4UbR/fX9f8KAG0U7aP76/r/hRtH99f1/woAbRTto/vr+v+FG0f31/X/CgBtFO2j++v6/4UbR/fX9f8KAG0U7aP76/r/hSFQBwwPtzQAlTXv/H/AHH/AF1b+dQ1Ne/8f9x/11b+dAENOXpTacvSkwLuj/8AIcsf+vmP/wBCFbWof8hO6/67P/6EaxdH/wCQ5Y/9fMf/AKEK2tQ/5Cd1/wBdn/8AQjWK/jfL9SepXoooroGFaFjDBeaXf2dxdx2vneXh3I7MT0JGen61n01kDfeGazqQ548t7f8AA1E9Sz/wiVh/0MFt/wB8r/8AF0f8IlYf9DBbf98r/wDF1V8pPT9aPKT0/WsfZVf+fj+5Cs+5dn8L2E1xJL/b9sN7FsbV4yf9+mf8IlYf9DBbf98r/wDF1V8pPT9aPKT0/Wj2VX/n4/uQWfctf8IlYf8AQwW3/fK//F0f8IlYf9DBbf8AfK//ABdVfKT0/Wjyk9P1o9lV/wCfj+5BZ9y1/wAIlYf9DBbf98r/APF0f8IlYf8AQwW3/fK//F1V8pPT9aPKT0/Wj2VX/n4/uQWfctf8IlYf9DBbf98r/wDF0f8ACJWH/QwW3/fK/wDxdVfKT0/Wjyk9P1o9lV/5+P7kFn3LX/CJWH/QwW3/AHyv/wAXR/wiVh/0MFt/3yv/AMXVXyk9P1o8pPT9aPZVf+fj+5BZ9y1/wiVh/wBDBbf98r/8XR/wiVh/0MFt/wB8r/8AF1V8pPT9aPKT0/Wj2VX/AJ+P7kFn3LX/AAiVh/0MFt/3yv8A8XR/wiVh/wBDBbf98r/8XVXyk9P1o8pPT9aPZVf+fj+5BZ9y1/wiVh/0MFt/3yv/AMXR/wAIlYf9DBbf98r/APF1V8pPT9aPKT0/Wj2VX/n4/uQWfctf8IlYf9DBbf8AfK//ABdH/CJWH/QwW3/fK/8AxdVfKT0/Wjyk9P1o9lV/5+P7kFn3LX/CJWH/AEMFt/3yv/xdH/CJWH/QwW3/AHyv/wAXVXyk9P1o8pPT9aPZVf8An4/uQWfctf8ACJWH/QwW3/fK/wDxdH/CJWH/AEMFt/3yv/xdVfKT0/Wjyk9P1o9lV/5+P7kFn3LX/CJWH/QwW3/fK/8AxdH/AAiVh/0MFt/3yv8A8XVXyk9P1o8pPT9aPZVf+fj+5BZ9y1/wiVh/0MFt/wB8r/8AF0f8IlYf9DBbf98r/wDF1V8pPT9aPKT0/Wj2VX/n4/uQWfctf8IlYf8AQwW3/fK//F0f8IlYf9DBbf8AfK//ABdVfKT0/Wjyk9P1o9lV/wCfj+5BZ9y1/wAIlYf9DBbf98r/APF0f8IlYf8AQwW3/fK//F1V8pPT9aPKT0/Wj2VX/n4/uQWfctf8IlYf9DBbf98r/wDF0f8ACJWH/QwW3/fK/wDxdVfKT0/Wjyk9P1o9lV/5+P7kFn3LX/CJWH/QwW3/AHyv/wAXR/wiVh/0MFt/3yv/AMXVXyk9P1o8pPT9aPZVf+fj+5BZ9y1/wiVh/wBDBbf98r/8XR/wiVh/0MFt/wB8r/8AF1V8pPT9aPKT0/Wj2VX/AJ+P7kFn3LX/AAiVh/0MFt/3yv8A8XR/wiVh/wBDBbf98r/8XVXyk9P1o8pPT9aPZVf+fj+5BZ9y1/wiVh/0MFt/3yv/AMXR/wAIlYf9DBbf98r/APF1V8pPT9aPKT0/Wj2VX/n4/uQWfctf8IlYf9DBbf8AfK//ABdH/CJWH/QwW3/fK/8AxdVfKT0/Wjyk9P1o9lV/5+P7kFn3LX/CJWH/AEMFt/3yv/xdH/CJWH/QwW3/AHyv/wAXVXyk9P1o8pPT9aPZVf8An4/uQWfctf8ACJWH/QwW3/fK/wDxdH/CJWH/AEMFt/3yv/xdVfKT0/Wjyk9P1o9lV/5+P7kFn3LX/CJWH/QwW3/fK/8AxdH/AAiVh/0MFt/3yv8A8XVXyk9P1o8pPT9aPZVf+fj+5BZ9y1/wiVh/0MFt/wB8r/8AF0f8IlYf9DBbf98r/wDF1V8pPT9aPKT0/Wj2VX/n4/uQWfctf8IlYf8AQwW3/fK//F0f8IlYf9DBbf8AfK//ABdVfKT0/Wjyk9P1o9lV/wCfj+5BZ9y1/wAIlYf9DBbf98r/APF0f8IlYf8AQwW3/fK//F1V8pPT9aPKT0/Wj2VX/n4/uQWfctf8IlYf9DBbf98r/wDF0f8ACJWH/QwW3/fK/wDxdVfKT0/Wjyk9P1o9lV/5+P7kFn3LX/CJWH/QwW3/AHyv/wAXR/wiVh/0MFt/3yv/AMXVXyk9P1o8pPT9aPZVf+fj+5BZ9y1/wiVh/wBDBbf98r/8XT5/C9hNcSS/2/bDexbG1eMn/fql5Sen60eUnp+tHsqv/Px/cgs+5a/4RKw/6GC2/wC+V/8Ai6UeFLAf8zBbf98r/wDF1U8pPT9aPKT0/Wj2NX/n4/uQWfc0rPw5YWl9Bcf27bP5MiybcKM4OcZ3VXvmV9QuHRgytKxBByCMmqvlJ6frTgMDAq6dKUZc0pXHYWiiitxn/9k=)"
      ],
      "metadata": {
        "id": "vVJaH7c-F-JS"
      }
    }
  ]
}